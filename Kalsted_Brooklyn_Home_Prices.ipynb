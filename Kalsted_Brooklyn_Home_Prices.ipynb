{
 "cells": [
  {
   "cell_type": "markdown",
   "metadata": {},
   "source": [
    "# Project Overview"
   ]
  },
  {
   "cell_type": "markdown",
   "metadata": {},
   "source": [
    "This project is a redo of what I did for General Assembly. I believe now that I have worked hard at coding and done many other projects, then I can vastly improve the previous project. The dataset is a documentation of property sales in Brooklyn, NY from 2003-2017. It can be found on Kaggle https://www.kaggle.com/tianhwu/brooklynhomes2003to2017. The target variable that I want to predict is the sale price of the properties. "
   ]
  },
  {
   "cell_type": "markdown",
   "metadata": {},
   "source": [
    "# Importing Basic Libraries"
   ]
  },
  {
   "cell_type": "code",
   "execution_count": 1,
   "metadata": {},
   "outputs": [],
   "source": [
    "#These are the libraries I typically use in my analysis so I find it easier to import them all at once\n",
    "#If I need more libraries I will import them as needed\n",
    "\n",
    "import matplotlib.pyplot as plt\n",
    "import numpy as np\n",
    "import pandas as pd\n",
    "import seaborn as sns\n",
    "plt.style.use('fivethirtyeight')\n",
    "%matplotlib inline"
   ]
  },
  {
   "cell_type": "markdown",
   "metadata": {},
   "source": [
    "# Initial Review of the Data"
   ]
  },
  {
   "cell_type": "code",
   "execution_count": 2,
   "metadata": {},
   "outputs": [
    {
     "name": "stderr",
     "output_type": "stream",
     "text": [
      "C:\\Users\\kalstedh\\AppData\\Local\\Continuum\\anaconda3\\lib\\site-packages\\IPython\\core\\interactiveshell.py:3049: DtypeWarning: Columns (40,41,43,45,46,47,86) have mixed types. Specify dtype option on import or set low_memory=False.\n",
      "  interactivity=interactivity, compiler=compiler, result=result)\n"
     ]
    }
   ],
   "source": [
    "#Reading in of the dataset\n",
    "\n",
    "brooklyn = pd.read_csv(\"brooklyn_sales_map.csv\")"
   ]
  },
  {
   "cell_type": "code",
   "execution_count": 3,
   "metadata": {},
   "outputs": [
    {
     "data": {
      "text/plain": [
       "(390883, 111)"
      ]
     },
     "execution_count": 3,
     "metadata": {},
     "output_type": "execute_result"
    }
   ],
   "source": [
    "#The beginning structure of this dataset contains 390,883 rows and 111 columns worth of data\n",
    "\n",
    "brooklyn.shape"
   ]
  },
  {
   "cell_type": "code",
   "execution_count": 4,
   "metadata": {},
   "outputs": [
    {
     "data": {
      "text/plain": [
       "Unnamed: 0                   int64\n",
       "borough                      int64\n",
       "neighborhood                object\n",
       "building_class_category     object\n",
       "tax_class                   object\n",
       "block                        int64\n",
       "lot                          int64\n",
       "easement                   float64\n",
       "building_class              object\n",
       "address                     object\n",
       "apartment_number            object\n",
       "zip_code                     int64\n",
       "residential_units            int64\n",
       "commercial_units             int64\n",
       "total_units                  int64\n",
       "land_sqft                  float64\n",
       "gross_sqft                 float64\n",
       "year_built                   int64\n",
       "tax_class_at_sale            int64\n",
       "building_class_at_sale      object\n",
       "sale_price                 float64\n",
       "sale_date                   object\n",
       "year_of_sale                 int64\n",
       "Borough                     object\n",
       "CD                         float64\n",
       "CT2010                     float64\n",
       "CB2010                     float64\n",
       "SchoolDist                 float64\n",
       "Council                    float64\n",
       "ZipCode                    float64\n",
       "                            ...   \n",
       "ExemptTot                  float64\n",
       "YearBuilt                  float64\n",
       "YearAlter1                 float64\n",
       "YearAlter2                 float64\n",
       "HistDist                    object\n",
       "Landmark                    object\n",
       "BuiltFAR                   float64\n",
       "ResidFAR                   float64\n",
       "CommFAR                    float64\n",
       "FacilFAR                   float64\n",
       "BoroCode                   float64\n",
       "BBL                        float64\n",
       "CondoNo                    float64\n",
       "Tract2010                  float64\n",
       "XCoord                     float64\n",
       "YCoord                     float64\n",
       "ZoneMap                     object\n",
       "ZMCode                      object\n",
       "Sanborn                     object\n",
       "TaxMap                     float64\n",
       "EDesigNum                   object\n",
       "APPBBL                     float64\n",
       "APPDate                     object\n",
       "PLUTOMapID                 float64\n",
       "FIRM07_FLA                 float64\n",
       "PFIRM15_FL                 float64\n",
       "Version                     object\n",
       "MAPPLUTO_F                 float64\n",
       "SHAPE_Leng                 float64\n",
       "SHAPE_Area                 float64\n",
       "Length: 111, dtype: object"
      ]
     },
     "execution_count": 4,
     "metadata": {},
     "output_type": "execute_result"
    }
   ],
   "source": [
    "#Here I am checking what the data types are for my potential explanatory variables\n",
    "#Looks like most of them are numeric (integers or floats)\n",
    "#There are definitely a few strings though that may have to be converted to dummy variables\n",
    "\n",
    "brooklyn.dtypes"
   ]
  },
  {
   "cell_type": "code",
   "execution_count": 5,
   "metadata": {},
   "outputs": [
    {
     "data": {
      "text/html": [
       "<div>\n",
       "<style scoped>\n",
       "    .dataframe tbody tr th:only-of-type {\n",
       "        vertical-align: middle;\n",
       "    }\n",
       "\n",
       "    .dataframe tbody tr th {\n",
       "        vertical-align: top;\n",
       "    }\n",
       "\n",
       "    .dataframe thead th {\n",
       "        text-align: right;\n",
       "    }\n",
       "</style>\n",
       "<table border=\"1\" class=\"dataframe\">\n",
       "  <thead>\n",
       "    <tr style=\"text-align: right;\">\n",
       "      <th></th>\n",
       "      <th>Unnamed: 0</th>\n",
       "      <th>borough</th>\n",
       "      <th>neighborhood</th>\n",
       "      <th>building_class_category</th>\n",
       "      <th>tax_class</th>\n",
       "      <th>block</th>\n",
       "      <th>lot</th>\n",
       "      <th>easement</th>\n",
       "      <th>building_class</th>\n",
       "      <th>address</th>\n",
       "      <th>...</th>\n",
       "      <th>EDesigNum</th>\n",
       "      <th>APPBBL</th>\n",
       "      <th>APPDate</th>\n",
       "      <th>PLUTOMapID</th>\n",
       "      <th>FIRM07_FLA</th>\n",
       "      <th>PFIRM15_FL</th>\n",
       "      <th>Version</th>\n",
       "      <th>MAPPLUTO_F</th>\n",
       "      <th>SHAPE_Leng</th>\n",
       "      <th>SHAPE_Area</th>\n",
       "    </tr>\n",
       "  </thead>\n",
       "  <tbody>\n",
       "    <tr>\n",
       "      <th>0</th>\n",
       "      <td>1</td>\n",
       "      <td>3</td>\n",
       "      <td>DOWNTOWN-METROTECH</td>\n",
       "      <td>28  COMMERCIAL CONDOS</td>\n",
       "      <td>4</td>\n",
       "      <td>140</td>\n",
       "      <td>1001</td>\n",
       "      <td>NaN</td>\n",
       "      <td>R5</td>\n",
       "      <td>330 JAY STREET</td>\n",
       "      <td>...</td>\n",
       "      <td>NaN</td>\n",
       "      <td>NaN</td>\n",
       "      <td>NaN</td>\n",
       "      <td>NaN</td>\n",
       "      <td>NaN</td>\n",
       "      <td>NaN</td>\n",
       "      <td>NaN</td>\n",
       "      <td>NaN</td>\n",
       "      <td>NaN</td>\n",
       "      <td>NaN</td>\n",
       "    </tr>\n",
       "    <tr>\n",
       "      <th>1</th>\n",
       "      <td>2</td>\n",
       "      <td>3</td>\n",
       "      <td>DOWNTOWN-FULTON FERRY</td>\n",
       "      <td>29  COMMERCIAL GARAGES</td>\n",
       "      <td>4</td>\n",
       "      <td>54</td>\n",
       "      <td>1</td>\n",
       "      <td>NaN</td>\n",
       "      <td>G7</td>\n",
       "      <td>85 JAY STREET</td>\n",
       "      <td>...</td>\n",
       "      <td>NaN</td>\n",
       "      <td>3.000540e+09</td>\n",
       "      <td>12/06/2002</td>\n",
       "      <td>1.0</td>\n",
       "      <td>NaN</td>\n",
       "      <td>NaN</td>\n",
       "      <td>17V1.1</td>\n",
       "      <td>0.0</td>\n",
       "      <td>1559.889144</td>\n",
       "      <td>140131.577176</td>\n",
       "    </tr>\n",
       "    <tr>\n",
       "      <th>2</th>\n",
       "      <td>3</td>\n",
       "      <td>3</td>\n",
       "      <td>BROOKLYN HEIGHTS</td>\n",
       "      <td>21  OFFICE BUILDINGS</td>\n",
       "      <td>4</td>\n",
       "      <td>204</td>\n",
       "      <td>1</td>\n",
       "      <td>NaN</td>\n",
       "      <td>O6</td>\n",
       "      <td>29 COLUMBIA HEIGHTS</td>\n",
       "      <td>...</td>\n",
       "      <td>NaN</td>\n",
       "      <td>0.000000e+00</td>\n",
       "      <td>NaN</td>\n",
       "      <td>1.0</td>\n",
       "      <td>NaN</td>\n",
       "      <td>NaN</td>\n",
       "      <td>17V1.1</td>\n",
       "      <td>0.0</td>\n",
       "      <td>890.718521</td>\n",
       "      <td>34656.447240</td>\n",
       "    </tr>\n",
       "    <tr>\n",
       "      <th>3</th>\n",
       "      <td>4</td>\n",
       "      <td>3</td>\n",
       "      <td>MILL BASIN</td>\n",
       "      <td>22  STORE BUILDINGS</td>\n",
       "      <td>4</td>\n",
       "      <td>8470</td>\n",
       "      <td>55</td>\n",
       "      <td>NaN</td>\n",
       "      <td>K6</td>\n",
       "      <td>5120 AVENUE U</td>\n",
       "      <td>...</td>\n",
       "      <td>NaN</td>\n",
       "      <td>0.000000e+00</td>\n",
       "      <td>NaN</td>\n",
       "      <td>1.0</td>\n",
       "      <td>1.0</td>\n",
       "      <td>1.0</td>\n",
       "      <td>17V1.1</td>\n",
       "      <td>0.0</td>\n",
       "      <td>3729.786857</td>\n",
       "      <td>797554.847834</td>\n",
       "    </tr>\n",
       "    <tr>\n",
       "      <th>4</th>\n",
       "      <td>5</td>\n",
       "      <td>3</td>\n",
       "      <td>BROOKLYN HEIGHTS</td>\n",
       "      <td>26 OTHER HOTELS</td>\n",
       "      <td>4</td>\n",
       "      <td>230</td>\n",
       "      <td>1</td>\n",
       "      <td>NaN</td>\n",
       "      <td>H8</td>\n",
       "      <td>21 CLARK STREET</td>\n",
       "      <td>...</td>\n",
       "      <td>NaN</td>\n",
       "      <td>0.000000e+00</td>\n",
       "      <td>NaN</td>\n",
       "      <td>1.0</td>\n",
       "      <td>NaN</td>\n",
       "      <td>NaN</td>\n",
       "      <td>17V1.1</td>\n",
       "      <td>0.0</td>\n",
       "      <td>620.761169</td>\n",
       "      <td>21360.147631</td>\n",
       "    </tr>\n",
       "  </tbody>\n",
       "</table>\n",
       "<p>5 rows × 111 columns</p>\n",
       "</div>"
      ],
      "text/plain": [
       "   Unnamed: 0  borough           neighborhood building_class_category  \\\n",
       "0           1        3     DOWNTOWN-METROTECH   28  COMMERCIAL CONDOS   \n",
       "1           2        3  DOWNTOWN-FULTON FERRY  29  COMMERCIAL GARAGES   \n",
       "2           3        3       BROOKLYN HEIGHTS    21  OFFICE BUILDINGS   \n",
       "3           4        3             MILL BASIN     22  STORE BUILDINGS   \n",
       "4           5        3       BROOKLYN HEIGHTS         26 OTHER HOTELS   \n",
       "\n",
       "  tax_class  block   lot  easement building_class              address  ...  \\\n",
       "0         4    140  1001       NaN             R5       330 JAY STREET  ...   \n",
       "1         4     54     1       NaN             G7        85 JAY STREET  ...   \n",
       "2         4    204     1       NaN             O6  29 COLUMBIA HEIGHTS  ...   \n",
       "3         4   8470    55       NaN             K6        5120 AVENUE U  ...   \n",
       "4         4    230     1       NaN             H8      21 CLARK STREET  ...   \n",
       "\n",
       "  EDesigNum        APPBBL     APPDate  PLUTOMapID  FIRM07_FLA  PFIRM15_FL  \\\n",
       "0       NaN           NaN         NaN         NaN         NaN         NaN   \n",
       "1       NaN  3.000540e+09  12/06/2002         1.0         NaN         NaN   \n",
       "2       NaN  0.000000e+00         NaN         1.0         NaN         NaN   \n",
       "3       NaN  0.000000e+00         NaN         1.0         1.0         1.0   \n",
       "4       NaN  0.000000e+00         NaN         1.0         NaN         NaN   \n",
       "\n",
       "   Version  MAPPLUTO_F   SHAPE_Leng     SHAPE_Area  \n",
       "0      NaN         NaN          NaN            NaN  \n",
       "1   17V1.1         0.0  1559.889144  140131.577176  \n",
       "2   17V1.1         0.0   890.718521   34656.447240  \n",
       "3   17V1.1         0.0  3729.786857  797554.847834  \n",
       "4   17V1.1         0.0   620.761169   21360.147631  \n",
       "\n",
       "[5 rows x 111 columns]"
      ]
     },
     "execution_count": 5,
     "metadata": {},
     "output_type": "execute_result"
    }
   ],
   "source": [
    "#A brief look at the beginning of the dataset\n",
    "\n",
    "brooklyn.head()"
   ]
  },
  {
   "cell_type": "code",
   "execution_count": 6,
   "metadata": {},
   "outputs": [
    {
     "data": {
      "text/html": [
       "<div>\n",
       "<style scoped>\n",
       "    .dataframe tbody tr th:only-of-type {\n",
       "        vertical-align: middle;\n",
       "    }\n",
       "\n",
       "    .dataframe tbody tr th {\n",
       "        vertical-align: top;\n",
       "    }\n",
       "\n",
       "    .dataframe thead th {\n",
       "        text-align: right;\n",
       "    }\n",
       "</style>\n",
       "<table border=\"1\" class=\"dataframe\">\n",
       "  <thead>\n",
       "    <tr style=\"text-align: right;\">\n",
       "      <th></th>\n",
       "      <th>Unnamed: 0</th>\n",
       "      <th>borough</th>\n",
       "      <th>neighborhood</th>\n",
       "      <th>building_class_category</th>\n",
       "      <th>tax_class</th>\n",
       "      <th>block</th>\n",
       "      <th>lot</th>\n",
       "      <th>easement</th>\n",
       "      <th>building_class</th>\n",
       "      <th>address</th>\n",
       "      <th>...</th>\n",
       "      <th>EDesigNum</th>\n",
       "      <th>APPBBL</th>\n",
       "      <th>APPDate</th>\n",
       "      <th>PLUTOMapID</th>\n",
       "      <th>FIRM07_FLA</th>\n",
       "      <th>PFIRM15_FL</th>\n",
       "      <th>Version</th>\n",
       "      <th>MAPPLUTO_F</th>\n",
       "      <th>SHAPE_Leng</th>\n",
       "      <th>SHAPE_Area</th>\n",
       "    </tr>\n",
       "  </thead>\n",
       "  <tbody>\n",
       "    <tr>\n",
       "      <th>390878</th>\n",
       "      <td>390879</td>\n",
       "      <td>3</td>\n",
       "      <td>WYCKOFF HEIGHTS</td>\n",
       "      <td>31  COMMERCIAL VACANT LAND</td>\n",
       "      <td>1</td>\n",
       "      <td>3337</td>\n",
       "      <td>19</td>\n",
       "      <td>NaN</td>\n",
       "      <td>C0</td>\n",
       "      <td>364 LINDEN STREET</td>\n",
       "      <td>...</td>\n",
       "      <td>NaN</td>\n",
       "      <td>0.0</td>\n",
       "      <td>NaN</td>\n",
       "      <td>1.0</td>\n",
       "      <td>NaN</td>\n",
       "      <td>NaN</td>\n",
       "      <td>17V1.1</td>\n",
       "      <td>0.0</td>\n",
       "      <td>244.422014</td>\n",
       "      <td>2501.088819</td>\n",
       "    </tr>\n",
       "    <tr>\n",
       "      <th>390879</th>\n",
       "      <td>390880</td>\n",
       "      <td>3</td>\n",
       "      <td>WYCKOFF HEIGHTS</td>\n",
       "      <td>31  COMMERCIAL VACANT LAND</td>\n",
       "      <td>1</td>\n",
       "      <td>3337</td>\n",
       "      <td>19</td>\n",
       "      <td>NaN</td>\n",
       "      <td>C0</td>\n",
       "      <td>364 LINDEN STREET</td>\n",
       "      <td>...</td>\n",
       "      <td>NaN</td>\n",
       "      <td>0.0</td>\n",
       "      <td>NaN</td>\n",
       "      <td>1.0</td>\n",
       "      <td>NaN</td>\n",
       "      <td>NaN</td>\n",
       "      <td>17V1.1</td>\n",
       "      <td>0.0</td>\n",
       "      <td>244.422014</td>\n",
       "      <td>2501.088819</td>\n",
       "    </tr>\n",
       "    <tr>\n",
       "      <th>390880</th>\n",
       "      <td>390881</td>\n",
       "      <td>3</td>\n",
       "      <td>WYCKOFF HEIGHTS</td>\n",
       "      <td>41  TAX CLASS 4 - OTHER</td>\n",
       "      <td>4</td>\n",
       "      <td>3280</td>\n",
       "      <td>50</td>\n",
       "      <td>NaN</td>\n",
       "      <td>Z9</td>\n",
       "      <td>383 HARMAN STREET</td>\n",
       "      <td>...</td>\n",
       "      <td>NaN</td>\n",
       "      <td>0.0</td>\n",
       "      <td>NaN</td>\n",
       "      <td>1.0</td>\n",
       "      <td>NaN</td>\n",
       "      <td>NaN</td>\n",
       "      <td>17V1.1</td>\n",
       "      <td>0.0</td>\n",
       "      <td>231.409296</td>\n",
       "      <td>2795.673780</td>\n",
       "    </tr>\n",
       "    <tr>\n",
       "      <th>390881</th>\n",
       "      <td>390882</td>\n",
       "      <td>3</td>\n",
       "      <td>3004</td>\n",
       "      <td>04  TAX CLASS 1 CONDOS</td>\n",
       "      <td>NaN</td>\n",
       "      <td>6886</td>\n",
       "      <td>1107</td>\n",
       "      <td>NaN</td>\n",
       "      <td>NaN</td>\n",
       "      <td>14 BAY 47TH STREET</td>\n",
       "      <td>...</td>\n",
       "      <td>NaN</td>\n",
       "      <td>NaN</td>\n",
       "      <td>NaN</td>\n",
       "      <td>NaN</td>\n",
       "      <td>NaN</td>\n",
       "      <td>NaN</td>\n",
       "      <td>NaN</td>\n",
       "      <td>NaN</td>\n",
       "      <td>NaN</td>\n",
       "      <td>NaN</td>\n",
       "    </tr>\n",
       "    <tr>\n",
       "      <th>390882</th>\n",
       "      <td>390883</td>\n",
       "      <td>3</td>\n",
       "      <td>3004</td>\n",
       "      <td>04  TAX CLASS 1 CONDOS</td>\n",
       "      <td>NaN</td>\n",
       "      <td>6886</td>\n",
       "      <td>1109</td>\n",
       "      <td>NaN</td>\n",
       "      <td>NaN</td>\n",
       "      <td>14 BAY 47 STREET</td>\n",
       "      <td>...</td>\n",
       "      <td>NaN</td>\n",
       "      <td>NaN</td>\n",
       "      <td>NaN</td>\n",
       "      <td>NaN</td>\n",
       "      <td>NaN</td>\n",
       "      <td>NaN</td>\n",
       "      <td>NaN</td>\n",
       "      <td>NaN</td>\n",
       "      <td>NaN</td>\n",
       "      <td>NaN</td>\n",
       "    </tr>\n",
       "  </tbody>\n",
       "</table>\n",
       "<p>5 rows × 111 columns</p>\n",
       "</div>"
      ],
      "text/plain": [
       "        Unnamed: 0  borough     neighborhood     building_class_category  \\\n",
       "390878      390879        3  WYCKOFF HEIGHTS  31  COMMERCIAL VACANT LAND   \n",
       "390879      390880        3  WYCKOFF HEIGHTS  31  COMMERCIAL VACANT LAND   \n",
       "390880      390881        3  WYCKOFF HEIGHTS     41  TAX CLASS 4 - OTHER   \n",
       "390881      390882        3             3004      04  TAX CLASS 1 CONDOS   \n",
       "390882      390883        3             3004      04  TAX CLASS 1 CONDOS   \n",
       "\n",
       "       tax_class  block   lot  easement building_class             address  \\\n",
       "390878         1   3337    19       NaN             C0   364 LINDEN STREET   \n",
       "390879         1   3337    19       NaN             C0   364 LINDEN STREET   \n",
       "390880         4   3280    50       NaN             Z9   383 HARMAN STREET   \n",
       "390881       NaN   6886  1107       NaN            NaN  14 BAY 47TH STREET   \n",
       "390882       NaN   6886  1109       NaN            NaN    14 BAY 47 STREET   \n",
       "\n",
       "        ... EDesigNum  APPBBL  APPDate  PLUTOMapID  FIRM07_FLA  PFIRM15_FL  \\\n",
       "390878  ...       NaN     0.0      NaN         1.0         NaN         NaN   \n",
       "390879  ...       NaN     0.0      NaN         1.0         NaN         NaN   \n",
       "390880  ...       NaN     0.0      NaN         1.0         NaN         NaN   \n",
       "390881  ...       NaN     NaN      NaN         NaN         NaN         NaN   \n",
       "390882  ...       NaN     NaN      NaN         NaN         NaN         NaN   \n",
       "\n",
       "        Version  MAPPLUTO_F  SHAPE_Leng   SHAPE_Area  \n",
       "390878   17V1.1         0.0  244.422014  2501.088819  \n",
       "390879   17V1.1         0.0  244.422014  2501.088819  \n",
       "390880   17V1.1         0.0  231.409296  2795.673780  \n",
       "390881      NaN         NaN         NaN          NaN  \n",
       "390882      NaN         NaN         NaN          NaN  \n",
       "\n",
       "[5 rows x 111 columns]"
      ]
     },
     "execution_count": 6,
     "metadata": {},
     "output_type": "execute_result"
    }
   ],
   "source": [
    "#A brief look at the end of the dataset\n",
    "\n",
    "brooklyn.tail()"
   ]
  },
  {
   "cell_type": "code",
   "execution_count": 7,
   "metadata": {},
   "outputs": [],
   "source": [
    "#Here I am just dropping the first column of \"unnamed\" since it has no use \n",
    "\n",
    "brooklyn = brooklyn.drop(brooklyn.columns[0], axis=1)"
   ]
  },
  {
   "cell_type": "code",
   "execution_count": 8,
   "metadata": {},
   "outputs": [
    {
     "data": {
      "text/plain": [
       "Index(['borough', 'neighborhood', 'building_class_category', 'tax_class',\n",
       "       'block', 'lot', 'easement', 'building_class', 'address',\n",
       "       'apartment_number',\n",
       "       ...\n",
       "       'EDesigNum', 'APPBBL', 'APPDate', 'PLUTOMapID', 'FIRM07_FLA',\n",
       "       'PFIRM15_FL', 'Version', 'MAPPLUTO_F', 'SHAPE_Leng', 'SHAPE_Area'],\n",
       "      dtype='object', length=110)"
      ]
     },
     "execution_count": 8,
     "metadata": {},
     "output_type": "execute_result"
    }
   ],
   "source": [
    "#There are so many columns in this dataset that even trying to look at them as a whole seems inefficient\n",
    "\n",
    "brooklyn.columns"
   ]
  },
  {
   "cell_type": "markdown",
   "metadata": {},
   "source": [
    "#### Various Defintions for Non-Obvious Columns"
   ]
  },
  {
   "cell_type": "markdown",
   "metadata": {},
   "source": [
    "1. 'AreaSource' A code indicating the source file that was used to determine the tax lot's TOTAL BUILDING FLOOR AREA (BldgArea)\n",
    "\n",
    "2. 'Easements', 'easement' we delete both. The number of easements on the tax lot. As this is not important for most of the sales.\n",
    "\n",
    "3. 'OwnerType' A code indicating type of ownership for the tax lot\n",
    "\n",
    "4. 'building_class_category' same as 'building_class'\n",
    "\n",
    "5. 'CT2010' The 2010 census tract that the tax lot is located in. \n",
    "\n",
    "6. 'CB2010' The 2010 census block that the tax lot is located in. \n",
    "\n",
    "7. 'ZoneDist1' The zoning district classification of the tax lot, ZONING DISTRICT 1 represents the zoning district classification occupying the greatest percentage of the tax lot’s area.\n",
    "\n",
    "8. 'ZoneDist2' If the tax lot is divided by zoning boundary lines,Zoning, ZONING DISTRICT 2 represents the zoning classification occupying the second greatest percentage of the tax lot's area.\n",
    "\n",
    "9. 'ZoneDist3'If the tax lot is divided by zoning boundary lines, ZONING, ZONING DISTRICT 3 represents the zoning classification occupying the third greatest percentage of the tax lot's area. \n",
    "\n",
    "10. 'ZoneDist4' If the tax lot is divided by zoning boundary lines, Zoning, ZONING DISTRICT 4 represents the zoning classification occupying the fourth greatest percentage of the tax lot's area.\n",
    "\n",
    "11. 'Overlay1' The commercial overlay assigned to the tax lot. 'Overlay2' A commercial overlay associated with the tax lot.\n",
    "\n",
    "12. 'SPDist1' The special purpose district assigned to the tax lot.SPECIAL PURPOSE DISTRICT 1 represents the special purpose district occupying the greatest percentage of the lot area.\n",
    "\n",
    "13.  'SPDist2' SPECIAL PURPOSE DISTRICT 2 represents the special purpose district occupying the second greatest percentage of the lot area.\n",
    "\n",
    "14. 'SPDist3' SPECIAL PURPOSE DISTRICT 3 represents the special purpose district occupying the smallest percentage of the lot area.\n",
    "\n",
    "15. 'LtdHeight' Limited height districts are coded using the three to five character district symbols\n",
    "\n",
    "16. 'BoroCode' same as 'Borough'\n",
    "\n",
    "17. 'BBL' A concatenation of the borough code, tax block and tax lot.\n",
    "\n",
    "18. 'Tract2010' The 2010 census tract that the tax lot is located in.\n",
    "\n",
    "19. 'ZoneMap' The Department of City Planning Zoning Map Number associated with the tax lot’s X and Y Coordinates.\n",
    "\n",
    "20. 'ZMCode' A code (Y) identifies a border Tax Lot, i.e., a Tax Lot on the border of two or more Zoning Maps\n",
    "\n",
    "21. 'Sanborn' The Sanborn Map Company map number associated with the tax block and lot.\n",
    "\n",
    "22. 'TaxMap' The Department of Finance paper tax map Volume Number associated with the tax block and lot.\n",
    "\n",
    "23. 'EDesigNum' The E-Designation number assigned to the tax lot.\n",
    "\n",
    "24. 'PLUTOMapID' A code indicating whether the tax lot is in the PLUTO file and/or the modified DTM and/or the modified DTM Clipped to the Shoreline File.\n",
    "\n",
    "25. 'FIRM07_FLA' A one character field. Code of 1 means that some portion of the tax lot falls within the 1% annual chance floodplain as determined by FEMA’s 2007 Flood Insurance Rate Map.\n",
    "\n",
    "26. 'PFIRM15_FL' A one character field. Code of 1 means that some portion of the tax lot falls within the 1% annual chance floodplain as determined by FEMA’s 2015 Preliminary Flood Insurance Rate Map.\n",
    "\n",
    "27. 'Version' The Version Number related to the release of PLUTO.\n",
    "\n",
    "28. 'MAPPLUTO_F' No description found.\n",
    "\n",
    "29. 'APPBBL' The originating Borough, Tax Block and Tax Lot from the apportionment prior to the merge, split or property’s conversion to a condominium. The Apportionment BBL is only available for mergers, splits and conversions since 1984.\n",
    "\n",
    "20. 'APPDate' The date of the Apportionment.\n",
    "\n",
    "21. 'SHAPE_Leng', 'SHAPE_Area no description of both\n",
    "\n",
    "22. 'CD' The community district (CD) or joint interest area (JIA) that the tax lot is located in, or partially located in.\n",
    "\n",
    "23. 'SanitBoro' The Boro of the Sanitation District that services the tax lot.\n",
    "\n",
    "24. 'SanitDistr' The Sanitation District that services the tax lot.\n",
    "\n",
    "25. 'FireComp' The fire company that services the tax lot.\n",
    "\n",
    "26. 'SanitSub' The Subsection of the Sanitation District that services the tax lot."
   ]
  },
  {
   "cell_type": "markdown",
   "metadata": {},
   "source": [
    "#### Dropping Irrelevant Columns"
   ]
  },
  {
   "cell_type": "markdown",
   "metadata": {},
   "source": [
    "Dropping irrelevant columns will make my analysis much simpler. I had done this on the first project, but now knowing the definitions of all of the columns is making this easier"
   ]
  },
  {
   "cell_type": "code",
   "execution_count": 9,
   "metadata": {},
   "outputs": [],
   "source": [
    "#I am dropping CT2010 because the census tract for the tax lot location is not important\n",
    "#I am dropping CB2010 because the census block for the tax lot location is not important\n",
    "#I am dropping BBL because it includes borough, tax block and tax lot. It's sort of nonsensical\n",
    "#I am dropping Tract2010 since it's the same idea as CT2010\n",
    "#I am dropping ZMCode, XCoord, and YCoord since those are all included in ZoneMap\n",
    "#I am dropping EDesigNum since we already have the tax lot\n",
    "#I am dropping PLUTOMapID since that's not important\n",
    "#I am dropping FIRM07_FLA and PFIRM15_FL because flooding in Brooklyn is rare. This isn't Florida or New Orleans\n",
    "#I am dropping Version since it's not important\n",
    "#I am dropping MAPPLUTO_F since there's no description\n",
    "#I am dropping APPBBL since everything is in Brooklyn, there's no differing boroughs\n",
    "#I am dropping APPDate since that's not important\n",
    "#I am dropping SHAPE_Leng and SHAPE_Area since there's no description for either\n",
    "#I am dropping CD since we already have tax lot\n",
    "#I am dropping address since that's the value. Address would only matter if we looked at a time series of that address\n",
    "#I am dropping CondoNo since that's not important\n",
    "#I am dropping apartment_number since that's not important\n",
    "#I am dropping Ext because the extension code is not important\n",
    "#I am dropping both Borough and borough because it's all the same borugh (Brooklyn duh)\n",
    "#I am dropping BoroCode since it's all the same borough\n",
    "#I am dropping Sanborn since it's not important\n",
    "#I am droppng BldgClass since it's the same as building_class\n",
    "#I am dropping lot and block because those are both included in TaxMap\n",
    "#I am dropping building_class_category because it's the same as building class\n",
    "#I am dropping building_class since we have building class at sale and that seems more important\n",
    "#I am dropping tax_class since we have tax class at sale and that seems more important\n",
    "#I am dropping 'BuiltFAR', 'ResidFAR', 'CommFAR', and 'FaciLFAR' since they all have to do with MAPPLUTO\n",
    "#I am dropping neighborhood since that's getting too granular. Zip code would be better\n",
    "#I am dropping PolicPrct, Council, SchooolDist and FireComp because those should be encoded with zip code\n",
    "#The goal is to make this model clear and not needlessly complex\n",
    "\n",
    "\n",
    "\n",
    "\n",
    "brooklyn = brooklyn.drop(['CT2010', 'CB2010', 'BBL', 'Tract2010', 'ZMCode', 'XCoord', 'YCoord',\n",
    "                         'EDesigNum', 'PLUTOMapID', 'FIRM07_FLA', 'PFIRM15_FL', 'Version', 'MAPPLUTO_F',\n",
    "                         'APPBBL', 'APPDate', 'SHAPE_Leng', 'SHAPE_Area', 'CD', 'CondoNo', 'address',\n",
    "                         'apartment_number', 'Ext', 'Borough', 'borough', 'BoroCode', 'Sanborn', 'BldgClass',\n",
    "                         'lot', 'block', 'building_class_category', 'building_class', 'tax_class',\n",
    "                         'BuiltFAR', 'ResidFAR', 'CommFAR', 'FacilFAR', 'neighborhood', 'FireComp',\n",
    "                         'PolicePrct', 'Council', 'SchoolDist'], axis = 'columns')"
   ]
  },
  {
   "cell_type": "code",
   "execution_count": 10,
   "metadata": {},
   "outputs": [
    {
     "data": {
      "text/html": [
       "<div>\n",
       "<style scoped>\n",
       "    .dataframe tbody tr th:only-of-type {\n",
       "        vertical-align: middle;\n",
       "    }\n",
       "\n",
       "    .dataframe tbody tr th {\n",
       "        vertical-align: top;\n",
       "    }\n",
       "\n",
       "    .dataframe thead th {\n",
       "        text-align: right;\n",
       "    }\n",
       "</style>\n",
       "<table border=\"1\" class=\"dataframe\">\n",
       "  <thead>\n",
       "    <tr style=\"text-align: right;\">\n",
       "      <th></th>\n",
       "      <th>easement</th>\n",
       "      <th>zip_code</th>\n",
       "      <th>residential_units</th>\n",
       "      <th>commercial_units</th>\n",
       "      <th>total_units</th>\n",
       "      <th>land_sqft</th>\n",
       "      <th>gross_sqft</th>\n",
       "      <th>year_built</th>\n",
       "      <th>tax_class_at_sale</th>\n",
       "      <th>sale_price</th>\n",
       "      <th>...</th>\n",
       "      <th>LotType</th>\n",
       "      <th>BsmtCode</th>\n",
       "      <th>AssessLand</th>\n",
       "      <th>AssessTot</th>\n",
       "      <th>ExemptLand</th>\n",
       "      <th>ExemptTot</th>\n",
       "      <th>YearBuilt</th>\n",
       "      <th>YearAlter1</th>\n",
       "      <th>YearAlter2</th>\n",
       "      <th>TaxMap</th>\n",
       "    </tr>\n",
       "  </thead>\n",
       "  <tbody>\n",
       "    <tr>\n",
       "      <th>count</th>\n",
       "      <td>0.0</td>\n",
       "      <td>390883.000000</td>\n",
       "      <td>390883.000000</td>\n",
       "      <td>390883.000000</td>\n",
       "      <td>390883.000000</td>\n",
       "      <td>3.908830e+05</td>\n",
       "      <td>3.908830e+05</td>\n",
       "      <td>390883.000000</td>\n",
       "      <td>390883.000000</td>\n",
       "      <td>3.908830e+05</td>\n",
       "      <td>...</td>\n",
       "      <td>303706.000000</td>\n",
       "      <td>303706.000000</td>\n",
       "      <td>3.037280e+05</td>\n",
       "      <td>3.037280e+05</td>\n",
       "      <td>3.037280e+05</td>\n",
       "      <td>3.037280e+05</td>\n",
       "      <td>303728.000000</td>\n",
       "      <td>303728.000000</td>\n",
       "      <td>303728.000000</td>\n",
       "      <td>303710.000000</td>\n",
       "    </tr>\n",
       "    <tr>\n",
       "      <th>mean</th>\n",
       "      <td>NaN</td>\n",
       "      <td>11208.429087</td>\n",
       "      <td>2.486138</td>\n",
       "      <td>0.174142</td>\n",
       "      <td>2.673227</td>\n",
       "      <td>2.368464e+03</td>\n",
       "      <td>2.970877e+03</td>\n",
       "      <td>1701.666307</td>\n",
       "      <td>1.642660</td>\n",
       "      <td>5.067545e+05</td>\n",
       "      <td>...</td>\n",
       "      <td>4.742886</td>\n",
       "      <td>2.439326</td>\n",
       "      <td>1.209784e+05</td>\n",
       "      <td>7.813468e+05</td>\n",
       "      <td>4.136623e+04</td>\n",
       "      <td>8.105911e+04</td>\n",
       "      <td>1879.716700</td>\n",
       "      <td>295.778483</td>\n",
       "      <td>34.019662</td>\n",
       "      <td>31396.728152</td>\n",
       "    </tr>\n",
       "    <tr>\n",
       "      <th>std</th>\n",
       "      <td>NaN</td>\n",
       "      <td>361.207836</td>\n",
       "      <td>48.200178</td>\n",
       "      <td>1.653362</td>\n",
       "      <td>48.233343</td>\n",
       "      <td>2.509129e+04</td>\n",
       "      <td>1.453960e+04</td>\n",
       "      <td>636.764362</td>\n",
       "      <td>0.906378</td>\n",
       "      <td>2.353965e+06</td>\n",
       "      <td>...</td>\n",
       "      <td>0.701608</td>\n",
       "      <td>1.559428</td>\n",
       "      <td>7.152424e+05</td>\n",
       "      <td>3.227031e+06</td>\n",
       "      <td>2.495788e+05</td>\n",
       "      <td>1.524291e+06</td>\n",
       "      <td>317.759012</td>\n",
       "      <td>710.334178</td>\n",
       "      <td>259.086380</td>\n",
       "      <td>754.905314</td>\n",
       "    </tr>\n",
       "    <tr>\n",
       "      <th>min</th>\n",
       "      <td>NaN</td>\n",
       "      <td>0.000000</td>\n",
       "      <td>0.000000</td>\n",
       "      <td>0.000000</td>\n",
       "      <td>0.000000</td>\n",
       "      <td>0.000000e+00</td>\n",
       "      <td>0.000000e+00</td>\n",
       "      <td>0.000000</td>\n",
       "      <td>1.000000</td>\n",
       "      <td>0.000000e+00</td>\n",
       "      <td>...</td>\n",
       "      <td>0.000000</td>\n",
       "      <td>0.000000</td>\n",
       "      <td>0.000000e+00</td>\n",
       "      <td>0.000000e+00</td>\n",
       "      <td>0.000000e+00</td>\n",
       "      <td>0.000000e+00</td>\n",
       "      <td>0.000000</td>\n",
       "      <td>0.000000</td>\n",
       "      <td>0.000000</td>\n",
       "      <td>3.000000</td>\n",
       "    </tr>\n",
       "    <tr>\n",
       "      <th>25%</th>\n",
       "      <td>NaN</td>\n",
       "      <td>11209.000000</td>\n",
       "      <td>1.000000</td>\n",
       "      <td>0.000000</td>\n",
       "      <td>1.000000</td>\n",
       "      <td>0.000000e+00</td>\n",
       "      <td>0.000000e+00</td>\n",
       "      <td>1905.000000</td>\n",
       "      <td>1.000000</td>\n",
       "      <td>0.000000e+00</td>\n",
       "      <td>...</td>\n",
       "      <td>5.000000</td>\n",
       "      <td>1.000000</td>\n",
       "      <td>6.137000e+03</td>\n",
       "      <td>2.329600e+04</td>\n",
       "      <td>0.000000e+00</td>\n",
       "      <td>0.000000e+00</td>\n",
       "      <td>1910.000000</td>\n",
       "      <td>0.000000</td>\n",
       "      <td>0.000000</td>\n",
       "      <td>30611.000000</td>\n",
       "    </tr>\n",
       "    <tr>\n",
       "      <th>50%</th>\n",
       "      <td>NaN</td>\n",
       "      <td>11219.000000</td>\n",
       "      <td>1.000000</td>\n",
       "      <td>0.000000</td>\n",
       "      <td>1.000000</td>\n",
       "      <td>1.900000e+03</td>\n",
       "      <td>1.820000e+03</td>\n",
       "      <td>1925.000000</td>\n",
       "      <td>1.000000</td>\n",
       "      <td>2.750000e+05</td>\n",
       "      <td>...</td>\n",
       "      <td>5.000000</td>\n",
       "      <td>2.000000</td>\n",
       "      <td>9.900000e+03</td>\n",
       "      <td>3.438000e+04</td>\n",
       "      <td>0.000000e+00</td>\n",
       "      <td>0.000000e+00</td>\n",
       "      <td>1926.000000</td>\n",
       "      <td>0.000000</td>\n",
       "      <td>0.000000</td>\n",
       "      <td>31506.000000</td>\n",
       "    </tr>\n",
       "    <tr>\n",
       "      <th>75%</th>\n",
       "      <td>NaN</td>\n",
       "      <td>11230.000000</td>\n",
       "      <td>2.000000</td>\n",
       "      <td>0.000000</td>\n",
       "      <td>2.000000</td>\n",
       "      <td>2.500000e+03</td>\n",
       "      <td>3.000000e+03</td>\n",
       "      <td>1954.000000</td>\n",
       "      <td>2.000000</td>\n",
       "      <td>5.930000e+05</td>\n",
       "      <td>...</td>\n",
       "      <td>5.000000</td>\n",
       "      <td>4.000000</td>\n",
       "      <td>2.275100e+04</td>\n",
       "      <td>9.553500e+04</td>\n",
       "      <td>1.550000e+03</td>\n",
       "      <td>1.550000e+03</td>\n",
       "      <td>1945.000000</td>\n",
       "      <td>0.000000</td>\n",
       "      <td>0.000000</td>\n",
       "      <td>32005.000000</td>\n",
       "    </tr>\n",
       "    <tr>\n",
       "      <th>max</th>\n",
       "      <td>NaN</td>\n",
       "      <td>33803.000000</td>\n",
       "      <td>20811.000000</td>\n",
       "      <td>355.000000</td>\n",
       "      <td>20811.000000</td>\n",
       "      <td>7.446955e+06</td>\n",
       "      <td>2.548000e+06</td>\n",
       "      <td>2017.000000</td>\n",
       "      <td>4.000000</td>\n",
       "      <td>4.994012e+08</td>\n",
       "      <td>...</td>\n",
       "      <td>9.000000</td>\n",
       "      <td>5.000000</td>\n",
       "      <td>6.113954e+07</td>\n",
       "      <td>5.464840e+08</td>\n",
       "      <td>6.113954e+07</td>\n",
       "      <td>5.464840e+08</td>\n",
       "      <td>2017.000000</td>\n",
       "      <td>2017.000000</td>\n",
       "      <td>2017.000000</td>\n",
       "      <td>32605.000000</td>\n",
       "    </tr>\n",
       "  </tbody>\n",
       "</table>\n",
       "<p>8 rows × 48 columns</p>\n",
       "</div>"
      ],
      "text/plain": [
       "       easement       zip_code  residential_units  commercial_units  \\\n",
       "count       0.0  390883.000000      390883.000000     390883.000000   \n",
       "mean        NaN   11208.429087           2.486138          0.174142   \n",
       "std         NaN     361.207836          48.200178          1.653362   \n",
       "min         NaN       0.000000           0.000000          0.000000   \n",
       "25%         NaN   11209.000000           1.000000          0.000000   \n",
       "50%         NaN   11219.000000           1.000000          0.000000   \n",
       "75%         NaN   11230.000000           2.000000          0.000000   \n",
       "max         NaN   33803.000000       20811.000000        355.000000   \n",
       "\n",
       "         total_units     land_sqft    gross_sqft     year_built  \\\n",
       "count  390883.000000  3.908830e+05  3.908830e+05  390883.000000   \n",
       "mean        2.673227  2.368464e+03  2.970877e+03    1701.666307   \n",
       "std        48.233343  2.509129e+04  1.453960e+04     636.764362   \n",
       "min         0.000000  0.000000e+00  0.000000e+00       0.000000   \n",
       "25%         1.000000  0.000000e+00  0.000000e+00    1905.000000   \n",
       "50%         1.000000  1.900000e+03  1.820000e+03    1925.000000   \n",
       "75%         2.000000  2.500000e+03  3.000000e+03    1954.000000   \n",
       "max     20811.000000  7.446955e+06  2.548000e+06    2017.000000   \n",
       "\n",
       "       tax_class_at_sale    sale_price  ...        LotType       BsmtCode  \\\n",
       "count      390883.000000  3.908830e+05  ...  303706.000000  303706.000000   \n",
       "mean            1.642660  5.067545e+05  ...       4.742886       2.439326   \n",
       "std             0.906378  2.353965e+06  ...       0.701608       1.559428   \n",
       "min             1.000000  0.000000e+00  ...       0.000000       0.000000   \n",
       "25%             1.000000  0.000000e+00  ...       5.000000       1.000000   \n",
       "50%             1.000000  2.750000e+05  ...       5.000000       2.000000   \n",
       "75%             2.000000  5.930000e+05  ...       5.000000       4.000000   \n",
       "max             4.000000  4.994012e+08  ...       9.000000       5.000000   \n",
       "\n",
       "         AssessLand     AssessTot    ExemptLand     ExemptTot      YearBuilt  \\\n",
       "count  3.037280e+05  3.037280e+05  3.037280e+05  3.037280e+05  303728.000000   \n",
       "mean   1.209784e+05  7.813468e+05  4.136623e+04  8.105911e+04    1879.716700   \n",
       "std    7.152424e+05  3.227031e+06  2.495788e+05  1.524291e+06     317.759012   \n",
       "min    0.000000e+00  0.000000e+00  0.000000e+00  0.000000e+00       0.000000   \n",
       "25%    6.137000e+03  2.329600e+04  0.000000e+00  0.000000e+00    1910.000000   \n",
       "50%    9.900000e+03  3.438000e+04  0.000000e+00  0.000000e+00    1926.000000   \n",
       "75%    2.275100e+04  9.553500e+04  1.550000e+03  1.550000e+03    1945.000000   \n",
       "max    6.113954e+07  5.464840e+08  6.113954e+07  5.464840e+08    2017.000000   \n",
       "\n",
       "          YearAlter1     YearAlter2         TaxMap  \n",
       "count  303728.000000  303728.000000  303710.000000  \n",
       "mean      295.778483      34.019662   31396.728152  \n",
       "std       710.334178     259.086380     754.905314  \n",
       "min         0.000000       0.000000       3.000000  \n",
       "25%         0.000000       0.000000   30611.000000  \n",
       "50%         0.000000       0.000000   31506.000000  \n",
       "75%         0.000000       0.000000   32005.000000  \n",
       "max      2017.000000    2017.000000   32605.000000  \n",
       "\n",
       "[8 rows x 48 columns]"
      ]
     },
     "execution_count": 10,
     "metadata": {},
     "output_type": "execute_result"
    }
   ],
   "source": [
    "#Here I am looking at basic summary statistics for the numeric columns\n",
    "#There are still so many columns that it's hard to get a macro sense of what's going on\n",
    "#However, things like zip code and year built aren't really numeric, they should be converted\n",
    "#Also, the average sale price looks very high, and the minimum sale price is 0 which seems suspicious\n",
    "\n",
    "brooklyn.describe()"
   ]
  },
  {
   "cell_type": "code",
   "execution_count": 11,
   "metadata": {},
   "outputs": [
    {
     "data": {
      "text/html": [
       "<div>\n",
       "<style scoped>\n",
       "    .dataframe tbody tr th:only-of-type {\n",
       "        vertical-align: middle;\n",
       "    }\n",
       "\n",
       "    .dataframe tbody tr th {\n",
       "        vertical-align: top;\n",
       "    }\n",
       "\n",
       "    .dataframe thead th {\n",
       "        text-align: right;\n",
       "    }\n",
       "</style>\n",
       "<table border=\"1\" class=\"dataframe\">\n",
       "  <thead>\n",
       "    <tr style=\"text-align: right;\">\n",
       "      <th></th>\n",
       "      <th>building_class_at_sale</th>\n",
       "      <th>sale_date</th>\n",
       "      <th>SanitSub</th>\n",
       "      <th>Address</th>\n",
       "      <th>ZoneDist1</th>\n",
       "      <th>ZoneDist2</th>\n",
       "      <th>ZoneDist3</th>\n",
       "      <th>ZoneDist4</th>\n",
       "      <th>Overlay1</th>\n",
       "      <th>Overlay2</th>\n",
       "      <th>...</th>\n",
       "      <th>SPDist2</th>\n",
       "      <th>SPDist3</th>\n",
       "      <th>LtdHeight</th>\n",
       "      <th>SplitZone</th>\n",
       "      <th>OwnerType</th>\n",
       "      <th>OwnerName</th>\n",
       "      <th>IrrLotCode</th>\n",
       "      <th>HistDist</th>\n",
       "      <th>Landmark</th>\n",
       "      <th>ZoneMap</th>\n",
       "    </tr>\n",
       "  </thead>\n",
       "  <tbody>\n",
       "    <tr>\n",
       "      <th>count</th>\n",
       "      <td>390883</td>\n",
       "      <td>390883</td>\n",
       "      <td>302952</td>\n",
       "      <td>303705</td>\n",
       "      <td>303714</td>\n",
       "      <td>15115</td>\n",
       "      <td>186</td>\n",
       "      <td>3</td>\n",
       "      <td>41921</td>\n",
       "      <td>48</td>\n",
       "      <td>...</td>\n",
       "      <td>24</td>\n",
       "      <td>4</td>\n",
       "      <td>5121</td>\n",
       "      <td>303706</td>\n",
       "      <td>53494</td>\n",
       "      <td>303624</td>\n",
       "      <td>303706</td>\n",
       "      <td>19674</td>\n",
       "      <td>126</td>\n",
       "      <td>303728</td>\n",
       "    </tr>\n",
       "    <tr>\n",
       "      <th>unique</th>\n",
       "      <td>187</td>\n",
       "      <td>5377</td>\n",
       "      <td>33</td>\n",
       "      <td>151112</td>\n",
       "      <td>78</td>\n",
       "      <td>58</td>\n",
       "      <td>11</td>\n",
       "      <td>2</td>\n",
       "      <td>9</td>\n",
       "      <td>7</td>\n",
       "      <td>...</td>\n",
       "      <td>2</td>\n",
       "      <td>1</td>\n",
       "      <td>1</td>\n",
       "      <td>2</td>\n",
       "      <td>5</td>\n",
       "      <td>138728</td>\n",
       "      <td>2</td>\n",
       "      <td>35</td>\n",
       "      <td>55</td>\n",
       "      <td>32</td>\n",
       "    </tr>\n",
       "    <tr>\n",
       "      <th>top</th>\n",
       "      <td>C0</td>\n",
       "      <td>2006-08-31</td>\n",
       "      <td>2B</td>\n",
       "      <td>175 ADAMS STREET</td>\n",
       "      <td>R6</td>\n",
       "      <td>R5</td>\n",
       "      <td>R4</td>\n",
       "      <td>M1-4</td>\n",
       "      <td>C2-4</td>\n",
       "      <td>C2-2</td>\n",
       "      <td>...</td>\n",
       "      <td>EC-5</td>\n",
       "      <td>EC-6</td>\n",
       "      <td>LH-1</td>\n",
       "      <td>N</td>\n",
       "      <td>P</td>\n",
       "      <td>CLINTON HILL APARTMEN</td>\n",
       "      <td>N</td>\n",
       "      <td>Brooklyn Heights Historic District</td>\n",
       "      <td>PUBLIC SCHOOL 9 ANNEX</td>\n",
       "      <td>17a</td>\n",
       "    </tr>\n",
       "    <tr>\n",
       "      <th>freq</th>\n",
       "      <td>38691</td>\n",
       "      <td>1133</td>\n",
       "      <td>17504</td>\n",
       "      <td>692</td>\n",
       "      <td>62851</td>\n",
       "      <td>2468</td>\n",
       "      <td>94</td>\n",
       "      <td>2</td>\n",
       "      <td>13805</td>\n",
       "      <td>26</td>\n",
       "      <td>...</td>\n",
       "      <td>16</td>\n",
       "      <td>4</td>\n",
       "      <td>5121</td>\n",
       "      <td>288557</td>\n",
       "      <td>52318</td>\n",
       "      <td>758</td>\n",
       "      <td>252341</td>\n",
       "      <td>3974</td>\n",
       "      <td>12</td>\n",
       "      <td>32613</td>\n",
       "    </tr>\n",
       "  </tbody>\n",
       "</table>\n",
       "<p>4 rows × 21 columns</p>\n",
       "</div>"
      ],
      "text/plain": [
       "       building_class_at_sale   sale_date SanitSub           Address  \\\n",
       "count                  390883      390883   302952            303705   \n",
       "unique                    187        5377       33            151112   \n",
       "top                        C0  2006-08-31       2B  175 ADAMS STREET   \n",
       "freq                    38691        1133    17504               692   \n",
       "\n",
       "       ZoneDist1 ZoneDist2 ZoneDist3 ZoneDist4 Overlay1 Overlay2  ... SPDist2  \\\n",
       "count     303714     15115       186         3    41921       48  ...      24   \n",
       "unique        78        58        11         2        9        7  ...       2   \n",
       "top           R6        R5        R4      M1-4     C2-4     C2-2  ...    EC-5   \n",
       "freq       62851      2468        94         2    13805       26  ...      16   \n",
       "\n",
       "       SPDist3 LtdHeight SplitZone OwnerType              OwnerName  \\\n",
       "count        4      5121    303706     53494                 303624   \n",
       "unique       1         1         2         5                 138728   \n",
       "top       EC-6      LH-1         N         P  CLINTON HILL APARTMEN   \n",
       "freq         4      5121    288557     52318                    758   \n",
       "\n",
       "       IrrLotCode                            HistDist               Landmark  \\\n",
       "count      303706                               19674                    126   \n",
       "unique          2                                  35                     55   \n",
       "top             N  Brooklyn Heights Historic District  PUBLIC SCHOOL 9 ANNEX   \n",
       "freq       252341                                3974                     12   \n",
       "\n",
       "       ZoneMap  \n",
       "count   303728  \n",
       "unique      32  \n",
       "top        17a  \n",
       "freq     32613  \n",
       "\n",
       "[4 rows x 21 columns]"
      ]
     },
     "execution_count": 11,
     "metadata": {},
     "output_type": "execute_result"
    }
   ],
   "source": [
    "#Here I am looking at basic summary statistics for the non-numeric columns\n",
    "#There's not much I can glean from this. There's too much noise\n",
    "\n",
    "brooklyn.describe(include='object')"
   ]
  },
  {
   "cell_type": "markdown",
   "metadata": {},
   "source": [
    "#### Checking for Duplicate Columns"
   ]
  },
  {
   "cell_type": "markdown",
   "metadata": {},
   "source": [
    "When I did this project the first time around, there were several duplicate columns in the csv file. I re-downloaded the file from Kaggle and it looks like it was cleaned up since it was first posted. There are no longer strict duplicate columns in the file. There certainly can still be duplicate columns that are named slightly differently (one lower case one higher case)"
   ]
  },
  {
   "cell_type": "code",
   "execution_count": 12,
   "metadata": {},
   "outputs": [],
   "source": [
    "brooklyn = brooklyn.loc[:,~brooklyn.columns.duplicated()]"
   ]
  },
  {
   "cell_type": "code",
   "execution_count": 13,
   "metadata": {},
   "outputs": [
    {
     "data": {
      "text/plain": [
       "array([False, False, False, False, False, False, False, False, False,\n",
       "       False, False, False, False, False, False, False, False, False,\n",
       "       False, False, False, False, False, False, False, False, False,\n",
       "       False, False, False, False, False, False, False, False, False,\n",
       "       False, False, False, False, False, False, False, False, False,\n",
       "       False, False, False, False, False, False, False, False, False,\n",
       "       False, False, False, False, False, False, False, False, False,\n",
       "       False, False, False, False, False, False])"
      ]
     },
     "execution_count": 13,
     "metadata": {},
     "output_type": "execute_result"
    }
   ],
   "source": [
    "brooklyn.columns.duplicated()"
   ]
  },
  {
   "cell_type": "code",
   "execution_count": 14,
   "metadata": {},
   "outputs": [],
   "source": [
    "#There are indeed many columns that are the same, but are formatted slightly differently\n",
    "#For example ZipCode and zip_code. I am going to drop the duplicate types of columns\n",
    "#zip_code and ZipCode are the same\n",
    "#sale_date and year_of_sale are the same\n",
    "#SanitBoro, SanitDistr, ad SanitSub are the same\n",
    "#Address and address are the same\n",
    "#year_built and YearBuilt are the same\n",
    "#residential_units is the same as UnitsRes\n",
    "#total_units is the same as UnitsTotal\n",
    "#Easements and easement are the same\n",
    "\n",
    "brooklyn = brooklyn.drop(['ZipCode', 'sale_date', 'SanitBoro', 'SanitDistr',\n",
    "                         'Address', 'YearBuilt', 'UnitsRes', 'UnitsTotal', 'Easements'], axis = 'columns')"
   ]
  },
  {
   "cell_type": "code",
   "execution_count": 15,
   "metadata": {},
   "outputs": [
    {
     "data": {
      "text/plain": [
       "(390883, 60)"
      ]
     },
     "execution_count": 15,
     "metadata": {},
     "output_type": "execute_result"
    }
   ],
   "source": [
    "#After some initial cleaning I've reduced the dataset from 111 columns to 61. \n",
    "#That's a little more than half of the original\n",
    "\n",
    "brooklyn.shape"
   ]
  },
  {
   "cell_type": "markdown",
   "metadata": {},
   "source": [
    "#### Checking for Null Values"
   ]
  },
  {
   "cell_type": "code",
   "execution_count": 16,
   "metadata": {},
   "outputs": [
    {
     "data": {
      "text/plain": [
       "easement                  390883\n",
       "zip_code                       0\n",
       "residential_units              0\n",
       "commercial_units               0\n",
       "total_units                    0\n",
       "land_sqft                      0\n",
       "gross_sqft                     0\n",
       "year_built                     0\n",
       "tax_class_at_sale              0\n",
       "building_class_at_sale         0\n",
       "sale_price                     0\n",
       "year_of_sale                   0\n",
       "HealthCent                 87155\n",
       "HealthArea                 87155\n",
       "SanitSub                   87931\n",
       "ZoneDist1                  87169\n",
       "ZoneDist2                 375768\n",
       "ZoneDist3                 390697\n",
       "ZoneDist4                 390880\n",
       "Overlay1                  348962\n",
       "Overlay2                  390835\n",
       "SPDist1                   355383\n",
       "SPDist2                   390859\n",
       "SPDist3                   390879\n",
       "LtdHeight                 385762\n",
       "SplitZone                  87177\n",
       "LandUse                    88172\n",
       "OwnerType                 337389\n",
       "OwnerName                  87259\n",
       "LotArea                    87155\n",
       "BldgArea                   87155\n",
       "ComArea                    87155\n",
       "ResArea                    87155\n",
       "OfficeArea                 87155\n",
       "RetailArea                 87155\n",
       "GarageArea                 87155\n",
       "StrgeArea                  87155\n",
       "FactryArea                 87155\n",
       "OtherArea                  87155\n",
       "AreaSource                 87155\n",
       "NumBldgs                   87155\n",
       "NumFloors                  87155\n",
       "LotFront                   87155\n",
       "LotDepth                   87155\n",
       "BldgFront                  87155\n",
       "BldgDepth                  87155\n",
       "ProxCode                   87177\n",
       "IrrLotCode                 87177\n",
       "LotType                    87177\n",
       "BsmtCode                   87177\n",
       "AssessLand                 87155\n",
       "AssessTot                  87155\n",
       "ExemptLand                 87155\n",
       "ExemptTot                  87155\n",
       "YearAlter1                 87155\n",
       "YearAlter2                 87155\n",
       "HistDist                  371209\n",
       "Landmark                  390757\n",
       "ZoneMap                    87155\n",
       "TaxMap                     87173\n",
       "dtype: int64"
      ]
     },
     "execution_count": 16,
     "metadata": {},
     "output_type": "execute_result"
    }
   ],
   "source": [
    "#Thankfully there aren't any null values for sale price\n",
    "#However, there are quite a few columns with many null values\n",
    "\n",
    "brooklyn.isna().sum() "
   ]
  },
  {
   "cell_type": "code",
   "execution_count": 17,
   "metadata": {},
   "outputs": [],
   "source": [
    "#Here I am going to drop all columns that have 300,000+ null values. To me that means these columns aren't that important \n",
    "#I also dropped ZoneDist1 since all the other zones were dropped so Zone 1 can't offer any significance\n",
    "\n",
    "brooklyn = brooklyn.drop(['easement','ZoneDist2','ZoneDist3', 'ZoneDist4', \n",
    "                          'Overlay1', 'Overlay2', 'SPDist1', 'SPDist2',\n",
    "                          'SPDist3', 'LtdHeight',  'HistDist', 'OwnerType',\n",
    "                          'Landmark', 'ZoneDist1'], axis = 'columns')"
   ]
  },
  {
   "cell_type": "code",
   "execution_count": 18,
   "metadata": {},
   "outputs": [
    {
     "data": {
      "text/plain": [
       "zip_code                      0\n",
       "residential_units             0\n",
       "commercial_units              0\n",
       "total_units                   0\n",
       "land_sqft                     0\n",
       "gross_sqft                    0\n",
       "year_built                    0\n",
       "tax_class_at_sale             0\n",
       "building_class_at_sale        0\n",
       "sale_price                    0\n",
       "year_of_sale                  0\n",
       "HealthCent                87155\n",
       "HealthArea                87155\n",
       "SanitSub                  87931\n",
       "SplitZone                 87177\n",
       "LandUse                   88172\n",
       "OwnerName                 87259\n",
       "LotArea                   87155\n",
       "BldgArea                  87155\n",
       "ComArea                   87155\n",
       "ResArea                   87155\n",
       "OfficeArea                87155\n",
       "RetailArea                87155\n",
       "GarageArea                87155\n",
       "StrgeArea                 87155\n",
       "FactryArea                87155\n",
       "OtherArea                 87155\n",
       "AreaSource                87155\n",
       "NumBldgs                  87155\n",
       "NumFloors                 87155\n",
       "LotFront                  87155\n",
       "LotDepth                  87155\n",
       "BldgFront                 87155\n",
       "BldgDepth                 87155\n",
       "ProxCode                  87177\n",
       "IrrLotCode                87177\n",
       "LotType                   87177\n",
       "BsmtCode                  87177\n",
       "AssessLand                87155\n",
       "AssessTot                 87155\n",
       "ExemptLand                87155\n",
       "ExemptTot                 87155\n",
       "YearAlter1                87155\n",
       "YearAlter2                87155\n",
       "ZoneMap                   87155\n",
       "TaxMap                    87173\n",
       "dtype: int64"
      ]
     },
     "execution_count": 18,
     "metadata": {},
     "output_type": "execute_result"
    }
   ],
   "source": [
    "#Here I am checking for null values even further since there are still many columns of data\n",
    "\n",
    "brooklyn.isna().sum()"
   ]
  },
  {
   "cell_type": "markdown",
   "metadata": {},
   "source": [
    "# First Pass Model"
   ]
  },
  {
   "cell_type": "markdown",
   "metadata": {},
   "source": [
    "I think it can be a good thing to do a rough draft of your model. That way you can see how much work you need to do to clean it up and make other adjustments"
   ]
  },
  {
   "cell_type": "code",
   "execution_count": 19,
   "metadata": {},
   "outputs": [],
   "source": [
    "#I am only using numeric data for the first-pass model as a matter of simplicity\n",
    "\n",
    "#I do believe there are categorical variables that will be useful as explanatory variables in an improved model\n",
    "\n",
    "brooklyn_numeric = brooklyn[['sale_price', 'residential_units', 'commercial_units', 'total_units', 'land_sqft', \n",
    "                              'gross_sqft','HealthArea', 'LotArea', 'BldgArea', 'ComArea', 'ResArea', 'OfficeArea',\n",
    "                             'RetailArea', 'GarageArea', 'StrgeArea', 'FactryArea', 'OtherArea', 'NumBldgs',\n",
    "                             'NumFloors', 'LotFront', 'LotDepth', 'BldgFront', 'BldgDepth', 'AssessLand', \n",
    "                             'AssessTot', 'ExemptLand', 'ExemptTot']].dropna()"
   ]
  },
  {
   "cell_type": "code",
   "execution_count": 20,
   "metadata": {},
   "outputs": [],
   "source": [
    "#Separating the variables between X and y\n",
    "\n",
    "X = brooklyn_numeric.drop('sale_price', axis='columns')\n",
    "y = brooklyn_numeric.loc[:, 'sale_price']"
   ]
  },
  {
   "cell_type": "code",
   "execution_count": 21,
   "metadata": {},
   "outputs": [],
   "source": [
    "#Setting up a training set and a test set\n",
    "#test_size = .2 means 20% of the data is set aside for the test set. 80% of the data is used for the training set\n",
    "#You could also use train_size if you wish\n",
    "#I am using the 80/20 split based on conventional use\n",
    "\n",
    "from sklearn.model_selection import train_test_split\n",
    "\n",
    "X_train, X_test, y_train, y_test = train_test_split(X, y, test_size = .2, random_state=30)"
   ]
  },
  {
   "cell_type": "code",
   "execution_count": 22,
   "metadata": {},
   "outputs": [
    {
     "data": {
      "text/plain": [
       "LinearRegression(copy_X=True, fit_intercept=True, n_jobs=None,\n",
       "         normalize=False)"
      ]
     },
     "execution_count": 22,
     "metadata": {},
     "output_type": "execute_result"
    }
   ],
   "source": [
    "#Setting up a linear regression model using the training set\n",
    "\n",
    "from sklearn.linear_model import LinearRegression\n",
    "\n",
    "lr = LinearRegression()\n",
    "\n",
    "lr.fit(X_train, y_train)"
   ]
  },
  {
   "cell_type": "code",
   "execution_count": 23,
   "metadata": {},
   "outputs": [
    {
     "name": "stdout",
     "output_type": "stream",
     "text": [
      "0.1607005718230542\n",
      "0.09489993489540394\n"
     ]
    }
   ],
   "source": [
    "#Scoring the model on the training set and test set.\n",
    "#These are the R-squared values for the training set and test set. \n",
    "\n",
    "print(lr.score(X_train, y_train))\n",
    "print(lr.score(X_test, y_test))"
   ]
  },
  {
   "cell_type": "markdown",
   "metadata": {},
   "source": [
    "#### First Impressions"
   ]
  },
  {
   "cell_type": "markdown",
   "metadata": {},
   "source": [
    "The model does indeed perform better than the null model, however the training model only captured 16% of the variance and the test model captured even less variance at 9%. So, even though my model performed better than the null model, its performance was so poor that it's not worth touting. I believe my model is suffering from both high bias and high variance. It has high bias because it performed so poorly on both the training set and test set. It has high variance because it performed better on the training set than the test set."
   ]
  },
  {
   "cell_type": "markdown",
   "metadata": {},
   "source": [
    "# Further Data Cleaning"
   ]
  },
  {
   "cell_type": "markdown",
   "metadata": {},
   "source": [
    "The most important value is the actual sales price of these homes. There were some funky values on the first dataset so I am going to check them again."
   ]
  },
  {
   "cell_type": "code",
   "execution_count": 24,
   "metadata": {},
   "outputs": [
    {
     "data": {
      "text/plain": [
       "0.0          140143\n",
       "10.0           3465\n",
       "450000.0       2420\n",
       "400000.0       2230\n",
       "600000.0       2216\n",
       "550000.0       2100\n",
       "650000.0       2058\n",
       "350000.0       1976\n",
       "300000.0       1962\n",
       "500000.0       1809\n",
       "700000.0       1744\n",
       "750000.0       1732\n",
       "250000.0       1683\n",
       "200000.0       1582\n",
       "800000.0       1489\n",
       "425000.0       1353\n",
       "475000.0       1255\n",
       "900000.0       1254\n",
       "850000.0       1230\n",
       "375000.0       1214\n",
       "575000.0       1159\n",
       "150000.0       1135\n",
       "525000.0       1127\n",
       "325000.0       1115\n",
       "1200000.0      1103\n",
       "625000.0       1059\n",
       "360000.0       1013\n",
       "950000.0        992\n",
       "420000.0        978\n",
       "560000.0        977\n",
       "              ...  \n",
       "598750.0          1\n",
       "404165.0          1\n",
       "808333.0          1\n",
       "3233576.0         1\n",
       "404200.0          1\n",
       "1616981.0         1\n",
       "202127.0          1\n",
       "404283.0          1\n",
       "225615.0          1\n",
       "404065.0          1\n",
       "404056.0          1\n",
       "404038.0          1\n",
       "1944000.0         1\n",
       "807440.0          1\n",
       "201861.0          1\n",
       "201877.0          1\n",
       "403755.0          1\n",
       "100940.0          1\n",
       "311250.0          1\n",
       "403774.0          1\n",
       "807600.0          1\n",
       "101006.0          1\n",
       "403813.0          1\n",
       "403830.0          1\n",
       "1615339.0         1\n",
       "1615426.0         1\n",
       "1615500.0         1\n",
       "1157500.0         1\n",
       "807981.0          1\n",
       "16.0              1\n",
       "Name: sale_price, Length: 25441, dtype: int64"
      ]
     },
     "execution_count": 24,
     "metadata": {},
     "output_type": "execute_result"
    }
   ],
   "source": [
    "#It looks like \"0\" shows up over 140,000 times. There are also values like 10 and 16.\n",
    "#These values seem nonsensical to me in terms of the value of a home\n",
    "#I am going to drop these values\n",
    "\n",
    "brooklyn['sale_price'].value_counts()  "
   ]
  },
  {
   "cell_type": "code",
   "execution_count": 25,
   "metadata": {},
   "outputs": [],
   "source": [
    "brooklyn = brooklyn[brooklyn.sale_price > 16]"
   ]
  },
  {
   "cell_type": "code",
   "execution_count": 26,
   "metadata": {},
   "outputs": [
    {
     "data": {
      "text/plain": [
       "450000.0      2420\n",
       "400000.0      2230\n",
       "600000.0      2216\n",
       "550000.0      2100\n",
       "650000.0      2058\n",
       "350000.0      1976\n",
       "300000.0      1962\n",
       "500000.0      1809\n",
       "700000.0      1744\n",
       "750000.0      1732\n",
       "250000.0      1683\n",
       "200000.0      1582\n",
       "800000.0      1489\n",
       "425000.0      1353\n",
       "475000.0      1255\n",
       "900000.0      1254\n",
       "850000.0      1230\n",
       "375000.0      1214\n",
       "575000.0      1159\n",
       "150000.0      1135\n",
       "525000.0      1127\n",
       "325000.0      1115\n",
       "1200000.0     1103\n",
       "625000.0      1059\n",
       "360000.0      1013\n",
       "950000.0       992\n",
       "420000.0       978\n",
       "675000.0       977\n",
       "560000.0       977\n",
       "460000.0       964\n",
       "              ... \n",
       "2708705.0        1\n",
       "1878671.0        1\n",
       "939336.0         1\n",
       "469670.0         1\n",
       "58711.0          1\n",
       "5418000.0        1\n",
       "234851.0         1\n",
       "677261.0         1\n",
       "56719.0          1\n",
       "21175.0          1\n",
       "469580.0         1\n",
       "2054000.0        1\n",
       "1877747.0        1\n",
       "338298.0         1\n",
       "938743.0         1\n",
       "7510000.0        1\n",
       "2706466.0        1\n",
       "15020230.0       1\n",
       "938800.0         1\n",
       "169176.0         1\n",
       "10574.0          1\n",
       "370201.0         1\n",
       "42300.0          1\n",
       "338402.0         1\n",
       "469488.0         1\n",
       "2644.0           1\n",
       "234753.0         1\n",
       "21660000.0       1\n",
       "676900.0         1\n",
       "96.0             1\n",
       "Name: sale_price, Length: 25425, dtype: int64"
      ]
     },
     "execution_count": 26,
     "metadata": {},
     "output_type": "execute_result"
    }
   ],
   "source": [
    "brooklyn['sale_price'].value_counts() "
   ]
  },
  {
   "cell_type": "code",
   "execution_count": 27,
   "metadata": {},
   "outputs": [
    {
     "data": {
      "text/plain": [
       "2005    23067\n",
       "2004    23015\n",
       "2003    20592\n",
       "2006    20411\n",
       "2007    18074\n",
       "2015    15805\n",
       "2014    15750\n",
       "2013    15622\n",
       "2017    15552\n",
       "2016    15287\n",
       "2008    14154\n",
       "2012    13658\n",
       "2011    13003\n",
       "2010    11563\n",
       "2009    10863\n",
       "Name: year_of_sale, dtype: int64"
      ]
     },
     "execution_count": 27,
     "metadata": {},
     "output_type": "execute_result"
    }
   ],
   "source": [
    "#There still seems to be some funky values\n",
    "#What I'm going to do is check the median prices of the year of sales in the dataset\n",
    "#That will help determine which values to drop from the dataset\n",
    "\n",
    "brooklyn['year_of_sale'].value_counts()                     "
   ]
  },
  {
   "cell_type": "markdown",
   "metadata": {},
   "source": [
    "According to this article (https://ny.curbed.com/2019/12/13/21009872/nyc-home-value-2010s-manhattan-apartments), the median home sale price in Brookyln from 2010-2017 was as follows:\n",
    "    \n",
    "    2010: $463,000\n",
    "    \n",
    "    2011: $454,000\n",
    "    \n",
    "    2012: $450,000\n",
    "    \n",
    "    2013: $515,000\n",
    "    \n",
    "    2014: $520,000\n",
    "    \n",
    "    2015: $605,000\n",
    "    \n",
    "    2016: $659,000\n",
    "    \n",
    "    2017: $770,000"
   ]
  },
  {
   "cell_type": "code",
   "execution_count": 28,
   "metadata": {},
   "outputs": [],
   "source": [
    "#I could not find data before 2010. We can make the assumption that property was cheaper, but not so cheap\n",
    "#I am going to start my analysis at $200,000\n",
    "\n",
    "brooklyn = brooklyn[brooklyn.sale_price >= 200000]"
   ]
  },
  {
   "cell_type": "code",
   "execution_count": 29,
   "metadata": {},
   "outputs": [
    {
     "data": {
      "text/plain": [
       "450000.0       2420\n",
       "400000.0       2230\n",
       "600000.0       2216\n",
       "550000.0       2100\n",
       "650000.0       2058\n",
       "350000.0       1976\n",
       "300000.0       1962\n",
       "500000.0       1809\n",
       "700000.0       1744\n",
       "750000.0       1732\n",
       "250000.0       1683\n",
       "200000.0       1582\n",
       "800000.0       1489\n",
       "425000.0       1353\n",
       "475000.0       1255\n",
       "900000.0       1254\n",
       "850000.0       1230\n",
       "375000.0       1214\n",
       "575000.0       1159\n",
       "525000.0       1127\n",
       "325000.0       1115\n",
       "1200000.0      1103\n",
       "625000.0       1059\n",
       "360000.0       1013\n",
       "950000.0        992\n",
       "420000.0        978\n",
       "675000.0        977\n",
       "560000.0        977\n",
       "460000.0        964\n",
       "430000.0        957\n",
       "               ... \n",
       "345000000.0       1\n",
       "233988.0          1\n",
       "703356.0          1\n",
       "336900.0          1\n",
       "29950000.0        1\n",
       "467950.0          1\n",
       "10780000.0        1\n",
       "467940.0          1\n",
       "233969.0          1\n",
       "467926.0          1\n",
       "467925.0          1\n",
       "935842.0          1\n",
       "467905.0          1\n",
       "850550.0          1\n",
       "336818.0          1\n",
       "935771.0          1\n",
       "673572.0          1\n",
       "673533.0          1\n",
       "1018248.0         1\n",
       "336761.0          1\n",
       "641250.0          1\n",
       "10775000.0        1\n",
       "673420.0          1\n",
       "467777.0          1\n",
       "467759.0          1\n",
       "3742068.0         1\n",
       "935500.0          1\n",
       "935468.0          1\n",
       "2693271.0         1\n",
       "1048580.0         1\n",
       "Name: sale_price, Length: 20921, dtype: int64"
      ]
     },
     "execution_count": 29,
     "metadata": {},
     "output_type": "execute_result"
    }
   ],
   "source": [
    "brooklyn['sale_price'].value_counts() "
   ]
  },
  {
   "cell_type": "code",
   "execution_count": 30,
   "metadata": {},
   "outputs": [
    {
     "data": {
      "text/plain": [
       "200000.0"
      ]
     },
     "execution_count": 30,
     "metadata": {},
     "output_type": "execute_result"
    }
   ],
   "source": [
    "#The lowest sale price is $200,000 which is the floor we set\n",
    "\n",
    "brooklyn['sale_price'].min()"
   ]
  },
  {
   "cell_type": "code",
   "execution_count": 31,
   "metadata": {},
   "outputs": [
    {
     "data": {
      "text/plain": [
       "499401179.0"
      ]
     },
     "execution_count": 31,
     "metadata": {},
     "output_type": "execute_result"
    }
   ],
   "source": [
    "#The highest sale price is 499,401,179. There certainly could be homes like that for sale, but they are extremely rare\n",
    "\n",
    "brooklyn['sale_price'].max()"
   ]
  },
  {
   "cell_type": "code",
   "execution_count": 32,
   "metadata": {},
   "outputs": [],
   "source": [
    "#Not only are their outliers on the lower end of the price range, but on the upper end as well\n",
    "#I am going to drop all prices above $5 million\n",
    "\n",
    "brooklyn = brooklyn[brooklyn.sale_price <= 5000000]"
   ]
  },
  {
   "cell_type": "code",
   "execution_count": 33,
   "metadata": {},
   "outputs": [
    {
     "data": {
      "text/plain": [
       "450000.0     2420\n",
       "400000.0     2230\n",
       "600000.0     2216\n",
       "550000.0     2100\n",
       "650000.0     2058\n",
       "350000.0     1976\n",
       "300000.0     1962\n",
       "500000.0     1809\n",
       "700000.0     1744\n",
       "750000.0     1732\n",
       "250000.0     1683\n",
       "200000.0     1582\n",
       "800000.0     1489\n",
       "425000.0     1353\n",
       "475000.0     1255\n",
       "900000.0     1254\n",
       "850000.0     1230\n",
       "375000.0     1214\n",
       "575000.0     1159\n",
       "525000.0     1127\n",
       "325000.0     1115\n",
       "1200000.0    1103\n",
       "625000.0     1059\n",
       "360000.0     1013\n",
       "950000.0      992\n",
       "420000.0      978\n",
       "675000.0      977\n",
       "560000.0      977\n",
       "460000.0      964\n",
       "430000.0      957\n",
       "             ... \n",
       "3699200.0       1\n",
       "672800.0        1\n",
       "935468.0        1\n",
       "2693271.0       1\n",
       "2693164.0       1\n",
       "673250.0        1\n",
       "3741127.0       1\n",
       "3741000.0       1\n",
       "526250.0        1\n",
       "233810.0        1\n",
       "233806.0        1\n",
       "467604.0        1\n",
       "1346126.0       1\n",
       "673059.0        1\n",
       "467600.0        1\n",
       "673053.0        1\n",
       "467586.0        1\n",
       "467584.0        1\n",
       "336509.0        1\n",
       "1346000.0       1\n",
       "333250.0        1\n",
       "935111.0        1\n",
       "672961.0        1\n",
       "3740388.0       1\n",
       "1687500.0       1\n",
       "336467.0        1\n",
       "233763.0        1\n",
       "467519.0        1\n",
       "935001.0        1\n",
       "1048580.0       1\n",
       "Name: sale_price, Length: 19653, dtype: int64"
      ]
     },
     "execution_count": 33,
     "metadata": {},
     "output_type": "execute_result"
    }
   ],
   "source": [
    "brooklyn['sale_price'].value_counts() "
   ]
  },
  {
   "cell_type": "code",
   "execution_count": 34,
   "metadata": {},
   "outputs": [
    {
     "data": {
      "image/png": "[encoded data removed]",
      "text/plain": [
       "<Figure size 432x288 with 1 Axes>"
      ]
     },
     "metadata": {
      "needs_background": "light"
     },
     "output_type": "display_data"
    }
   ],
   "source": [
    "#Here is a histogram for sale_price\n",
    "#This helps with checking the distribution of data and this is definitely skewed right\n",
    "\n",
    "brooklyn.loc[:,\"sale_price\"].plot(kind='hist', bins=100)\n",
    "plt.xlabel(\"Range of Brooklyn Home Sales Prices\")\n",
    "plt.title(\"Breakdown of Brooklyn Home Sales Prices\");"
   ]
  },
  {
   "cell_type": "code",
   "execution_count": 35,
   "metadata": {},
   "outputs": [],
   "source": [
    "#It looks like the data still has some outlier on the upper end\n",
    "#I will reduce the maximum price to $2 million now\n",
    "\n",
    "brooklyn = brooklyn[brooklyn.sale_price <= 2000000]"
   ]
  },
  {
   "cell_type": "code",
   "execution_count": 36,
   "metadata": {},
   "outputs": [
    {
     "data": {
      "image/png": "[encoded data removed]",
      "text/plain": [
       "<Figure size 432x288 with 1 Axes>"
      ]
     },
     "metadata": {
      "needs_background": "light"
     },
     "output_type": "display_data"
    }
   ],
   "source": [
    "#Here is a historgram for sale_price\n",
    "#This looks better, but is still skewed to the right\n",
    "\n",
    "brooklyn.loc[:,\"sale_price\"].plot(kind='hist', bins=100)\n",
    "plt.xlabel(\"Range of Brooklyn Home Sales Prices\")\n",
    "plt.title(\"Breakdown of Brooklyn Home Sales Prices\");"
   ]
  },
  {
   "cell_type": "code",
   "execution_count": 37,
   "metadata": {},
   "outputs": [],
   "source": [
    "brooklyn = brooklyn[brooklyn.sale_price <= 1000000]"
   ]
  },
  {
   "cell_type": "code",
   "execution_count": 38,
   "metadata": {},
   "outputs": [
    {
     "data": {
      "image/png": "[encoded data removed]",
      "text/plain": [
       "<Figure size 432x288 with 1 Axes>"
      ]
     },
     "metadata": {
      "needs_background": "light"
     },
     "output_type": "display_data"
    }
   ],
   "source": [
    "#This looks more closely to a normal distribution\n",
    "#I am going to stick with this for now\n",
    "\n",
    "brooklyn.loc[:,\"sale_price\"].plot(kind='hist', bins=100)\n",
    "plt.xlabel(\"Range of Brooklyn Home Sales Prices\")\n",
    "plt.title(\"Breakdown of Brooklyn Home Sales Prices\");"
   ]
  },
  {
   "cell_type": "markdown",
   "metadata": {},
   "source": [
    "# Second Pass Model"
   ]
  },
  {
   "cell_type": "markdown",
   "metadata": {},
   "source": [
    "Let's see how much cleaning up of the sales price data has affected my model"
   ]
  },
  {
   "cell_type": "code",
   "execution_count": 39,
   "metadata": {},
   "outputs": [],
   "source": [
    "#I am only using numeric data for the first-pass model as a matter of simplicity\n",
    "\n",
    "#I do believe there are categorical variables that will be useful as explanatory variables in an improved model\n",
    "\n",
    "brooklyn_numeric2 = brooklyn[['sale_price', 'residential_units', 'commercial_units', 'total_units', 'land_sqft', \n",
    "                              'gross_sqft', 'HealthArea', 'LotArea', 'BldgArea', 'ComArea', 'ResArea', 'OfficeArea',\n",
    "                             'RetailArea', 'GarageArea', 'StrgeArea', 'FactryArea', 'OtherArea', 'NumBldgs',\n",
    "                             'NumFloors', 'LotFront', 'LotDepth', 'BldgFront', 'BldgDepth', 'AssessLand', \n",
    "                             'AssessTot', 'ExemptLand', 'ExemptTot']].dropna()"
   ]
  },
  {
   "cell_type": "code",
   "execution_count": 40,
   "metadata": {},
   "outputs": [],
   "source": [
    "#Separating the variables between X and y\n",
    "\n",
    "X = brooklyn_numeric2.drop('sale_price', axis='columns')\n",
    "y = brooklyn_numeric2.loc[:, 'sale_price']"
   ]
  },
  {
   "cell_type": "code",
   "execution_count": 41,
   "metadata": {},
   "outputs": [],
   "source": [
    "#Setting up a training set and a test set\n",
    "#test_size = .2 means 20% of the data is set aside for the test set. 80% of the data is used for the training set\n",
    "#You could also use train_size if you wish\n",
    "\n",
    "from sklearn.model_selection import train_test_split\n",
    "\n",
    "X_train, X_test, y_train, y_test = train_test_split(X, y, test_size = .2, random_state=30)"
   ]
  },
  {
   "cell_type": "code",
   "execution_count": 42,
   "metadata": {},
   "outputs": [
    {
     "data": {
      "text/plain": [
       "LinearRegression(copy_X=True, fit_intercept=True, n_jobs=None,\n",
       "         normalize=False)"
      ]
     },
     "execution_count": 42,
     "metadata": {},
     "output_type": "execute_result"
    }
   ],
   "source": [
    "#Setting up a linear regression model using the training set\n",
    "\n",
    "from sklearn.linear_model import LinearRegression\n",
    "\n",
    "lr = LinearRegression()\n",
    "\n",
    "lr.fit(X_train, y_train)"
   ]
  },
  {
   "cell_type": "code",
   "execution_count": 43,
   "metadata": {},
   "outputs": [
    {
     "name": "stdout",
     "output_type": "stream",
     "text": [
      "0.08070982627600498\n",
      "0.012613320082916601\n"
     ]
    }
   ],
   "source": [
    "#Scoring the model on the training set and test set.\n",
    "#These are the R-squared values for the training set and test set. \n",
    "\n",
    "print(lr.score(X_train, y_train))\n",
    "print(lr.score(X_test, y_test))"
   ]
  },
  {
   "cell_type": "markdown",
   "metadata": {},
   "source": [
    "#### First Impressions"
   ]
  },
  {
   "cell_type": "markdown",
   "metadata": {},
   "source": [
    "The model is basically worse than the first go around. The training model captured 8% of the variance and the test model captured 1%. "
   ]
  },
  {
   "cell_type": "markdown",
   "metadata": {},
   "source": [
    "# Even More Data Cleaning"
   ]
  },
  {
   "cell_type": "markdown",
   "metadata": {},
   "source": [
    "#### Converting Numeric Data Types into Strings"
   ]
  },
  {
   "cell_type": "markdown",
   "metadata": {},
   "source": [
    "Many variables in the dataset are incorrectly formatted as integers or floats when they are actually strings. They are categorical variables."
   ]
  },
  {
   "cell_type": "code",
   "execution_count": 44,
   "metadata": {},
   "outputs": [],
   "source": [
    "brooklyn = brooklyn.astype({'zip_code':str, 'year_of_sale':str, 'tax_class_at_sale':str, 'YearAlter1':str,\n",
    "                            'HealthCent':str, 'YearAlter2':str, 'AreaSource':str,'BsmtCode':str, 'year_built':str, \n",
    "                            'ProxCode':str, 'LandUse':str,  'TaxMap':str, 'LotType':str})"
   ]
  },
  {
   "cell_type": "code",
   "execution_count": 45,
   "metadata": {},
   "outputs": [
    {
     "data": {
      "text/plain": [
       "zip_code                   object\n",
       "residential_units           int64\n",
       "commercial_units            int64\n",
       "total_units                 int64\n",
       "land_sqft                 float64\n",
       "gross_sqft                float64\n",
       "year_built                 object\n",
       "tax_class_at_sale          object\n",
       "building_class_at_sale     object\n",
       "sale_price                float64\n",
       "year_of_sale               object\n",
       "HealthCent                 object\n",
       "HealthArea                float64\n",
       "SanitSub                   object\n",
       "SplitZone                  object\n",
       "LandUse                    object\n",
       "OwnerName                  object\n",
       "LotArea                   float64\n",
       "BldgArea                  float64\n",
       "ComArea                   float64\n",
       "ResArea                   float64\n",
       "OfficeArea                float64\n",
       "RetailArea                float64\n",
       "GarageArea                float64\n",
       "StrgeArea                 float64\n",
       "FactryArea                float64\n",
       "OtherArea                 float64\n",
       "AreaSource                 object\n",
       "NumBldgs                  float64\n",
       "NumFloors                 float64\n",
       "LotFront                  float64\n",
       "LotDepth                  float64\n",
       "BldgFront                 float64\n",
       "BldgDepth                 float64\n",
       "ProxCode                   object\n",
       "IrrLotCode                 object\n",
       "LotType                    object\n",
       "BsmtCode                   object\n",
       "AssessLand                float64\n",
       "AssessTot                 float64\n",
       "ExemptLand                float64\n",
       "ExemptTot                 float64\n",
       "YearAlter1                 object\n",
       "YearAlter2                 object\n",
       "ZoneMap                    object\n",
       "TaxMap                     object\n",
       "dtype: object"
      ]
     },
     "execution_count": 45,
     "metadata": {},
     "output_type": "execute_result"
    }
   ],
   "source": [
    "#Here I am double checking that all variables are formatted correctly\n",
    "\n",
    "brooklyn.dtypes"
   ]
  },
  {
   "cell_type": "markdown",
   "metadata": {},
   "source": [
    "#### What data does a zip code encompass?"
   ]
  },
  {
   "cell_type": "code",
   "execution_count": 46,
   "metadata": {},
   "outputs": [
    {
     "data": {
      "text/plain": [
       "11234    10194\n",
       "11201     8810\n",
       "11235     8029\n",
       "11221     7883\n",
       "11207     7883\n",
       "11208     7771\n",
       "11236     7311\n",
       "11215     7257\n",
       "11233     6351\n",
       "11229     6243\n",
       "11211     5908\n",
       "11238     5872\n",
       "11209     5656\n",
       "11214     5602\n",
       "11218     5247\n",
       "11203     4909\n",
       "11220     4675\n",
       "11223     4575\n",
       "11205     4573\n",
       "11204     4452\n",
       "11216     4299\n",
       "11206     4117\n",
       "11230     4062\n",
       "11219     4031\n",
       "11228     3687\n",
       "11210     3612\n",
       "11217     3395\n",
       "11226     3325\n",
       "11212     3021\n",
       "11213     2970\n",
       "11222     2744\n",
       "11237     2584\n",
       "11231     2460\n",
       "11224     2353\n",
       "11225     1932\n",
       "11232     1758\n",
       "11249      804\n",
       "11239      325\n",
       "0          136\n",
       "11243       37\n",
       "11416       13\n",
       "11258        1\n",
       "Name: zip_code, dtype: int64"
      ]
     },
     "execution_count": 46,
     "metadata": {},
     "output_type": "execute_result"
    }
   ],
   "source": [
    "brooklyn['zip_code'].value_counts() "
   ]
  },
  {
   "cell_type": "code",
   "execution_count": 47,
   "metadata": {},
   "outputs": [],
   "source": [
    "#I am going to drop all rows where the zip code is \"0\"\n",
    "\n",
    "brooklyn = brooklyn[brooklyn.zip_code != '0']"
   ]
  },
  {
   "cell_type": "code",
   "execution_count": 48,
   "metadata": {},
   "outputs": [
    {
     "data": {
      "text/plain": [
       "11234    10194\n",
       "11201     8810\n",
       "11235     8029\n",
       "11207     7883\n",
       "11221     7883\n",
       "11208     7771\n",
       "11236     7311\n",
       "11215     7257\n",
       "11233     6351\n",
       "11229     6243\n",
       "11211     5908\n",
       "11238     5872\n",
       "11209     5656\n",
       "11214     5602\n",
       "11218     5247\n",
       "11203     4909\n",
       "11220     4675\n",
       "11223     4575\n",
       "11205     4573\n",
       "11204     4452\n",
       "11216     4299\n",
       "11206     4117\n",
       "11230     4062\n",
       "11219     4031\n",
       "11228     3687\n",
       "11210     3612\n",
       "11217     3395\n",
       "11226     3325\n",
       "11212     3021\n",
       "11213     2970\n",
       "11222     2744\n",
       "11237     2584\n",
       "11231     2460\n",
       "11224     2353\n",
       "11225     1932\n",
       "11232     1758\n",
       "11249      804\n",
       "11239      325\n",
       "11243       37\n",
       "11416       13\n",
       "11258        1\n",
       "Name: zip_code, dtype: int64"
      ]
     },
     "execution_count": 48,
     "metadata": {},
     "output_type": "execute_result"
    }
   ],
   "source": [
    "brooklyn['zip_code'].value_counts() "
   ]
  },
  {
   "cell_type": "markdown",
   "metadata": {},
   "source": [
    "Here are the actual zip codes for Brooklyn\n",
    "\n",
    "Central Brooklyn: 11212, 11213, 11216, 11233, 11238\n",
    "    \n",
    "Southwest Brooklyn: 11209, 11214, 11228\n",
    "    \n",
    "Borough Park: 11204, 11218, 11219, 11230\n",
    "    \n",
    "Canarsie and Flatlands: 11234, 11236, 11239\n",
    "    \n",
    "Southern Brooklyn: 11223, 11224, 11229, 11235\n",
    "    \n",
    "Northwest Brooklyn: 11201, 11205, 11215, 11217, 11231\n",
    "    \n",
    "Flatbush: 11203, 11210, 11225, 11226\n",
    "    \n",
    "East New York and New Lots: 11207, 11208\n",
    "    \n",
    "Greenpoint: 11211, 11222\n",
    "    \n",
    "Sunset Park: 11220, 11232\n",
    "    \n",
    "Bushwick and Williamsburg: 11206, 11221, 11237"
   ]
  },
  {
   "cell_type": "code",
   "execution_count": 49,
   "metadata": {},
   "outputs": [],
   "source": [
    "#The lowest zip code is 11201 so I am going to drop all below it\n",
    "\n",
    "brooklyn = brooklyn[brooklyn.zip_code != '11200']"
   ]
  },
  {
   "cell_type": "code",
   "execution_count": 50,
   "metadata": {},
   "outputs": [],
   "source": [
    "#The highest zip code is 11239 so I am going to drop all above it\n",
    "\n",
    "brooklyn = brooklyn[brooklyn.zip_code != '11249']"
   ]
  },
  {
   "cell_type": "code",
   "execution_count": 51,
   "metadata": {},
   "outputs": [],
   "source": [
    "#The highest zip code is 11239 so I am going to drop all above it\n",
    "\n",
    "brooklyn = brooklyn[brooklyn.zip_code != '11243']"
   ]
  },
  {
   "cell_type": "code",
   "execution_count": 52,
   "metadata": {},
   "outputs": [],
   "source": [
    "#The highest zip code is 11239 so I am going to drop all above it\n",
    "\n",
    "brooklyn = brooklyn[brooklyn.zip_code != '11416']"
   ]
  },
  {
   "cell_type": "code",
   "execution_count": 53,
   "metadata": {},
   "outputs": [],
   "source": [
    "#The highest zip code is 11239 so I am going to drop all above it\n",
    "\n",
    "brooklyn = brooklyn[brooklyn.zip_code != '11258']"
   ]
  },
  {
   "cell_type": "code",
   "execution_count": 54,
   "metadata": {},
   "outputs": [
    {
     "data": {
      "text/plain": [
       "11234    10194\n",
       "11201     8810\n",
       "11235     8029\n",
       "11221     7883\n",
       "11207     7883\n",
       "11208     7771\n",
       "11236     7311\n",
       "11215     7257\n",
       "11233     6351\n",
       "11229     6243\n",
       "11211     5908\n",
       "11238     5872\n",
       "11209     5656\n",
       "11214     5602\n",
       "11218     5247\n",
       "11203     4909\n",
       "11220     4675\n",
       "11223     4575\n",
       "11205     4573\n",
       "11204     4452\n",
       "11216     4299\n",
       "11206     4117\n",
       "11230     4062\n",
       "11219     4031\n",
       "11228     3687\n",
       "11210     3612\n",
       "11217     3395\n",
       "11226     3325\n",
       "11212     3021\n",
       "11213     2970\n",
       "11222     2744\n",
       "11237     2584\n",
       "11231     2460\n",
       "11224     2353\n",
       "11225     1932\n",
       "11232     1758\n",
       "11239      325\n",
       "Name: zip_code, dtype: int64"
      ]
     },
     "execution_count": 54,
     "metadata": {},
     "output_type": "execute_result"
    }
   ],
   "source": [
    "brooklyn['zip_code'].value_counts() "
   ]
  },
  {
   "cell_type": "markdown",
   "metadata": {},
   "source": [
    "# In-Depth Data Visualization"
   ]
  },
  {
   "cell_type": "markdown",
   "metadata": {},
   "source": [
    "#### Filling in Missing Values"
   ]
  },
  {
   "cell_type": "code",
   "execution_count": 55,
   "metadata": {},
   "outputs": [
    {
     "data": {
      "text/plain": [
       "zip_code                      0\n",
       "residential_units             0\n",
       "commercial_units              0\n",
       "total_units                   0\n",
       "land_sqft                     0\n",
       "gross_sqft                    0\n",
       "year_built                    0\n",
       "tax_class_at_sale             0\n",
       "building_class_at_sale        0\n",
       "sale_price                    0\n",
       "year_of_sale                  0\n",
       "HealthCent                    0\n",
       "HealthArea                42730\n",
       "SanitSub                  42867\n",
       "SplitZone                 42739\n",
       "LandUse                       0\n",
       "OwnerName                 42751\n",
       "LotArea                   42730\n",
       "BldgArea                  42730\n",
       "ComArea                   42730\n",
       "ResArea                   42730\n",
       "OfficeArea                42730\n",
       "RetailArea                42730\n",
       "GarageArea                42730\n",
       "StrgeArea                 42730\n",
       "FactryArea                42730\n",
       "OtherArea                 42730\n",
       "AreaSource                    0\n",
       "NumBldgs                  42730\n",
       "NumFloors                 42730\n",
       "LotFront                  42730\n",
       "LotDepth                  42730\n",
       "BldgFront                 42730\n",
       "BldgDepth                 42730\n",
       "ProxCode                      0\n",
       "IrrLotCode                42739\n",
       "LotType                       0\n",
       "BsmtCode                      0\n",
       "AssessLand                42730\n",
       "AssessTot                 42730\n",
       "ExemptLand                42730\n",
       "ExemptTot                 42730\n",
       "YearAlter1                    0\n",
       "YearAlter2                    0\n",
       "ZoneMap                   42730\n",
       "TaxMap                        0\n",
       "dtype: int64"
      ]
     },
     "execution_count": 55,
     "metadata": {},
     "output_type": "execute_result"
    }
   ],
   "source": [
    "#Before I visualize the data I am going to fill in any missing values\n",
    "#Or simply drop if there are more than 100,000+ null values\n",
    "\n",
    "brooklyn.isna().sum()"
   ]
  },
  {
   "cell_type": "code",
   "execution_count": 56,
   "metadata": {},
   "outputs": [],
   "source": [
    "brooklyn['HealthArea'] = brooklyn['HealthArea'].fillna(brooklyn['HealthArea'].median())"
   ]
  },
  {
   "cell_type": "code",
   "execution_count": 57,
   "metadata": {},
   "outputs": [],
   "source": [
    "brooklyn['SanitSub'] = brooklyn['SanitSub'].fillna(brooklyn['SanitSub'].mode()[0])"
   ]
  },
  {
   "cell_type": "code",
   "execution_count": 58,
   "metadata": {},
   "outputs": [],
   "source": [
    "brooklyn['SplitZone'] = brooklyn['SplitZone'].fillna(brooklyn['SplitZone'].mode()[0])"
   ]
  },
  {
   "cell_type": "code",
   "execution_count": 59,
   "metadata": {},
   "outputs": [],
   "source": [
    "brooklyn['OwnerName'] = brooklyn['OwnerName'].fillna(brooklyn['OwnerName'].mode()[0])"
   ]
  },
  {
   "cell_type": "code",
   "execution_count": 60,
   "metadata": {},
   "outputs": [],
   "source": [
    "brooklyn['LotArea'] = brooklyn['LotArea'].fillna(brooklyn['LotArea'].median())"
   ]
  },
  {
   "cell_type": "code",
   "execution_count": 61,
   "metadata": {},
   "outputs": [],
   "source": [
    "brooklyn['BldgArea'] = brooklyn['BldgArea'].fillna(brooklyn['BldgArea'].median())"
   ]
  },
  {
   "cell_type": "code",
   "execution_count": 62,
   "metadata": {},
   "outputs": [],
   "source": [
    "brooklyn['ResArea'] = brooklyn['ResArea'].fillna(brooklyn['ResArea'].median())"
   ]
  },
  {
   "cell_type": "code",
   "execution_count": 63,
   "metadata": {},
   "outputs": [],
   "source": [
    "brooklyn['RetailArea'] = brooklyn['RetailArea'].fillna(brooklyn['RetailArea'].median())"
   ]
  },
  {
   "cell_type": "code",
   "execution_count": 64,
   "metadata": {},
   "outputs": [],
   "source": [
    "brooklyn['NumFloors'] = brooklyn['NumFloors'].fillna(brooklyn['NumFloors'].median())"
   ]
  },
  {
   "cell_type": "code",
   "execution_count": 65,
   "metadata": {},
   "outputs": [],
   "source": [
    "brooklyn['LotFront'] = brooklyn['LotFront'].fillna(brooklyn['LotFront'].median())"
   ]
  },
  {
   "cell_type": "code",
   "execution_count": 66,
   "metadata": {},
   "outputs": [],
   "source": [
    "brooklyn['LotDepth'] = brooklyn['LotDepth'].fillna(brooklyn['LotDepth'].median())"
   ]
  },
  {
   "cell_type": "code",
   "execution_count": 67,
   "metadata": {},
   "outputs": [],
   "source": [
    "brooklyn['BldgFront'] = brooklyn['BldgFront'].fillna(brooklyn['BldgFront'].median())"
   ]
  },
  {
   "cell_type": "code",
   "execution_count": 68,
   "metadata": {},
   "outputs": [],
   "source": [
    "brooklyn['IrrLotCode'] = brooklyn['IrrLotCode'].fillna(brooklyn['IrrLotCode'].mode()[0])"
   ]
  },
  {
   "cell_type": "code",
   "execution_count": 69,
   "metadata": {},
   "outputs": [],
   "source": [
    "brooklyn['AssessLand'] = brooklyn['AssessLand'].fillna(brooklyn['AssessLand'].median())"
   ]
  },
  {
   "cell_type": "code",
   "execution_count": 70,
   "metadata": {},
   "outputs": [],
   "source": [
    "brooklyn['AssessTot'] = brooklyn['AssessTot'].fillna(brooklyn['AssessTot'].median())"
   ]
  },
  {
   "cell_type": "code",
   "execution_count": 71,
   "metadata": {},
   "outputs": [],
   "source": [
    "brooklyn['ExemptLand'] = brooklyn['ExemptLand'].fillna(brooklyn['ExemptLand'].median())"
   ]
  },
  {
   "cell_type": "code",
   "execution_count": 72,
   "metadata": {},
   "outputs": [],
   "source": [
    "brooklyn['ZoneMap'] = brooklyn['ZoneMap'].fillna(brooklyn['ZoneMap'].mode()[0])"
   ]
  },
  {
   "cell_type": "code",
   "execution_count": 73,
   "metadata": {},
   "outputs": [],
   "source": [
    "brooklyn['ComArea'] = brooklyn['ComArea'].fillna(brooklyn['ComArea'].median())"
   ]
  },
  {
   "cell_type": "code",
   "execution_count": 74,
   "metadata": {},
   "outputs": [],
   "source": [
    "brooklyn['OfficeArea'] = brooklyn['OfficeArea'].fillna(brooklyn['OfficeArea'].median())"
   ]
  },
  {
   "cell_type": "code",
   "execution_count": 75,
   "metadata": {},
   "outputs": [],
   "source": [
    "brooklyn['GarageArea'] = brooklyn['GarageArea'].fillna(brooklyn['GarageArea'].median())"
   ]
  },
  {
   "cell_type": "code",
   "execution_count": 76,
   "metadata": {},
   "outputs": [],
   "source": [
    "brooklyn['StrgeArea'] = brooklyn['StrgeArea'].fillna(brooklyn['StrgeArea'].median())"
   ]
  },
  {
   "cell_type": "code",
   "execution_count": 77,
   "metadata": {},
   "outputs": [],
   "source": [
    "brooklyn['FactryArea'] = brooklyn['FactryArea'].fillna(brooklyn['FactryArea'].median())"
   ]
  },
  {
   "cell_type": "code",
   "execution_count": 78,
   "metadata": {},
   "outputs": [],
   "source": [
    "brooklyn['OtherArea'] = brooklyn['OtherArea'].fillna(brooklyn['OtherArea'].median())"
   ]
  },
  {
   "cell_type": "code",
   "execution_count": 79,
   "metadata": {},
   "outputs": [],
   "source": [
    "brooklyn['NumBldgs'] = brooklyn['NumBldgs'].fillna(brooklyn['NumBldgs'].median())"
   ]
  },
  {
   "cell_type": "code",
   "execution_count": 80,
   "metadata": {},
   "outputs": [],
   "source": [
    "brooklyn['BldgDepth'] = brooklyn['BldgDepth'].fillna(brooklyn['BldgDepth'].median())"
   ]
  },
  {
   "cell_type": "code",
   "execution_count": 81,
   "metadata": {},
   "outputs": [],
   "source": [
    "brooklyn['ExemptTot'] = brooklyn['ExemptTot'].fillna(brooklyn['ExemptTot'].median())"
   ]
  },
  {
   "cell_type": "code",
   "execution_count": 82,
   "metadata": {},
   "outputs": [
    {
     "data": {
      "text/plain": [
       "zip_code                  0\n",
       "residential_units         0\n",
       "commercial_units          0\n",
       "total_units               0\n",
       "land_sqft                 0\n",
       "gross_sqft                0\n",
       "year_built                0\n",
       "tax_class_at_sale         0\n",
       "building_class_at_sale    0\n",
       "sale_price                0\n",
       "year_of_sale              0\n",
       "HealthCent                0\n",
       "HealthArea                0\n",
       "SanitSub                  0\n",
       "SplitZone                 0\n",
       "LandUse                   0\n",
       "OwnerName                 0\n",
       "LotArea                   0\n",
       "BldgArea                  0\n",
       "ComArea                   0\n",
       "ResArea                   0\n",
       "OfficeArea                0\n",
       "RetailArea                0\n",
       "GarageArea                0\n",
       "StrgeArea                 0\n",
       "FactryArea                0\n",
       "OtherArea                 0\n",
       "AreaSource                0\n",
       "NumBldgs                  0\n",
       "NumFloors                 0\n",
       "LotFront                  0\n",
       "LotDepth                  0\n",
       "BldgFront                 0\n",
       "BldgDepth                 0\n",
       "ProxCode                  0\n",
       "IrrLotCode                0\n",
       "LotType                   0\n",
       "BsmtCode                  0\n",
       "AssessLand                0\n",
       "AssessTot                 0\n",
       "ExemptLand                0\n",
       "ExemptTot                 0\n",
       "YearAlter1                0\n",
       "YearAlter2                0\n",
       "ZoneMap                   0\n",
       "TaxMap                    0\n",
       "dtype: int64"
      ]
     },
     "execution_count": 82,
     "metadata": {},
     "output_type": "execute_result"
    }
   ],
   "source": [
    "#Here I am just checking that I filled in the values correctly\n",
    "#There are no longer any null values\n",
    "\n",
    "brooklyn.isna().sum()"
   ]
  },
  {
   "cell_type": "code",
   "execution_count": 92,
   "metadata": {},
   "outputs": [
    {
     "data": {
      "image/png": "[encoded data removed]",
      "text/plain": [
       "<Figure size 432x288 with 1 Axes>"
      ]
     },
     "metadata": {
      "needs_background": "light"
     },
     "output_type": "display_data"
    }
   ],
   "source": [
    "#Here is a histogram for residential_units\n",
    "\n",
    "brooklyn.loc[:,\"residential_units\"].plot(kind='hist', bins=3)\n",
    "plt.xlabel(\"Range of Residential Units in Brooklyn Properties\")\n",
    "plt.title(\"Breakdown of Residential Units in Brooklyn Properties\");"
   ]
  },
  {
   "cell_type": "code",
   "execution_count": 91,
   "metadata": {},
   "outputs": [
    {
     "data": {
      "image/png": "[encoded data removed]",
      "text/plain": [
       "<Figure size 432x288 with 1 Axes>"
      ]
     },
     "metadata": {
      "needs_background": "light"
     },
     "output_type": "display_data"
    }
   ],
   "source": [
    "#Here is a histogram for commercial_units\n",
    "\n",
    "brooklyn.loc[:,\"commercial_units\"].plot(kind='hist', bins=3)\n",
    "plt.xlabel(\"Range of Commercial Units in Brooklyn Properties\")\n",
    "plt.title(\"Breakdown of Commercial Units in Brooklyn Properties\");"
   ]
  },
  {
   "cell_type": "code",
   "execution_count": 90,
   "metadata": {},
   "outputs": [
    {
     "data": {
      "image/png": "[encoded data removed]",
      "text/plain": [
       "<Figure size 432x288 with 1 Axes>"
      ]
     },
     "metadata": {
      "needs_background": "light"
     },
     "output_type": "display_data"
    }
   ],
   "source": [
    "#Here is a histogram for total_units\n",
    "\n",
    "brooklyn.loc[:,\"total_units\"].plot(kind='hist', bins=3)\n",
    "plt.xlabel(\"Range of Total Units in Brooklyn Properties\")\n",
    "plt.title(\"Breakdown of Total Units in Brooklyn Properties\");"
   ]
  },
  {
   "cell_type": "markdown",
   "metadata": {},
   "source": [
    "# Converting Strings Into Dummy Variables"
   ]
  },
  {
   "cell_type": "code",
   "execution_count": 84,
   "metadata": {},
   "outputs": [],
   "source": [
    "brooklyn_new = brooklyn[['sale_price', 'zip_code', 'residential_units', 'commercial_units', 'total_units', 'land_sqft',\n",
    "                        'gross_sqft', 'year_built', 'tax_class_at_sale', 'building_class_at_sale', 'year_of_sale',\n",
    "                        'HealthArea', 'LotArea', 'BldgArea', 'ResArea', 'RetailArea', 'NumFloors', 'LotFront',\n",
    "                        'LotDepth', 'BldgFront', 'AssessLand', 'AssessTot', 'ExemptLand']]"
   ]
  },
  {
   "cell_type": "code",
   "execution_count": 85,
   "metadata": {},
   "outputs": [],
   "source": [
    "#Here I am officially converting the categorical variables into dummy variables\n",
    "\n",
    "\n",
    "brooklyn_new = pd.get_dummies(brooklyn_new, columns=['zip_code', 'year_built', 'tax_class_at_sale', 'building_class_at_sale', \n",
    "                                                     'year_of_sale'], drop_first=True)"
   ]
  },
  {
   "cell_type": "code",
   "execution_count": 86,
   "metadata": {},
   "outputs": [
    {
     "data": {
      "text/plain": [
       "sale_price                   1.000000\n",
       "year_of_sale_2017            0.155257\n",
       "year_of_sale_2016            0.127658\n",
       "building_class_at_sale_C1    0.119826\n",
       "tax_class_at_sale_4          0.112540\n",
       "year_of_sale_2015            0.110985\n",
       "zip_code_11215               0.107054\n",
       "land_sqft                    0.097463\n",
       "zip_code_11231               0.096332\n",
       "zip_code_11217               0.086685\n",
       "gross_sqft                   0.085187\n",
       "total_units                  0.068150\n",
       "year_built_1931              0.068046\n",
       "zip_code_11211               0.066967\n",
       "year_built_1900              0.064029\n",
       "year_of_sale_2014            0.063808\n",
       "commercial_units             0.060856\n",
       "year_built_1916              0.059924\n",
       "residential_units            0.059613\n",
       "year_built_1899              0.057675\n",
       "building_class_at_sale_A3    0.056775\n",
       "building_class_at_sale_C0    0.052870\n",
       "building_class_at_sale_C7    0.051828\n",
       "building_class_at_sale_C3    0.050886\n",
       "year_built_2015              0.049950\n",
       "RetailArea                   0.044604\n",
       "zip_code_11238               0.043098\n",
       "building_class_at_sale_E9    0.042935\n",
       "building_class_at_sale_A4    0.042391\n",
       "zip_code_11222               0.042014\n",
       "                               ...   \n",
       "year_of_sale_2009           -0.040433\n",
       "building_class_at_sale_B1   -0.041329\n",
       "year_built_2004             -0.041549\n",
       "NumFloors                   -0.043408\n",
       "year_built_1940             -0.043598\n",
       "year_built_1955             -0.046077\n",
       "AssessLand                  -0.049380\n",
       "zip_code_11224              -0.050075\n",
       "zip_code_11212              -0.050100\n",
       "year_built_1964             -0.053870\n",
       "LotFront                    -0.063834\n",
       "LotDepth                    -0.068154\n",
       "building_class_at_sale_A9   -0.069425\n",
       "BldgFront                   -0.070429\n",
       "LotArea                     -0.074401\n",
       "AssessTot                   -0.075480\n",
       "year_of_sale_2005           -0.076359\n",
       "building_class_at_sale_R3   -0.081077\n",
       "HealthArea                  -0.081304\n",
       "zip_code_11203              -0.081454\n",
       "ExemptLand                  -0.083970\n",
       "zip_code_11207              -0.085115\n",
       "BldgArea                    -0.088104\n",
       "building_class_at_sale_A5   -0.088502\n",
       "zip_code_11234              -0.089938\n",
       "ResArea                     -0.092298\n",
       "zip_code_11208              -0.104707\n",
       "zip_code_11236              -0.109734\n",
       "building_class_at_sale_D4   -0.110071\n",
       "year_of_sale_2004           -0.118911\n",
       "Name: sale_price, Length: 389, dtype: float64"
      ]
     },
     "execution_count": 86,
     "metadata": {},
     "output_type": "execute_result"
    }
   ],
   "source": [
    "brooklyn_new.corr().loc[:, 'sale_price'].sort_values(ascending=False)"
   ]
  },
  {
   "cell_type": "code",
   "execution_count": 87,
   "metadata": {},
   "outputs": [],
   "source": [
    "brooklyn_numeric = brooklyn_new.select_dtypes(['int64', 'float64'])"
   ]
  },
  {
   "cell_type": "code",
   "execution_count": 88,
   "metadata": {},
   "outputs": [
    {
     "data": {
      "text/plain": [
       "sale_price           1.000000\n",
       "land_sqft            0.097463\n",
       "gross_sqft           0.085187\n",
       "total_units          0.068150\n",
       "commercial_units     0.060856\n",
       "residential_units    0.059613\n",
       "RetailArea           0.044604\n",
       "NumFloors           -0.043408\n",
       "AssessLand          -0.049380\n",
       "LotFront            -0.063834\n",
       "LotDepth            -0.068154\n",
       "BldgFront           -0.070429\n",
       "LotArea             -0.074401\n",
       "AssessTot           -0.075480\n",
       "HealthArea          -0.081304\n",
       "ExemptLand          -0.083970\n",
       "BldgArea            -0.088104\n",
       "ResArea             -0.092298\n",
       "Name: sale_price, dtype: float64"
      ]
     },
     "execution_count": 88,
     "metadata": {},
     "output_type": "execute_result"
    }
   ],
   "source": [
    "brooklyn_numeric.corr().loc[:, 'sale_price'].sort_values(ascending=False)"
   ]
  },
  {
   "cell_type": "code",
   "execution_count": 89,
   "metadata": {},
   "outputs": [],
   "source": [
    "brooklyn_new = brooklyn.drop(['RetailArea','NumFloors','AssessLand'], axis = 'columns')"
   ]
  },
  {
   "cell_type": "markdown",
   "metadata": {},
   "source": [
    "# Checking for Collinearity"
   ]
  },
  {
   "cell_type": "code",
   "execution_count": 90,
   "metadata": {},
   "outputs": [],
   "source": [
    "brooklyn_numeric = brooklyn_new.select_dtypes(['int64', 'float64'])"
   ]
  },
  {
   "cell_type": "code",
   "execution_count": 92,
   "metadata": {},
   "outputs": [],
   "source": [
    "#Here I am creating a subset of the brooklyn dataset in order to test collinearity\n",
    "#The sns heatmap will only accept a certain amount of inputs\n",
    "\n",
    "bkn_1 = brooklyn_numeric.iloc[:, 0:8]"
   ]
  },
  {
   "cell_type": "code",
   "execution_count": 93,
   "metadata": {},
   "outputs": [],
   "source": [
    "#Here I am creating a subset of the brooklyn dataset in order to test collinearity\n",
    "#The sns heatmap will only accept a certain amount of inputs\n",
    "\n",
    "bkn_2 = brooklyn_numeric.iloc[:, 8:15]"
   ]
  },
  {
   "cell_type": "code",
   "execution_count": 94,
   "metadata": {},
   "outputs": [
    {
     "data": {
      "image/png": "[encoded data removed]",
      "text/plain": [
       "<Figure size 432x288 with 2 Axes>"
      ]
     },
     "metadata": {
      "needs_background": "light"
     },
     "output_type": "display_data"
    }
   ],
   "source": [
    "ax = sns.heatmap(bkn_1.corr(), vmin = -1, vmax = 1, annot=True)"
   ]
  },
  {
   "cell_type": "code",
   "execution_count": 95,
   "metadata": {},
   "outputs": [
    {
     "data": {
      "image/png": "[encoded data removed]",
      "text/plain": [
       "<Figure size 432x288 with 2 Axes>"
      ]
     },
     "metadata": {
      "needs_background": "light"
     },
     "output_type": "display_data"
    }
   ],
   "source": [
    "ax = sns.heatmap(bkn_2.corr(), vmin = -1, vmax = 1, annot=True)"
   ]
  },
  {
   "cell_type": "code",
   "execution_count": null,
   "metadata": {},
   "outputs": [],
   "source": []
  },
  {
   "cell_type": "code",
   "execution_count": null,
   "metadata": {},
   "outputs": [],
   "source": []
  },
  {
   "cell_type": "code",
   "execution_count": null,
   "metadata": {},
   "outputs": [],
   "source": []
  },
  {
   "cell_type": "code",
   "execution_count": null,
   "metadata": {},
   "outputs": [],
   "source": []
  },
  {
   "cell_type": "code",
   "execution_count": null,
   "metadata": {},
   "outputs": [],
   "source": []
  }
 ],
 "metadata": {
  "kernelspec": {
   "display_name": "Python 3",
   "language": "python",
   "name": "python3"
  },
  "language_info": {
   "codemirror_mode": {
    "name": "ipython",
    "version": 3
   },
   "file_extension": ".py",
   "mimetype": "text/x-python",
   "name": "python",
   "nbconvert_exporter": "python",
   "pygments_lexer": "ipython3",
   "version": "3.7.3"
  }
 },
 "nbformat": 4,
 "nbformat_minor": 2
}
