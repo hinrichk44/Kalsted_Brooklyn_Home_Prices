{
 "cells": [
  {
   "cell_type": "markdown",
   "metadata": {},
   "source": [
    "# Project Overview"
   ]
  },
  {
   "cell_type": "markdown",
   "metadata": {},
   "source": [
    "This project is a redo of what I did for General Assembly. I believe now that I have worked hard at coding and done many other projects, then I can vastly improve the previous project. The dataset is a documentation of property sales in Brooklyn, NY from 2003-2017. It can be found on Kaggle https://www.kaggle.com/tianhwu/brooklynhomes2003to2017. The target variable that I want to predict is the sale price of the properties. "
   ]
  },
  {
   "cell_type": "markdown",
   "metadata": {},
   "source": [
    "# Importing Basic Libraries"
   ]
  },
  {
   "cell_type": "code",
   "execution_count": 94,
   "metadata": {},
   "outputs": [],
   "source": [
    "#These are the libraries I typically use in my analysis so I find it easier to import them all at once\n",
    "#If I need more libraries I will import them as needed\n",
    "\n",
    "import matplotlib.pyplot as plt\n",
    "import numpy as np\n",
    "import pandas as pd\n",
    "import seaborn as sns\n",
    "plt.style.use('fivethirtyeight')\n",
    "%matplotlib inline"
   ]
  },
  {
   "cell_type": "markdown",
   "metadata": {},
   "source": [
    "# Initial Review of the Data"
   ]
  },
  {
   "cell_type": "code",
   "execution_count": 95,
   "metadata": {},
   "outputs": [
    {
     "name": "stderr",
     "output_type": "stream",
     "text": [
      "C:\\Users\\kalstedh\\AppData\\Local\\Continuum\\anaconda3\\lib\\site-packages\\IPython\\core\\interactiveshell.py:3049: DtypeWarning: Columns (40,41,43,45,46,47,86) have mixed types. Specify dtype option on import or set low_memory=False.\n",
      "  interactivity=interactivity, compiler=compiler, result=result)\n"
     ]
    }
   ],
   "source": [
    "#Reading in of the dataset\n",
    "\n",
    "brooklyn = pd.read_csv(\"brooklyn_sales_map.csv\")"
   ]
  },
  {
   "cell_type": "code",
   "execution_count": 96,
   "metadata": {},
   "outputs": [
    {
     "data": {
      "text/plain": [
       "(390883, 111)"
      ]
     },
     "execution_count": 96,
     "metadata": {},
     "output_type": "execute_result"
    }
   ],
   "source": [
    "#The beginning structure of this dataset contains 390,883 rows and 111 columns worth of data\n",
    "\n",
    "brooklyn.shape"
   ]
  },
  {
   "cell_type": "code",
   "execution_count": 97,
   "metadata": {},
   "outputs": [
    {
     "data": {
      "text/plain": [
       "Unnamed: 0                   int64\n",
       "borough                      int64\n",
       "neighborhood                object\n",
       "building_class_category     object\n",
       "tax_class                   object\n",
       "block                        int64\n",
       "lot                          int64\n",
       "easement                   float64\n",
       "building_class              object\n",
       "address                     object\n",
       "apartment_number            object\n",
       "zip_code                     int64\n",
       "residential_units            int64\n",
       "commercial_units             int64\n",
       "total_units                  int64\n",
       "land_sqft                  float64\n",
       "gross_sqft                 float64\n",
       "year_built                   int64\n",
       "tax_class_at_sale            int64\n",
       "building_class_at_sale      object\n",
       "sale_price                 float64\n",
       "sale_date                   object\n",
       "year_of_sale                 int64\n",
       "Borough                     object\n",
       "CD                         float64\n",
       "CT2010                     float64\n",
       "CB2010                     float64\n",
       "SchoolDist                 float64\n",
       "Council                    float64\n",
       "ZipCode                    float64\n",
       "                            ...   \n",
       "ExemptTot                  float64\n",
       "YearBuilt                  float64\n",
       "YearAlter1                 float64\n",
       "YearAlter2                 float64\n",
       "HistDist                    object\n",
       "Landmark                    object\n",
       "BuiltFAR                   float64\n",
       "ResidFAR                   float64\n",
       "CommFAR                    float64\n",
       "FacilFAR                   float64\n",
       "BoroCode                   float64\n",
       "BBL                        float64\n",
       "CondoNo                    float64\n",
       "Tract2010                  float64\n",
       "XCoord                     float64\n",
       "YCoord                     float64\n",
       "ZoneMap                     object\n",
       "ZMCode                      object\n",
       "Sanborn                     object\n",
       "TaxMap                     float64\n",
       "EDesigNum                   object\n",
       "APPBBL                     float64\n",
       "APPDate                     object\n",
       "PLUTOMapID                 float64\n",
       "FIRM07_FLA                 float64\n",
       "PFIRM15_FL                 float64\n",
       "Version                     object\n",
       "MAPPLUTO_F                 float64\n",
       "SHAPE_Leng                 float64\n",
       "SHAPE_Area                 float64\n",
       "Length: 111, dtype: object"
      ]
     },
     "execution_count": 97,
     "metadata": {},
     "output_type": "execute_result"
    }
   ],
   "source": [
    "#Here I am checking what the data types are for my potential explanatory variables\n",
    "#Looks like most of them are numeric (integers or floats)\n",
    "#There are definitely a few strings though that may have to be converted to dummy variables\n",
    "\n",
    "brooklyn.dtypes"
   ]
  },
  {
   "cell_type": "code",
   "execution_count": 98,
   "metadata": {},
   "outputs": [
    {
     "data": {
      "text/html": [
       "<div>\n",
       "<style scoped>\n",
       "    .dataframe tbody tr th:only-of-type {\n",
       "        vertical-align: middle;\n",
       "    }\n",
       "\n",
       "    .dataframe tbody tr th {\n",
       "        vertical-align: top;\n",
       "    }\n",
       "\n",
       "    .dataframe thead th {\n",
       "        text-align: right;\n",
       "    }\n",
       "</style>\n",
       "<table border=\"1\" class=\"dataframe\">\n",
       "  <thead>\n",
       "    <tr style=\"text-align: right;\">\n",
       "      <th></th>\n",
       "      <th>Unnamed: 0</th>\n",
       "      <th>borough</th>\n",
       "      <th>neighborhood</th>\n",
       "      <th>building_class_category</th>\n",
       "      <th>tax_class</th>\n",
       "      <th>block</th>\n",
       "      <th>lot</th>\n",
       "      <th>easement</th>\n",
       "      <th>building_class</th>\n",
       "      <th>address</th>\n",
       "      <th>...</th>\n",
       "      <th>EDesigNum</th>\n",
       "      <th>APPBBL</th>\n",
       "      <th>APPDate</th>\n",
       "      <th>PLUTOMapID</th>\n",
       "      <th>FIRM07_FLA</th>\n",
       "      <th>PFIRM15_FL</th>\n",
       "      <th>Version</th>\n",
       "      <th>MAPPLUTO_F</th>\n",
       "      <th>SHAPE_Leng</th>\n",
       "      <th>SHAPE_Area</th>\n",
       "    </tr>\n",
       "  </thead>\n",
       "  <tbody>\n",
       "    <tr>\n",
       "      <th>0</th>\n",
       "      <td>1</td>\n",
       "      <td>3</td>\n",
       "      <td>DOWNTOWN-METROTECH</td>\n",
       "      <td>28  COMMERCIAL CONDOS</td>\n",
       "      <td>4</td>\n",
       "      <td>140</td>\n",
       "      <td>1001</td>\n",
       "      <td>NaN</td>\n",
       "      <td>R5</td>\n",
       "      <td>330 JAY STREET</td>\n",
       "      <td>...</td>\n",
       "      <td>NaN</td>\n",
       "      <td>NaN</td>\n",
       "      <td>NaN</td>\n",
       "      <td>NaN</td>\n",
       "      <td>NaN</td>\n",
       "      <td>NaN</td>\n",
       "      <td>NaN</td>\n",
       "      <td>NaN</td>\n",
       "      <td>NaN</td>\n",
       "      <td>NaN</td>\n",
       "    </tr>\n",
       "    <tr>\n",
       "      <th>1</th>\n",
       "      <td>2</td>\n",
       "      <td>3</td>\n",
       "      <td>DOWNTOWN-FULTON FERRY</td>\n",
       "      <td>29  COMMERCIAL GARAGES</td>\n",
       "      <td>4</td>\n",
       "      <td>54</td>\n",
       "      <td>1</td>\n",
       "      <td>NaN</td>\n",
       "      <td>G7</td>\n",
       "      <td>85 JAY STREET</td>\n",
       "      <td>...</td>\n",
       "      <td>NaN</td>\n",
       "      <td>3.000540e+09</td>\n",
       "      <td>12/06/2002</td>\n",
       "      <td>1.0</td>\n",
       "      <td>NaN</td>\n",
       "      <td>NaN</td>\n",
       "      <td>17V1.1</td>\n",
       "      <td>0.0</td>\n",
       "      <td>1559.889144</td>\n",
       "      <td>140131.577176</td>\n",
       "    </tr>\n",
       "    <tr>\n",
       "      <th>2</th>\n",
       "      <td>3</td>\n",
       "      <td>3</td>\n",
       "      <td>BROOKLYN HEIGHTS</td>\n",
       "      <td>21  OFFICE BUILDINGS</td>\n",
       "      <td>4</td>\n",
       "      <td>204</td>\n",
       "      <td>1</td>\n",
       "      <td>NaN</td>\n",
       "      <td>O6</td>\n",
       "      <td>29 COLUMBIA HEIGHTS</td>\n",
       "      <td>...</td>\n",
       "      <td>NaN</td>\n",
       "      <td>0.000000e+00</td>\n",
       "      <td>NaN</td>\n",
       "      <td>1.0</td>\n",
       "      <td>NaN</td>\n",
       "      <td>NaN</td>\n",
       "      <td>17V1.1</td>\n",
       "      <td>0.0</td>\n",
       "      <td>890.718521</td>\n",
       "      <td>34656.447240</td>\n",
       "    </tr>\n",
       "    <tr>\n",
       "      <th>3</th>\n",
       "      <td>4</td>\n",
       "      <td>3</td>\n",
       "      <td>MILL BASIN</td>\n",
       "      <td>22  STORE BUILDINGS</td>\n",
       "      <td>4</td>\n",
       "      <td>8470</td>\n",
       "      <td>55</td>\n",
       "      <td>NaN</td>\n",
       "      <td>K6</td>\n",
       "      <td>5120 AVENUE U</td>\n",
       "      <td>...</td>\n",
       "      <td>NaN</td>\n",
       "      <td>0.000000e+00</td>\n",
       "      <td>NaN</td>\n",
       "      <td>1.0</td>\n",
       "      <td>1.0</td>\n",
       "      <td>1.0</td>\n",
       "      <td>17V1.1</td>\n",
       "      <td>0.0</td>\n",
       "      <td>3729.786857</td>\n",
       "      <td>797554.847834</td>\n",
       "    </tr>\n",
       "    <tr>\n",
       "      <th>4</th>\n",
       "      <td>5</td>\n",
       "      <td>3</td>\n",
       "      <td>BROOKLYN HEIGHTS</td>\n",
       "      <td>26 OTHER HOTELS</td>\n",
       "      <td>4</td>\n",
       "      <td>230</td>\n",
       "      <td>1</td>\n",
       "      <td>NaN</td>\n",
       "      <td>H8</td>\n",
       "      <td>21 CLARK STREET</td>\n",
       "      <td>...</td>\n",
       "      <td>NaN</td>\n",
       "      <td>0.000000e+00</td>\n",
       "      <td>NaN</td>\n",
       "      <td>1.0</td>\n",
       "      <td>NaN</td>\n",
       "      <td>NaN</td>\n",
       "      <td>17V1.1</td>\n",
       "      <td>0.0</td>\n",
       "      <td>620.761169</td>\n",
       "      <td>21360.147631</td>\n",
       "    </tr>\n",
       "  </tbody>\n",
       "</table>\n",
       "<p>5 rows × 111 columns</p>\n",
       "</div>"
      ],
      "text/plain": [
       "   Unnamed: 0  borough           neighborhood building_class_category  \\\n",
       "0           1        3     DOWNTOWN-METROTECH   28  COMMERCIAL CONDOS   \n",
       "1           2        3  DOWNTOWN-FULTON FERRY  29  COMMERCIAL GARAGES   \n",
       "2           3        3       BROOKLYN HEIGHTS    21  OFFICE BUILDINGS   \n",
       "3           4        3             MILL BASIN     22  STORE BUILDINGS   \n",
       "4           5        3       BROOKLYN HEIGHTS         26 OTHER HOTELS   \n",
       "\n",
       "  tax_class  block   lot  easement building_class              address  ...  \\\n",
       "0         4    140  1001       NaN             R5       330 JAY STREET  ...   \n",
       "1         4     54     1       NaN             G7        85 JAY STREET  ...   \n",
       "2         4    204     1       NaN             O6  29 COLUMBIA HEIGHTS  ...   \n",
       "3         4   8470    55       NaN             K6        5120 AVENUE U  ...   \n",
       "4         4    230     1       NaN             H8      21 CLARK STREET  ...   \n",
       "\n",
       "  EDesigNum        APPBBL     APPDate  PLUTOMapID  FIRM07_FLA  PFIRM15_FL  \\\n",
       "0       NaN           NaN         NaN         NaN         NaN         NaN   \n",
       "1       NaN  3.000540e+09  12/06/2002         1.0         NaN         NaN   \n",
       "2       NaN  0.000000e+00         NaN         1.0         NaN         NaN   \n",
       "3       NaN  0.000000e+00         NaN         1.0         1.0         1.0   \n",
       "4       NaN  0.000000e+00         NaN         1.0         NaN         NaN   \n",
       "\n",
       "   Version  MAPPLUTO_F   SHAPE_Leng     SHAPE_Area  \n",
       "0      NaN         NaN          NaN            NaN  \n",
       "1   17V1.1         0.0  1559.889144  140131.577176  \n",
       "2   17V1.1         0.0   890.718521   34656.447240  \n",
       "3   17V1.1         0.0  3729.786857  797554.847834  \n",
       "4   17V1.1         0.0   620.761169   21360.147631  \n",
       "\n",
       "[5 rows x 111 columns]"
      ]
     },
     "execution_count": 98,
     "metadata": {},
     "output_type": "execute_result"
    }
   ],
   "source": [
    "#A brief look at the beginning of the dataset\n",
    "\n",
    "brooklyn.head()"
   ]
  },
  {
   "cell_type": "code",
   "execution_count": 99,
   "metadata": {},
   "outputs": [
    {
     "data": {
      "text/html": [
       "<div>\n",
       "<style scoped>\n",
       "    .dataframe tbody tr th:only-of-type {\n",
       "        vertical-align: middle;\n",
       "    }\n",
       "\n",
       "    .dataframe tbody tr th {\n",
       "        vertical-align: top;\n",
       "    }\n",
       "\n",
       "    .dataframe thead th {\n",
       "        text-align: right;\n",
       "    }\n",
       "</style>\n",
       "<table border=\"1\" class=\"dataframe\">\n",
       "  <thead>\n",
       "    <tr style=\"text-align: right;\">\n",
       "      <th></th>\n",
       "      <th>Unnamed: 0</th>\n",
       "      <th>borough</th>\n",
       "      <th>neighborhood</th>\n",
       "      <th>building_class_category</th>\n",
       "      <th>tax_class</th>\n",
       "      <th>block</th>\n",
       "      <th>lot</th>\n",
       "      <th>easement</th>\n",
       "      <th>building_class</th>\n",
       "      <th>address</th>\n",
       "      <th>...</th>\n",
       "      <th>EDesigNum</th>\n",
       "      <th>APPBBL</th>\n",
       "      <th>APPDate</th>\n",
       "      <th>PLUTOMapID</th>\n",
       "      <th>FIRM07_FLA</th>\n",
       "      <th>PFIRM15_FL</th>\n",
       "      <th>Version</th>\n",
       "      <th>MAPPLUTO_F</th>\n",
       "      <th>SHAPE_Leng</th>\n",
       "      <th>SHAPE_Area</th>\n",
       "    </tr>\n",
       "  </thead>\n",
       "  <tbody>\n",
       "    <tr>\n",
       "      <th>390878</th>\n",
       "      <td>390879</td>\n",
       "      <td>3</td>\n",
       "      <td>WYCKOFF HEIGHTS</td>\n",
       "      <td>31  COMMERCIAL VACANT LAND</td>\n",
       "      <td>1</td>\n",
       "      <td>3337</td>\n",
       "      <td>19</td>\n",
       "      <td>NaN</td>\n",
       "      <td>C0</td>\n",
       "      <td>364 LINDEN STREET</td>\n",
       "      <td>...</td>\n",
       "      <td>NaN</td>\n",
       "      <td>0.0</td>\n",
       "      <td>NaN</td>\n",
       "      <td>1.0</td>\n",
       "      <td>NaN</td>\n",
       "      <td>NaN</td>\n",
       "      <td>17V1.1</td>\n",
       "      <td>0.0</td>\n",
       "      <td>244.422014</td>\n",
       "      <td>2501.088819</td>\n",
       "    </tr>\n",
       "    <tr>\n",
       "      <th>390879</th>\n",
       "      <td>390880</td>\n",
       "      <td>3</td>\n",
       "      <td>WYCKOFF HEIGHTS</td>\n",
       "      <td>31  COMMERCIAL VACANT LAND</td>\n",
       "      <td>1</td>\n",
       "      <td>3337</td>\n",
       "      <td>19</td>\n",
       "      <td>NaN</td>\n",
       "      <td>C0</td>\n",
       "      <td>364 LINDEN STREET</td>\n",
       "      <td>...</td>\n",
       "      <td>NaN</td>\n",
       "      <td>0.0</td>\n",
       "      <td>NaN</td>\n",
       "      <td>1.0</td>\n",
       "      <td>NaN</td>\n",
       "      <td>NaN</td>\n",
       "      <td>17V1.1</td>\n",
       "      <td>0.0</td>\n",
       "      <td>244.422014</td>\n",
       "      <td>2501.088819</td>\n",
       "    </tr>\n",
       "    <tr>\n",
       "      <th>390880</th>\n",
       "      <td>390881</td>\n",
       "      <td>3</td>\n",
       "      <td>WYCKOFF HEIGHTS</td>\n",
       "      <td>41  TAX CLASS 4 - OTHER</td>\n",
       "      <td>4</td>\n",
       "      <td>3280</td>\n",
       "      <td>50</td>\n",
       "      <td>NaN</td>\n",
       "      <td>Z9</td>\n",
       "      <td>383 HARMAN STREET</td>\n",
       "      <td>...</td>\n",
       "      <td>NaN</td>\n",
       "      <td>0.0</td>\n",
       "      <td>NaN</td>\n",
       "      <td>1.0</td>\n",
       "      <td>NaN</td>\n",
       "      <td>NaN</td>\n",
       "      <td>17V1.1</td>\n",
       "      <td>0.0</td>\n",
       "      <td>231.409296</td>\n",
       "      <td>2795.673780</td>\n",
       "    </tr>\n",
       "    <tr>\n",
       "      <th>390881</th>\n",
       "      <td>390882</td>\n",
       "      <td>3</td>\n",
       "      <td>3004</td>\n",
       "      <td>04  TAX CLASS 1 CONDOS</td>\n",
       "      <td>NaN</td>\n",
       "      <td>6886</td>\n",
       "      <td>1107</td>\n",
       "      <td>NaN</td>\n",
       "      <td>NaN</td>\n",
       "      <td>14 BAY 47TH STREET</td>\n",
       "      <td>...</td>\n",
       "      <td>NaN</td>\n",
       "      <td>NaN</td>\n",
       "      <td>NaN</td>\n",
       "      <td>NaN</td>\n",
       "      <td>NaN</td>\n",
       "      <td>NaN</td>\n",
       "      <td>NaN</td>\n",
       "      <td>NaN</td>\n",
       "      <td>NaN</td>\n",
       "      <td>NaN</td>\n",
       "    </tr>\n",
       "    <tr>\n",
       "      <th>390882</th>\n",
       "      <td>390883</td>\n",
       "      <td>3</td>\n",
       "      <td>3004</td>\n",
       "      <td>04  TAX CLASS 1 CONDOS</td>\n",
       "      <td>NaN</td>\n",
       "      <td>6886</td>\n",
       "      <td>1109</td>\n",
       "      <td>NaN</td>\n",
       "      <td>NaN</td>\n",
       "      <td>14 BAY 47 STREET</td>\n",
       "      <td>...</td>\n",
       "      <td>NaN</td>\n",
       "      <td>NaN</td>\n",
       "      <td>NaN</td>\n",
       "      <td>NaN</td>\n",
       "      <td>NaN</td>\n",
       "      <td>NaN</td>\n",
       "      <td>NaN</td>\n",
       "      <td>NaN</td>\n",
       "      <td>NaN</td>\n",
       "      <td>NaN</td>\n",
       "    </tr>\n",
       "  </tbody>\n",
       "</table>\n",
       "<p>5 rows × 111 columns</p>\n",
       "</div>"
      ],
      "text/plain": [
       "        Unnamed: 0  borough     neighborhood     building_class_category  \\\n",
       "390878      390879        3  WYCKOFF HEIGHTS  31  COMMERCIAL VACANT LAND   \n",
       "390879      390880        3  WYCKOFF HEIGHTS  31  COMMERCIAL VACANT LAND   \n",
       "390880      390881        3  WYCKOFF HEIGHTS     41  TAX CLASS 4 - OTHER   \n",
       "390881      390882        3             3004      04  TAX CLASS 1 CONDOS   \n",
       "390882      390883        3             3004      04  TAX CLASS 1 CONDOS   \n",
       "\n",
       "       tax_class  block   lot  easement building_class             address  \\\n",
       "390878         1   3337    19       NaN             C0   364 LINDEN STREET   \n",
       "390879         1   3337    19       NaN             C0   364 LINDEN STREET   \n",
       "390880         4   3280    50       NaN             Z9   383 HARMAN STREET   \n",
       "390881       NaN   6886  1107       NaN            NaN  14 BAY 47TH STREET   \n",
       "390882       NaN   6886  1109       NaN            NaN    14 BAY 47 STREET   \n",
       "\n",
       "        ... EDesigNum  APPBBL  APPDate  PLUTOMapID  FIRM07_FLA  PFIRM15_FL  \\\n",
       "390878  ...       NaN     0.0      NaN         1.0         NaN         NaN   \n",
       "390879  ...       NaN     0.0      NaN         1.0         NaN         NaN   \n",
       "390880  ...       NaN     0.0      NaN         1.0         NaN         NaN   \n",
       "390881  ...       NaN     NaN      NaN         NaN         NaN         NaN   \n",
       "390882  ...       NaN     NaN      NaN         NaN         NaN         NaN   \n",
       "\n",
       "        Version  MAPPLUTO_F  SHAPE_Leng   SHAPE_Area  \n",
       "390878   17V1.1         0.0  244.422014  2501.088819  \n",
       "390879   17V1.1         0.0  244.422014  2501.088819  \n",
       "390880   17V1.1         0.0  231.409296  2795.673780  \n",
       "390881      NaN         NaN         NaN          NaN  \n",
       "390882      NaN         NaN         NaN          NaN  \n",
       "\n",
       "[5 rows x 111 columns]"
      ]
     },
     "execution_count": 99,
     "metadata": {},
     "output_type": "execute_result"
    }
   ],
   "source": [
    "#A brief look at the end of the dataset\n",
    "\n",
    "brooklyn.tail()"
   ]
  },
  {
   "cell_type": "code",
   "execution_count": 100,
   "metadata": {},
   "outputs": [],
   "source": [
    "#Here I am just dropping the first column of \"unnamed\" since it has no use \n",
    "\n",
    "brooklyn = brooklyn.drop(brooklyn.columns[0], axis=1)"
   ]
  },
  {
   "cell_type": "code",
   "execution_count": 101,
   "metadata": {},
   "outputs": [
    {
     "data": {
      "text/plain": [
       "Index(['borough', 'neighborhood', 'building_class_category', 'tax_class',\n",
       "       'block', 'lot', 'easement', 'building_class', 'address',\n",
       "       'apartment_number',\n",
       "       ...\n",
       "       'EDesigNum', 'APPBBL', 'APPDate', 'PLUTOMapID', 'FIRM07_FLA',\n",
       "       'PFIRM15_FL', 'Version', 'MAPPLUTO_F', 'SHAPE_Leng', 'SHAPE_Area'],\n",
       "      dtype='object', length=110)"
      ]
     },
     "execution_count": 101,
     "metadata": {},
     "output_type": "execute_result"
    }
   ],
   "source": [
    "#There are so many columns in this dataset that even trying to look at them as a whole seems inefficient\n",
    "\n",
    "brooklyn.columns"
   ]
  },
  {
   "cell_type": "markdown",
   "metadata": {},
   "source": [
    "# Glossary of Terms"
   ]
  },
  {
   "cell_type": "markdown",
   "metadata": {},
   "source": [
    "The full glossary is here https://www1.nyc.gov/assets/planning/download/pdf/data-maps/open-data/pluto_datadictionary.pdf?v=18v1"
   ]
  },
  {
   "cell_type": "markdown",
   "metadata": {},
   "source": [
    "1. BOROUGH: The borough in which the tax lot is located. \n",
    "\n",
    "2. TAX BLOCK: The tax block in which the tax lot is located. Could be important.  \n",
    "\n",
    "3. TAX LOT: The number of the tax lot. Each tax lot is unique within a tax block (see TAX BLOCK). \n",
    "\n",
    "4. COMMUNITY DISTRICT: The community district (CD) or joint interest area (JIA) for the tax lot. The city is divided into 59 community districts and 12 joint interest areas, which are large parks or airports that are not considered part of any community district. \n",
    "\n",
    "5. CENSUS TRACT: The 2010 census tract in which the tax lot is located.  \n",
    "\n",
    "6. CENSUS BLOCK: The 2010 census block in which the tax lot is located. \n",
    "\n",
    "7. SCHOOL DISTRICT: The school district in which the tax lot is located. \n",
    "\n",
    "8. CITY COUNCIL DISTRICT: The city council district in which the tax lot is located. \n",
    "\n",
    "9. ZIP CODE: A ZIP code that is valid for one of the addresses assigned to the tax lot. \n",
    "\n",
    "10. FIRE COMPANY: The fire company that services the tax lot. \n",
    "\n",
    "11. POLICE PRECINCT: The police precinct in which the tax lot is located. \n",
    "\n",
    "12. HEALTH CENTER DISTRICT: The health center district in which the tax lot is located. \n",
    "\n",
    "13. HEALTH AREA: The health area in which the tax lot is located. \n",
    "\n",
    "14. SANITATION DISTRICT BORO: The borough of the sanitation district that services the tax lot. \n",
    "\n",
    "15. SANITATION DISTRICT NUMBER: The sanitation district that services the tax lot. \n",
    "\n",
    "16. SANITATION SUBSECTION: The subsection of the sanitation district that services the tax lot. \n",
    " \n",
    "17. ADDRESS: An address for the tax lot. \n",
    "\n",
    "18. ZONING DISTRICT 1: The zoning district classification of the tax lot. ZONING DISTRICT 1 represents the zoning district classification occupying the greatest percentage of the tax lot’s area.\n",
    "\n",
    "19. ZONING DISTRICT 2: ZONING DISTRICT 2 represents the zoning classification occupying the second greatest percentage of the tax lot's area. \n",
    "\n",
    "20. ZONING DISTRICT 3: ZONING DISTRICT 3 represents the zoning classification occupying the third greatest percentage of the tax lot's area.\n",
    "\n",
    "21. ZONING DISTRICT 4: ZONING DISTRICT 4 represents the zoning classification occupying the fourth greatest percentage of the tax lot's area.\n",
    "\n",
    "22. COMMERCIAL OVERLAY 1: The commercial overlay assigned to the tax lot. COMMERCIAL OVERLAY 1 represents the commercial overlay occupying the greatest percentage of the lot area.\n",
    "\n",
    "23. COMMERCIAL OVERLAY 2:  COMMERCIAL OVERLAY 2 represents the commercial overlay occupying the second largest percentage of the tax lot's area.\n",
    "\n",
    "24. SPECIAL PURPOSE DISTRICT 1: The special purpose district assigned to the tax lot. SPECIAL PURPOSE DISTRICT 1 represents the special purpose district occupying the greatest percentage of the lot area.\n",
    "\n",
    "25. SPECIAL PURPOSE DISTRICT 2: SPECIAL PURPOSE DISTRICT 2 represents the special purpose district occupying the second greatest percentage of the lot area.\n",
    "\n",
    "26. SPECIAL PURPOSE DISTRICT 3: SPECIAL PURPOSE DISTRICT 3 represents the special purpose district occupying the smallest percentage of the lot area.\n",
    "\n",
    "27. LIMITED HEIGHT DISTRICT: The limited height district assigned to the tax lot. A limited height district is superimposed on an area designated as an historic district by the Landmarks Preservation Commission.\n",
    " \n",
    "28. SPLIT BOUNDARY INDICATOR: A code indicating whether the tax lot is split between multiple zoning features. The split boundary indicator is equal to “Y” if the tax lot has a value for ZONING DISTRICT 2, COMMERCIAL OVERLAY 2, or SPECIAL DISTRICT BOUNDARY 2.\n",
    "\n",
    "29. BUILDING CLASS: A code describing the major use of structures on the tax lot.\n",
    "\n",
    "30. LAND USE CATEGORY: A code for the tax lot's land use category. The Department of City Planning has created 11 land use categories and assigns each BUILDING CLASS to the most appropriate land use category.\n",
    "\n",
    "31. NUMBER OF EASEMENTS: The number of unique easements on the tax lot. If the number of easements is zero, the tax lot has no easements\n",
    "\n",
    "32. TYPE OF OWNERSHIP CODE: A code indicating type of ownership for the tax lot.\n",
    "\n",
    "33. OWNER NAME: The name of the owner of the tax lot.\n",
    "\n",
    "34. LOT AREA: Total area of the tax lot, expressed in square feet rounded to the nearest integer.\n",
    "\n",
    "35. TOTAL BUILDING FLOOR AREA: The total gross area in square feet, except for condominium measurements which come from the Condo Declaration and are net square footage not gross.\n",
    "\n",
    "36. COMMERCIAL FLOOR AREA: An estimate of the exterior dimensions of the portion of the structure(s) allocated for commercial use\n",
    "\n",
    "37. RESIDENTIAL FLOOR AREA: An estimate of the exterior dimensions of the portion of the structure(s) allocated for residential use.\n",
    "\n",
    "38. OFFICE FLOOR AREA: An estimate of the exterior dimensions of the portion of the structure(s) allocated for office use.\n",
    "\n",
    "39. RETAIL FLOOR AREA: An estimate of the exterior dimensions of the portion of the structure(s) allocated for retail use.\n",
    "\n",
    "40. GARAGE FLOOR AREA: An estimate of the exterior dimensions of the portion of the structure(s) allocated for garage use.\n",
    "\n",
    "41. STORAGE FLOOR AREA: An estimate of the exterior dimensions of the portion of the structure(s) allocated for storage or loft purposes. \n",
    "\n",
    "42. FACTORY FLOOR AREA: An estimate of the exterior dimensions of the portion of the structure(s) allocated for factory, warehouse or loft use.\n",
    "\n",
    "43. OTHER FLOOR AREA: An estimate of the exterior dimensions of the portion of the structure(s) allocated for other than commercial, residential, office, retail, garage, storage, or factory use.\n",
    "\n",
    "44. TOTAL BUILDING FLOOR AREA SOURCE CODE: A code indicating the methodology used to determine the tax lot's TOTAL BUILDING FLOOR AREA (BldgArea)\n",
    "\n",
    "45. NUMBER OF BUILDINGS: The number of buildings on the tax lot.\n",
    "\n",
    "46. NUMBER OF FLOORS: The number of full and partial stories starting from the ground floor, for the tallest building on the tax lot.\n",
    "\n",
    "47. RESIDENTIAL UNITS: The sum of residential units in all buildings on the tax lot. If there are no residential units in the tax lot, this field will be zero.\n",
    "\n",
    "48. TOTAL UNITS: The sum of residential and non-residential (offices, retail stores, etc.) units for all buildings on the tax lot.\n",
    "\n",
    "49. LOT FRONTPAGE: The tax lot's frontage measured in feet.\n",
    "\n",
    "50. LOT DEPTH: The tax lot's depth measured in feet.\n",
    "\n",
    "51. BUILDING FRONTAGE: The building’s frontage along the street measured in feet.\n",
    "\n",
    "52. BUILDING DEPTH: The building’s depth, which is the effective perpendicular distance, measured in feet.\n",
    "\n",
    "53. EXTENSION CODE: A code identifying whether there is an extension on the lot or a garage other than the primary structure.\n",
    "\n",
    "54. PROXIMITY CODE: A code describing the physical relationship of the building to neighboring buildings.\n",
    "\n",
    "55. IRREGULAR LOT CODE: A code indicating whether the tax lot is irregularly shaped\n",
    "\n",
    "56. LOT TYPE: A code indicating the location of the tax lot in relationship to another tax lot and/or the water.\n",
    "\n",
    "57. BASEMENT TYPE: A code describing the building’s basement. \n",
    "\n",
    "58. ASSESSED LAND VALUE: The assessed land value for the tax lot.\n",
    "\n",
    "59. ASSESSED TOTAL VALUE: The assessed total value for the tax lot.\n",
    "\n",
    "60. EXEMPT TOTAL VALUE: The exempt total value, which is determined differently for each exemption program, is the dollar amount related to that portion of the tax lot that has received an exemption.\n",
    "\n",
    "61. YEAR BUILT: The year construction of the building was completed.\n",
    "\n",
    "62. YEAR ALTERED 1: If a building has only been altered once, YEAR ALTERED 1 is the date that alteration began. If a building has been altered more than once, YEAR ALTERED 1 is the year of the second most recent alteration.\n",
    "\n",
    "63. YEAR ALTERED 2: If a building has only been altered once, this field is blank. If a building has been altered more than once, YEAR ALTERED 2 is the year that the most recent alteration began.\n",
    "\n",
    "64. HISTORIC DISTRICT NAME: The name of the Historic District that the tax lot is within.\n",
    "\n",
    "65. LANDMARK STATUS: This value indicates whether the lot contains an individual landmark building, an interior landmark building, or both.\n",
    "\n",
    "66. BUILT FLOOR AREA RATIO: The BUILT FLOOR AREA RATIO is the total building floor area divided by the area of the tax lot.\n",
    "\n",
    "67. MAXIMUM ALLOWABLE RESIDENTIAL FAR: The maximum allowable residential floor area ratio, based on the zoning district classification occupying the greatest percentage of the tax lot’s area as reported in ZoneDist1.\n",
    "\n",
    "68. MAXIMUM ALLOWABLE COMMERICAL FAR: The maximum allowable commercial floor area ratio, based on the zoning district classification occupying the greatest percentage of the tax lot’s area as reported in ZoneDist1.\n",
    "\n",
    "69. MAXIMUM ALLOWABLE COMMUNITY FACILITY: The maximum allowable community facility floor area ratio, based on the zoning district classification occupying the greatest percentage of the tax lot’s area as reported in ZoneDist1.\n",
    "\n",
    "70. BORO CODE: The borough in which the tax lot is located.\n",
    "\n",
    "71. BOROUGH, TAX BLOCK, & LOT: A concatenation of the borough code, tax block and tax lot\n",
    "\n",
    "72. CONDOMINIUM NUMBER: The condominium number assigned to the complex\n",
    "\n",
    "73. CENSUS TRACT 2: The 2010 census tract in which the tax lot is located.\n",
    "\n",
    "74. X COORDINATE: The X coordinate of the XY coordinate pair which depicts the approximate location of the lot.\n",
    "\n",
    "75. Y COORDINATE: The Y coordinate of the XY coordinate pair which depicts the approximate location of the lot.\n",
    "\n",
    "76. ZONING MAP: The Department of City Planning Zoning Map Number associated with the tax lot’s X and Y Coordinates.\n",
    "\n",
    "77. ZONING MAP CODE: A code (Y) identifies a tax lot on the border of two or more zoning maps.\n",
    " \n",
    "78. SANBORN MAP: The Sanborn Map Company map number associated with the tax block and lot.\n",
    "\n",
    "79. TAX MAP: The Department of Finance paper tax map volume number associated with the tax block and lot. \n",
    "\n",
    "80. E-DESIGNATION NUMBER: The (E) designation number assigned to the tax lot. An (E) designation provides notice of the presence of an environmental requirement pertaining to potential hazardous materials contamination, high ambient noise levels or air emission concerns on a particular tax lot.\n",
    "\n",
    "81. APPORTIONMENT BBL: The originating BBL (borough, block and lot) from the apportionment prior to the merge, split or property’s conversion to a condominium.\n",
    "\n",
    "82. APPORTIONMENT DATE: The date of the apportionment.\n",
    "\n",
    "83. PLUTO BASE: A code indicating whether the tax lot is in the PLUTO file, the MapPLUTO file with water areas included, and/or the MapPLUTO file that is clipped to the shoreline.\n",
    "\n",
    "84. 2007 FLOOD INSURANCE: A value of 1 means that some portion of the tax lot falls within the 1% annual chance floodplain as determined by FEMA’s 2007 Flood Insurance Rate Map.\n",
    "\n",
    "85. 2015 FLOOD INSURANCE: A value of 1 means that some portion of the tax lot falls within the 1% annual chance floodplain as determined by FEMA’s 2015 Preliminary Flood Insurance Rate Map.\n",
    "\n",
    "86. VERSION NUMBER: The version number for this release of PLUTO.\n",
    "\n",
    "87. CHANGED BY DCP: Flag indicating that City Planning has applied a correction to the record.\n",
    "\n",
    "88. LATITUDE: The WGS 84 latitude of the latitude/longitude coordinate pair for the approximate location of the tax lot.\n",
    "\n",
    "89. LONGITUDE: The WGS 84 longitude of the latitude/longitude coordinate pair for the approximate location of the tax lot\n",
    "\n",
    "90. NOTES: A text field containing notes of importance to one or more lots"
   ]
  },
  {
   "cell_type": "code",
   "execution_count": 102,
   "metadata": {},
   "outputs": [
    {
     "data": {
      "text/html": [
       "<div>\n",
       "<style scoped>\n",
       "    .dataframe tbody tr th:only-of-type {\n",
       "        vertical-align: middle;\n",
       "    }\n",
       "\n",
       "    .dataframe tbody tr th {\n",
       "        vertical-align: top;\n",
       "    }\n",
       "\n",
       "    .dataframe thead th {\n",
       "        text-align: right;\n",
       "    }\n",
       "</style>\n",
       "<table border=\"1\" class=\"dataframe\">\n",
       "  <thead>\n",
       "    <tr style=\"text-align: right;\">\n",
       "      <th></th>\n",
       "      <th>borough</th>\n",
       "      <th>block</th>\n",
       "      <th>lot</th>\n",
       "      <th>easement</th>\n",
       "      <th>zip_code</th>\n",
       "      <th>residential_units</th>\n",
       "      <th>commercial_units</th>\n",
       "      <th>total_units</th>\n",
       "      <th>land_sqft</th>\n",
       "      <th>gross_sqft</th>\n",
       "      <th>...</th>\n",
       "      <th>XCoord</th>\n",
       "      <th>YCoord</th>\n",
       "      <th>TaxMap</th>\n",
       "      <th>APPBBL</th>\n",
       "      <th>PLUTOMapID</th>\n",
       "      <th>FIRM07_FLA</th>\n",
       "      <th>PFIRM15_FL</th>\n",
       "      <th>MAPPLUTO_F</th>\n",
       "      <th>SHAPE_Leng</th>\n",
       "      <th>SHAPE_Area</th>\n",
       "    </tr>\n",
       "  </thead>\n",
       "  <tbody>\n",
       "    <tr>\n",
       "      <th>count</th>\n",
       "      <td>390883.0</td>\n",
       "      <td>390883.000000</td>\n",
       "      <td>390883.000000</td>\n",
       "      <td>0.0</td>\n",
       "      <td>390883.000000</td>\n",
       "      <td>390883.000000</td>\n",
       "      <td>390883.000000</td>\n",
       "      <td>390883.000000</td>\n",
       "      <td>3.908830e+05</td>\n",
       "      <td>3.908830e+05</td>\n",
       "      <td>...</td>\n",
       "      <td>3.037280e+05</td>\n",
       "      <td>303728.000000</td>\n",
       "      <td>303710.000000</td>\n",
       "      <td>3.037280e+05</td>\n",
       "      <td>303728.000000</td>\n",
       "      <td>8653.0</td>\n",
       "      <td>27773.0</td>\n",
       "      <td>303728.000000</td>\n",
       "      <td>303728.000000</td>\n",
       "      <td>3.037280e+05</td>\n",
       "    </tr>\n",
       "    <tr>\n",
       "      <th>mean</th>\n",
       "      <td>3.0</td>\n",
       "      <td>4275.651169</td>\n",
       "      <td>272.509986</td>\n",
       "      <td>NaN</td>\n",
       "      <td>11208.429087</td>\n",
       "      <td>2.486138</td>\n",
       "      <td>0.174142</td>\n",
       "      <td>2.673227</td>\n",
       "      <td>2.368464e+03</td>\n",
       "      <td>2.970877e+03</td>\n",
       "      <td>...</td>\n",
       "      <td>9.921077e+05</td>\n",
       "      <td>175146.073694</td>\n",
       "      <td>31396.728152</td>\n",
       "      <td>1.927884e+08</td>\n",
       "      <td>1.000145</td>\n",
       "      <td>1.0</td>\n",
       "      <td>1.0</td>\n",
       "      <td>0.000244</td>\n",
       "      <td>337.445796</td>\n",
       "      <td>8.645885e+03</td>\n",
       "    </tr>\n",
       "    <tr>\n",
       "      <th>std</th>\n",
       "      <td>0.0</td>\n",
       "      <td>2642.765332</td>\n",
       "      <td>484.658837</td>\n",
       "      <td>NaN</td>\n",
       "      <td>361.207836</td>\n",
       "      <td>48.200178</td>\n",
       "      <td>1.653362</td>\n",
       "      <td>48.233343</td>\n",
       "      <td>2.509129e+04</td>\n",
       "      <td>1.453960e+04</td>\n",
       "      <td>...</td>\n",
       "      <td>7.391759e+04</td>\n",
       "      <td>18390.569903</td>\n",
       "      <td>754.905314</td>\n",
       "      <td>7.409608e+08</td>\n",
       "      <td>0.017021</td>\n",
       "      <td>0.0</td>\n",
       "      <td>0.0</td>\n",
       "      <td>0.036740</td>\n",
       "      <td>329.587401</td>\n",
       "      <td>3.116106e+04</td>\n",
       "    </tr>\n",
       "    <tr>\n",
       "      <th>min</th>\n",
       "      <td>3.0</td>\n",
       "      <td>1.000000</td>\n",
       "      <td>1.000000</td>\n",
       "      <td>NaN</td>\n",
       "      <td>0.000000</td>\n",
       "      <td>0.000000</td>\n",
       "      <td>0.000000</td>\n",
       "      <td>0.000000</td>\n",
       "      <td>0.000000e+00</td>\n",
       "      <td>0.000000e+00</td>\n",
       "      <td>...</td>\n",
       "      <td>0.000000e+00</td>\n",
       "      <td>0.000000</td>\n",
       "      <td>3.000000</td>\n",
       "      <td>0.000000e+00</td>\n",
       "      <td>1.000000</td>\n",
       "      <td>1.0</td>\n",
       "      <td>1.0</td>\n",
       "      <td>0.000000</td>\n",
       "      <td>2.143758</td>\n",
       "      <td>1.007072e-01</td>\n",
       "    </tr>\n",
       "    <tr>\n",
       "      <th>25%</th>\n",
       "      <td>3.0</td>\n",
       "      <td>1786.000000</td>\n",
       "      <td>21.000000</td>\n",
       "      <td>NaN</td>\n",
       "      <td>11209.000000</td>\n",
       "      <td>1.000000</td>\n",
       "      <td>0.000000</td>\n",
       "      <td>1.000000</td>\n",
       "      <td>0.000000e+00</td>\n",
       "      <td>0.000000e+00</td>\n",
       "      <td>...</td>\n",
       "      <td>9.892368e+05</td>\n",
       "      <td>165334.750000</td>\n",
       "      <td>30611.000000</td>\n",
       "      <td>0.000000e+00</td>\n",
       "      <td>1.000000</td>\n",
       "      <td>1.0</td>\n",
       "      <td>1.0</td>\n",
       "      <td>0.000000</td>\n",
       "      <td>238.997798</td>\n",
       "      <td>1.938904e+03</td>\n",
       "    </tr>\n",
       "    <tr>\n",
       "      <th>50%</th>\n",
       "      <td>3.0</td>\n",
       "      <td>4305.000000</td>\n",
       "      <td>45.000000</td>\n",
       "      <td>NaN</td>\n",
       "      <td>11219.000000</td>\n",
       "      <td>1.000000</td>\n",
       "      <td>0.000000</td>\n",
       "      <td>1.000000</td>\n",
       "      <td>1.900000e+03</td>\n",
       "      <td>1.820000e+03</td>\n",
       "      <td>...</td>\n",
       "      <td>9.975955e+05</td>\n",
       "      <td>175906.000000</td>\n",
       "      <td>31506.000000</td>\n",
       "      <td>0.000000e+00</td>\n",
       "      <td>1.000000</td>\n",
       "      <td>1.0</td>\n",
       "      <td>1.0</td>\n",
       "      <td>0.000000</td>\n",
       "      <td>249.411350</td>\n",
       "      <td>2.316886e+03</td>\n",
       "    </tr>\n",
       "    <tr>\n",
       "      <th>75%</th>\n",
       "      <td>3.0</td>\n",
       "      <td>6585.000000</td>\n",
       "      <td>94.000000</td>\n",
       "      <td>NaN</td>\n",
       "      <td>11230.000000</td>\n",
       "      <td>2.000000</td>\n",
       "      <td>0.000000</td>\n",
       "      <td>2.000000</td>\n",
       "      <td>2.500000e+03</td>\n",
       "      <td>3.000000e+03</td>\n",
       "      <td>...</td>\n",
       "      <td>1.005059e+06</td>\n",
       "      <td>187140.000000</td>\n",
       "      <td>32005.000000</td>\n",
       "      <td>0.000000e+00</td>\n",
       "      <td>1.000000</td>\n",
       "      <td>1.0</td>\n",
       "      <td>1.0</td>\n",
       "      <td>0.000000</td>\n",
       "      <td>283.169119</td>\n",
       "      <td>3.478477e+03</td>\n",
       "    </tr>\n",
       "    <tr>\n",
       "      <th>max</th>\n",
       "      <td>3.0</td>\n",
       "      <td>8955.000000</td>\n",
       "      <td>9133.000000</td>\n",
       "      <td>NaN</td>\n",
       "      <td>33803.000000</td>\n",
       "      <td>20811.000000</td>\n",
       "      <td>355.000000</td>\n",
       "      <td>20811.000000</td>\n",
       "      <td>7.446955e+06</td>\n",
       "      <td>2.548000e+06</td>\n",
       "      <td>...</td>\n",
       "      <td>1.024202e+06</td>\n",
       "      <td>208406.000000</td>\n",
       "      <td>32605.000000</td>\n",
       "      <td>3.089321e+09</td>\n",
       "      <td>3.000000</td>\n",
       "      <td>1.0</td>\n",
       "      <td>1.0</td>\n",
       "      <td>7.000000</td>\n",
       "      <td>19861.521019</td>\n",
       "      <td>7.149338e+06</td>\n",
       "    </tr>\n",
       "  </tbody>\n",
       "</table>\n",
       "<p>8 rows × 74 columns</p>\n",
       "</div>"
      ],
      "text/plain": [
       "        borough          block            lot  easement       zip_code  \\\n",
       "count  390883.0  390883.000000  390883.000000       0.0  390883.000000   \n",
       "mean        3.0    4275.651169     272.509986       NaN   11208.429087   \n",
       "std         0.0    2642.765332     484.658837       NaN     361.207836   \n",
       "min         3.0       1.000000       1.000000       NaN       0.000000   \n",
       "25%         3.0    1786.000000      21.000000       NaN   11209.000000   \n",
       "50%         3.0    4305.000000      45.000000       NaN   11219.000000   \n",
       "75%         3.0    6585.000000      94.000000       NaN   11230.000000   \n",
       "max         3.0    8955.000000    9133.000000       NaN   33803.000000   \n",
       "\n",
       "       residential_units  commercial_units    total_units     land_sqft  \\\n",
       "count      390883.000000     390883.000000  390883.000000  3.908830e+05   \n",
       "mean            2.486138          0.174142       2.673227  2.368464e+03   \n",
       "std            48.200178          1.653362      48.233343  2.509129e+04   \n",
       "min             0.000000          0.000000       0.000000  0.000000e+00   \n",
       "25%             1.000000          0.000000       1.000000  0.000000e+00   \n",
       "50%             1.000000          0.000000       1.000000  1.900000e+03   \n",
       "75%             2.000000          0.000000       2.000000  2.500000e+03   \n",
       "max         20811.000000        355.000000   20811.000000  7.446955e+06   \n",
       "\n",
       "         gross_sqft  ...        XCoord         YCoord         TaxMap  \\\n",
       "count  3.908830e+05  ...  3.037280e+05  303728.000000  303710.000000   \n",
       "mean   2.970877e+03  ...  9.921077e+05  175146.073694   31396.728152   \n",
       "std    1.453960e+04  ...  7.391759e+04   18390.569903     754.905314   \n",
       "min    0.000000e+00  ...  0.000000e+00       0.000000       3.000000   \n",
       "25%    0.000000e+00  ...  9.892368e+05  165334.750000   30611.000000   \n",
       "50%    1.820000e+03  ...  9.975955e+05  175906.000000   31506.000000   \n",
       "75%    3.000000e+03  ...  1.005059e+06  187140.000000   32005.000000   \n",
       "max    2.548000e+06  ...  1.024202e+06  208406.000000   32605.000000   \n",
       "\n",
       "             APPBBL     PLUTOMapID  FIRM07_FLA  PFIRM15_FL     MAPPLUTO_F  \\\n",
       "count  3.037280e+05  303728.000000      8653.0     27773.0  303728.000000   \n",
       "mean   1.927884e+08       1.000145         1.0         1.0       0.000244   \n",
       "std    7.409608e+08       0.017021         0.0         0.0       0.036740   \n",
       "min    0.000000e+00       1.000000         1.0         1.0       0.000000   \n",
       "25%    0.000000e+00       1.000000         1.0         1.0       0.000000   \n",
       "50%    0.000000e+00       1.000000         1.0         1.0       0.000000   \n",
       "75%    0.000000e+00       1.000000         1.0         1.0       0.000000   \n",
       "max    3.089321e+09       3.000000         1.0         1.0       7.000000   \n",
       "\n",
       "          SHAPE_Leng    SHAPE_Area  \n",
       "count  303728.000000  3.037280e+05  \n",
       "mean      337.445796  8.645885e+03  \n",
       "std       329.587401  3.116106e+04  \n",
       "min         2.143758  1.007072e-01  \n",
       "25%       238.997798  1.938904e+03  \n",
       "50%       249.411350  2.316886e+03  \n",
       "75%       283.169119  3.478477e+03  \n",
       "max     19861.521019  7.149338e+06  \n",
       "\n",
       "[8 rows x 74 columns]"
      ]
     },
     "execution_count": 102,
     "metadata": {},
     "output_type": "execute_result"
    }
   ],
   "source": [
    "#Here I am looking at basic summary statistics for the numeric columns\n",
    "#There are still so many columns that it's hard to get a macro sense of what's going on\n",
    "#However, things like zip code and year built aren't really numeric, they should be converted\n",
    "#Also, the average sale price looks very high, and the minimum sale price is 0 which seems suspicious\n",
    "\n",
    "brooklyn.describe()"
   ]
  },
  {
   "cell_type": "code",
   "execution_count": 103,
   "metadata": {},
   "outputs": [
    {
     "data": {
      "text/html": [
       "<div>\n",
       "<style scoped>\n",
       "    .dataframe tbody tr th:only-of-type {\n",
       "        vertical-align: middle;\n",
       "    }\n",
       "\n",
       "    .dataframe tbody tr th {\n",
       "        vertical-align: top;\n",
       "    }\n",
       "\n",
       "    .dataframe thead th {\n",
       "        text-align: right;\n",
       "    }\n",
       "</style>\n",
       "<table border=\"1\" class=\"dataframe\">\n",
       "  <thead>\n",
       "    <tr style=\"text-align: right;\">\n",
       "      <th></th>\n",
       "      <th>neighborhood</th>\n",
       "      <th>building_class_category</th>\n",
       "      <th>tax_class</th>\n",
       "      <th>building_class</th>\n",
       "      <th>address</th>\n",
       "      <th>apartment_number</th>\n",
       "      <th>building_class_at_sale</th>\n",
       "      <th>sale_date</th>\n",
       "      <th>Borough</th>\n",
       "      <th>FireComp</th>\n",
       "      <th>...</th>\n",
       "      <th>Ext</th>\n",
       "      <th>IrrLotCode</th>\n",
       "      <th>HistDist</th>\n",
       "      <th>Landmark</th>\n",
       "      <th>ZoneMap</th>\n",
       "      <th>ZMCode</th>\n",
       "      <th>Sanborn</th>\n",
       "      <th>EDesigNum</th>\n",
       "      <th>APPDate</th>\n",
       "      <th>Version</th>\n",
       "    </tr>\n",
       "  </thead>\n",
       "  <tbody>\n",
       "    <tr>\n",
       "      <th>count</th>\n",
       "      <td>390883</td>\n",
       "      <td>390800</td>\n",
       "      <td>383949</td>\n",
       "      <td>383949</td>\n",
       "      <td>390882</td>\n",
       "      <td>85616</td>\n",
       "      <td>390883</td>\n",
       "      <td>390883</td>\n",
       "      <td>303728</td>\n",
       "      <td>303480</td>\n",
       "      <td>...</td>\n",
       "      <td>66133</td>\n",
       "      <td>303706</td>\n",
       "      <td>19674</td>\n",
       "      <td>126</td>\n",
       "      <td>303728</td>\n",
       "      <td>6112</td>\n",
       "      <td>303710</td>\n",
       "      <td>3554</td>\n",
       "      <td>19259</td>\n",
       "      <td>303728</td>\n",
       "    </tr>\n",
       "    <tr>\n",
       "      <th>unique</th>\n",
       "      <td>64</td>\n",
       "      <td>88</td>\n",
       "      <td>10</td>\n",
       "      <td>183</td>\n",
       "      <td>226076</td>\n",
       "      <td>5734</td>\n",
       "      <td>187</td>\n",
       "      <td>5377</td>\n",
       "      <td>1</td>\n",
       "      <td>102</td>\n",
       "      <td>...</td>\n",
       "      <td>3</td>\n",
       "      <td>2</td>\n",
       "      <td>35</td>\n",
       "      <td>55</td>\n",
       "      <td>32</td>\n",
       "      <td>1</td>\n",
       "      <td>1542</td>\n",
       "      <td>115</td>\n",
       "      <td>2125</td>\n",
       "      <td>1</td>\n",
       "    </tr>\n",
       "    <tr>\n",
       "      <th>top</th>\n",
       "      <td>BEDFORD STUYVESANT</td>\n",
       "      <td>02 TWO FAMILY HOMES</td>\n",
       "      <td>1</td>\n",
       "      <td>C0</td>\n",
       "      <td>2 NORTHSIDE PIERS</td>\n",
       "      <td>4</td>\n",
       "      <td>C0</td>\n",
       "      <td>2006-08-31</td>\n",
       "      <td>BK</td>\n",
       "      <td>L170</td>\n",
       "      <td>...</td>\n",
       "      <td>G</td>\n",
       "      <td>N</td>\n",
       "      <td>Brooklyn Heights Historic District</td>\n",
       "      <td>PUBLIC SCHOOL 9 ANNEX</td>\n",
       "      <td>17a</td>\n",
       "      <td>Y</td>\n",
       "      <td>306 049</td>\n",
       "      <td>E-138</td>\n",
       "      <td>01/03/1992</td>\n",
       "      <td>17V1.1</td>\n",
       "    </tr>\n",
       "    <tr>\n",
       "      <th>freq</th>\n",
       "      <td>27279</td>\n",
       "      <td>106127</td>\n",
       "      <td>198969</td>\n",
       "      <td>39996</td>\n",
       "      <td>650</td>\n",
       "      <td>3681</td>\n",
       "      <td>38691</td>\n",
       "      <td>1133</td>\n",
       "      <td>303728</td>\n",
       "      <td>10093</td>\n",
       "      <td>...</td>\n",
       "      <td>44790</td>\n",
       "      <td>252341</td>\n",
       "      <td>3974</td>\n",
       "      <td>12</td>\n",
       "      <td>32613</td>\n",
       "      <td>6112</td>\n",
       "      <td>1047</td>\n",
       "      <td>688</td>\n",
       "      <td>238</td>\n",
       "      <td>303728</td>\n",
       "    </tr>\n",
       "  </tbody>\n",
       "</table>\n",
       "<p>4 rows × 36 columns</p>\n",
       "</div>"
      ],
      "text/plain": [
       "              neighborhood building_class_category tax_class building_class  \\\n",
       "count               390883                  390800    383949         383949   \n",
       "unique                  64                      88        10            183   \n",
       "top     BEDFORD STUYVESANT     02 TWO FAMILY HOMES         1             C0   \n",
       "freq                 27279                  106127    198969          39996   \n",
       "\n",
       "                  address apartment_number building_class_at_sale   sale_date  \\\n",
       "count              390882            85616                 390883      390883   \n",
       "unique             226076             5734                    187        5377   \n",
       "top     2 NORTHSIDE PIERS                4                     C0  2006-08-31   \n",
       "freq                  650             3681                  38691        1133   \n",
       "\n",
       "       Borough FireComp  ...    Ext IrrLotCode  \\\n",
       "count   303728   303480  ...  66133     303706   \n",
       "unique       1      102  ...      3          2   \n",
       "top         BK     L170  ...      G          N   \n",
       "freq    303728    10093  ...  44790     252341   \n",
       "\n",
       "                                  HistDist               Landmark ZoneMap  \\\n",
       "count                                19674                    126  303728   \n",
       "unique                                  35                     55      32   \n",
       "top     Brooklyn Heights Historic District  PUBLIC SCHOOL 9 ANNEX     17a   \n",
       "freq                                  3974                     12   32613   \n",
       "\n",
       "       ZMCode  Sanborn EDesigNum     APPDate Version  \n",
       "count    6112   303710      3554       19259  303728  \n",
       "unique      1     1542       115        2125       1  \n",
       "top         Y  306 049     E-138  01/03/1992  17V1.1  \n",
       "freq     6112     1047       688         238  303728  \n",
       "\n",
       "[4 rows x 36 columns]"
      ]
     },
     "execution_count": 103,
     "metadata": {},
     "output_type": "execute_result"
    }
   ],
   "source": [
    "#Here I am looking at basic summary statistics for the non-numeric columns\n",
    "#There's not much I can glean from this. There's too much noise\n",
    "\n",
    "brooklyn.describe(include='object')"
   ]
  },
  {
   "cell_type": "markdown",
   "metadata": {},
   "source": [
    "# Data Cleaning Round One"
   ]
  },
  {
   "cell_type": "markdown",
   "metadata": {},
   "source": [
    "#### Dropping Irrelevant Columns"
   ]
  },
  {
   "cell_type": "markdown",
   "metadata": {},
   "source": [
    "Dropping irrelevant columns will make my analysis much simpler. I had done this on the first project, but now knowing the definitions of all of the columns is making this easier"
   ]
  },
  {
   "cell_type": "code",
   "execution_count": 104,
   "metadata": {},
   "outputs": [],
   "source": [
    "#I am dropping borough, Borough, and  BoroCode because this is all Brooklyn anyway\n",
    "#I am dropping CD (community district) because there's only two values and they signify Brooklyn\n",
    "#I am dropping Census Tract CT2010 and Census Block CB2010 because they're too \"federal\" \n",
    "#I am dropping PolicePrct and FireComp because I don't believe they are drivers of property values\n",
    "#I am dropping HealthCent and HealthArea because I don't believe they are drivers of property values\n",
    "#I am dropping SanitBoro because it's \"3\" for Brooklyn. No explanatory power\n",
    "#I am dropping SanitDistr and SanitSub because I don't believe they are drivers of property values\n",
    "#I am dropping Address and address because they're too granular\n",
    "#I am dropping Overlay1 and Overlay2 because they are both better covered under zoning districts\n",
    "#I am dropping SPDist1, SPDist2 and SPDist3 because they are all better covered under zoning districts\n",
    "#I am dropping 'SplitZone' since it is better covered under zoning districts\n",
    "#I am dropping 'ZipCode' since it's the same as zip_code\n",
    "#I am dropping easement since it's the same as Easements\n",
    "#I am dropping OwnerName because OwnerType is a better indicator\n",
    "#I am dropping AreaSource because I don't need the source of calculation. Just the calculations themselves. \n",
    "#I am dropping Extension Code Ext because that's not going to drive property values in either direction\n",
    "#I am dropping IrrLotCode because the shape of a lot is not that important\n",
    "#I am dropping LotType because the information it shows is not very significant\n",
    "#I am dropping BsmtCode because the type of basement is not that important \n",
    "#I am dropping Historic District Name HistDist because the landmark status is more important\n",
    "#I am dropping 'BuiltFAR' since it's better used in other variables\n",
    "#I am dropping 'BBL' since it's all Brooklyn\n",
    "#I am dropping 'CondoNo' since that's too granular\n",
    "#I am dropping Census Tract 2 (Tract2010) for the same reason as CT2010\n",
    "#I am dropping Xcoord and YCoord because we're looking locally, not globally \n",
    "#I am dropping ZoneMap since it's the same as X and Y coordinates \n",
    "#I am dropping ZMCode since it's the same idea as ZoneMap\n",
    "#I am dropping Sanborn since it's all Brooklyn\n",
    "#I am dropping TaxMap since it's all Brooklyn\n",
    "#I am dropping APPBBL since it's the same as BBL\n",
    "#I am dropping apportionment date (APPDate) since that's irrelevant\n",
    "#I am dropping DTM BASE MAP INDICATOR (PLUTOMapID) since that's irrelevant\n",
    "#I am dropping 2007 flood insurance (FIRM07) since although flooding could be important, this isn't Florida\n",
    "#I am dropping 2015 flood insurance (PFIRM15_Flag) for the same reason as 2007 \n",
    "#I am dropping Version since it's related to PLUTO\n",
    "#I am dropping apartment number for the same reason I dropped Condo Number\n",
    "#I am dropping MAPPLUTO_F for the same reason I dropped PLUTOMapID\n",
    "#I am dropping block because that's too granular \n",
    "#I am dropping neighborhood since that's too granular\n",
    "#I am dropping SHAPE_Area and SHAPE_Leng because there are no definitions for them\n",
    "\n",
    "\n",
    "\n",
    "brooklyn = brooklyn.drop(['borough', 'Borough', 'BoroCode', 'CD', 'CT2010', 'CB2010', 'FireComp',\n",
    "                         'PolicePrct', 'HealthCent', 'HealthArea', 'SanitBoro', 'SanitDistr',\n",
    "                         'SanitSub', 'Address', 'address', 'Overlay1', 'Overlay2', 'SPDist1', \n",
    "                         'SPDist2', 'SPDist3', 'SplitZone', 'ZipCode', 'easement', 'OwnerName',\n",
    "                         'AreaSource', 'Ext', 'IrrLotCode', 'LotType', 'BsmtCode', 'HistDist',\n",
    "                         'BuiltFAR', 'BBL', 'CondoNo', 'Tract2010', 'XCoord', 'YCoord', 'ZoneMap',\n",
    "                         'ZMCode', 'Sanborn', 'TaxMap', 'APPBBL', 'APPDate', 'PLUTOMapID', 'FIRM07_FLA',\n",
    "                         'PFIRM15_FL', 'Version', 'apartment_number', 'MAPPLUTO_F', 'block',\n",
    "                         'neighborhood', 'SHAPE_Area', 'SHAPE_Leng'], axis = 'columns')"
   ]
  },
  {
   "cell_type": "markdown",
   "metadata": {},
   "source": [
    "#### Checking for Null Values"
   ]
  },
  {
   "cell_type": "code",
   "execution_count": 105,
   "metadata": {},
   "outputs": [
    {
     "data": {
      "text/plain": [
       "building_class_category        83\n",
       "tax_class                    6934\n",
       "lot                             0\n",
       "building_class               6934\n",
       "zip_code                        0\n",
       "residential_units               0\n",
       "commercial_units                0\n",
       "total_units                     0\n",
       "land_sqft                       0\n",
       "gross_sqft                      0\n",
       "year_built                      0\n",
       "tax_class_at_sale               0\n",
       "building_class_at_sale          0\n",
       "sale_price                      0\n",
       "sale_date                       0\n",
       "year_of_sale                    0\n",
       "SchoolDist                  87195\n",
       "Council                     87155\n",
       "ZoneDist1                   87169\n",
       "ZoneDist2                  375768\n",
       "ZoneDist3                  390697\n",
       "ZoneDist4                  390880\n",
       "LtdHeight                  385762\n",
       "BldgClass                   87177\n",
       "LandUse                     88172\n",
       "Easements                   87155\n",
       "OwnerType                  337389\n",
       "LotArea                     87155\n",
       "BldgArea                    87155\n",
       "ComArea                     87155\n",
       "ResArea                     87155\n",
       "OfficeArea                  87155\n",
       "RetailArea                  87155\n",
       "GarageArea                  87155\n",
       "StrgeArea                   87155\n",
       "FactryArea                  87155\n",
       "OtherArea                   87155\n",
       "NumBldgs                    87155\n",
       "NumFloors                   87155\n",
       "UnitsRes                    87155\n",
       "UnitsTotal                  87155\n",
       "LotFront                    87155\n",
       "LotDepth                    87155\n",
       "BldgFront                   87155\n",
       "BldgDepth                   87155\n",
       "ProxCode                    87177\n",
       "AssessLand                  87155\n",
       "AssessTot                   87155\n",
       "ExemptLand                  87155\n",
       "ExemptTot                   87155\n",
       "YearBuilt                   87155\n",
       "YearAlter1                  87155\n",
       "YearAlter2                  87155\n",
       "Landmark                   390757\n",
       "ResidFAR                    87155\n",
       "CommFAR                     87155\n",
       "FacilFAR                    87155\n",
       "EDesigNum                  387329\n",
       "dtype: int64"
      ]
     },
     "execution_count": 105,
     "metadata": {},
     "output_type": "execute_result"
    }
   ],
   "source": [
    "#Thankfully there aren't any null values for sale price\n",
    "#However, there are quite a few columns with many null values\n",
    "\n",
    "brooklyn.isna().sum() "
   ]
  },
  {
   "cell_type": "code",
   "execution_count": 106,
   "metadata": {},
   "outputs": [],
   "source": [
    "#Here I am going to drop all columns that have 300,000+ null values. To me that means these columns aren't that important \n",
    "#I also dropped ZoneDist1 since all the other zones were dropped so Zone 1 can't offer any significance\n",
    "\n",
    "brooklyn = brooklyn.drop(['ZoneDist2','ZoneDist3', 'ZoneDist4', \n",
    "                          'LtdHeight', 'OwnerType', 'EDesigNum',\n",
    "                          'Landmark', 'ZoneDist1'], axis = 'columns')"
   ]
  },
  {
   "cell_type": "code",
   "execution_count": 107,
   "metadata": {},
   "outputs": [
    {
     "data": {
      "text/plain": [
       "building_class_category       83\n",
       "tax_class                   6934\n",
       "lot                            0\n",
       "building_class              6934\n",
       "zip_code                       0\n",
       "residential_units              0\n",
       "commercial_units               0\n",
       "total_units                    0\n",
       "land_sqft                      0\n",
       "gross_sqft                     0\n",
       "year_built                     0\n",
       "tax_class_at_sale              0\n",
       "building_class_at_sale         0\n",
       "sale_price                     0\n",
       "sale_date                      0\n",
       "year_of_sale                   0\n",
       "SchoolDist                 87195\n",
       "Council                    87155\n",
       "BldgClass                  87177\n",
       "LandUse                    88172\n",
       "Easements                  87155\n",
       "LotArea                    87155\n",
       "BldgArea                   87155\n",
       "ComArea                    87155\n",
       "ResArea                    87155\n",
       "OfficeArea                 87155\n",
       "RetailArea                 87155\n",
       "GarageArea                 87155\n",
       "StrgeArea                  87155\n",
       "FactryArea                 87155\n",
       "OtherArea                  87155\n",
       "NumBldgs                   87155\n",
       "NumFloors                  87155\n",
       "UnitsRes                   87155\n",
       "UnitsTotal                 87155\n",
       "LotFront                   87155\n",
       "LotDepth                   87155\n",
       "BldgFront                  87155\n",
       "BldgDepth                  87155\n",
       "ProxCode                   87177\n",
       "AssessLand                 87155\n",
       "AssessTot                  87155\n",
       "ExemptLand                 87155\n",
       "ExemptTot                  87155\n",
       "YearBuilt                  87155\n",
       "YearAlter1                 87155\n",
       "YearAlter2                 87155\n",
       "ResidFAR                   87155\n",
       "CommFAR                    87155\n",
       "FacilFAR                   87155\n",
       "dtype: int64"
      ]
     },
     "execution_count": 107,
     "metadata": {},
     "output_type": "execute_result"
    }
   ],
   "source": [
    "#Here I am checking for null values even further since there are still many columns of data\n",
    "\n",
    "brooklyn.isna().sum()"
   ]
  },
  {
   "cell_type": "markdown",
   "metadata": {},
   "source": [
    "#### Checking for Duplicate Columns"
   ]
  },
  {
   "cell_type": "markdown",
   "metadata": {},
   "source": [
    "When I did this project the first time around, there were several duplicate columns in the csv file. I re-downloaded the file from Kaggle and it looks like it was cleaned up since it was first posted. There are no longer strict duplicate columns in the file. There certainly can still be duplicate columns that are named slightly differently (one lower case one higher case)"
   ]
  },
  {
   "cell_type": "code",
   "execution_count": 108,
   "metadata": {},
   "outputs": [],
   "source": [
    "brooklyn = brooklyn.loc[:,~brooklyn.columns.duplicated()]"
   ]
  },
  {
   "cell_type": "code",
   "execution_count": 109,
   "metadata": {},
   "outputs": [
    {
     "data": {
      "text/plain": [
       "array([False, False, False, False, False, False, False, False, False,\n",
       "       False, False, False, False, False, False, False, False, False,\n",
       "       False, False, False, False, False, False, False, False, False,\n",
       "       False, False, False, False, False, False, False, False, False,\n",
       "       False, False, False, False, False, False, False, False, False,\n",
       "       False, False, False, False, False])"
      ]
     },
     "execution_count": 109,
     "metadata": {},
     "output_type": "execute_result"
    }
   ],
   "source": [
    "brooklyn.columns.duplicated()"
   ]
  },
  {
   "cell_type": "code",
   "execution_count": 110,
   "metadata": {},
   "outputs": [],
   "source": [
    "#There aren't any duplicate columns directly (same design), but indirectly (same value) there are\n",
    "#YearBuilt and year_built are the same. I will drop YearBuilt since that has many null values\n",
    "#Easements is the same as easements, which I dropped above\n",
    "#UnitsRes is the same as residential_units but has many null values so I dropped it\n",
    "#UnitsTotal is the same as total_units but has many null values so I dropped it\n",
    "#BldgClass, building_class, building_class_category and building_class_at_sale are alike but the first 3 have many null values\n",
    "#tax_class and tax_class_at_sale are the same, but the former has many null values\n",
    "#sale_date is the same as year_of_sale but has inconsistent data so I dropped it\n",
    "#BldgArea is the same as gross_sqft but with many null values so I dropped it\n",
    "#LotArea is the same as land_sqft but with many null values so I dropped it\n",
    "\n",
    "brooklyn = brooklyn.drop(['YearBuilt','Easements', 'UnitsRes', \n",
    "                          'UnitsTotal', 'BldgClass', 'building_class',\n",
    "                          'building_class_category', 'tax_class', \n",
    "                          'sale_date', 'BldgArea', 'LotArea'], axis = 'columns')"
   ]
  },
  {
   "cell_type": "code",
   "execution_count": 111,
   "metadata": {},
   "outputs": [
    {
     "data": {
      "text/plain": [
       "(390883, 39)"
      ]
     },
     "execution_count": 111,
     "metadata": {},
     "output_type": "execute_result"
    }
   ],
   "source": [
    "#After some initial cleaning I've reduced the dataset from 111 columns to 39. \n",
    "#That's a drastic drop just based on simple cleaning\n",
    "\n",
    "brooklyn.shape"
   ]
  },
  {
   "cell_type": "markdown",
   "metadata": {},
   "source": [
    "# First Pass Model"
   ]
  },
  {
   "cell_type": "markdown",
   "metadata": {},
   "source": [
    "I think it can be a good thing to do a rough draft of your model. That way you can see how much work you need to do to clean it up and make other adjustments"
   ]
  },
  {
   "cell_type": "code",
   "execution_count": 112,
   "metadata": {},
   "outputs": [],
   "source": [
    "#I am only using numeric data for the first-pass model as a matter of simplicity\n",
    "\n",
    "#I do believe there are categorical variables that will be useful as explanatory variables in an improved model\n",
    "\n",
    "brooklyn_numeric = brooklyn[['sale_price', 'residential_units', 'commercial_units', 'total_units', 'land_sqft', \n",
    "                             'gross_sqft', 'ComArea', 'ResArea', 'OfficeArea', 'RetailArea', 'GarageArea', \n",
    "                             'StrgeArea', 'FactryArea', 'OtherArea', 'NumBldgs', 'NumFloors', 'LotFront', 'LotDepth', \n",
    "                             'BldgFront', 'BldgDepth', 'AssessLand', 'AssessTot', 'ExemptLand', 'ExemptTot', 'ResidFAR', \n",
    "                             'CommFAR', 'FacilFAR']].dropna()"
   ]
  },
  {
   "cell_type": "code",
   "execution_count": 113,
   "metadata": {},
   "outputs": [],
   "source": [
    "#Separating the variables between X and y\n",
    "\n",
    "X = brooklyn_numeric.drop('sale_price', axis='columns')\n",
    "y = brooklyn_numeric.loc[:, 'sale_price']"
   ]
  },
  {
   "cell_type": "code",
   "execution_count": 114,
   "metadata": {},
   "outputs": [],
   "source": [
    "#Setting up a training set and a test set\n",
    "#test_size = .2 means 20% of the data is set aside for the test set. 80% of the data is used for the training set\n",
    "#You could also use train_size if you wish\n",
    "#I am using the 80/20 split based on conventional use\n",
    "\n",
    "from sklearn.model_selection import train_test_split\n",
    "\n",
    "X_train, X_test, y_train, y_test = train_test_split(X, y, test_size = .2, random_state=30)"
   ]
  },
  {
   "cell_type": "code",
   "execution_count": 115,
   "metadata": {},
   "outputs": [
    {
     "data": {
      "text/plain": [
       "LinearRegression(copy_X=True, fit_intercept=True, n_jobs=None,\n",
       "         normalize=False)"
      ]
     },
     "execution_count": 115,
     "metadata": {},
     "output_type": "execute_result"
    }
   ],
   "source": [
    "#Setting up a linear regression model using the training set\n",
    "\n",
    "from sklearn.linear_model import LinearRegression\n",
    "\n",
    "lr = LinearRegression()\n",
    "\n",
    "lr.fit(X_train, y_train)"
   ]
  },
  {
   "cell_type": "code",
   "execution_count": 116,
   "metadata": {},
   "outputs": [
    {
     "name": "stdout",
     "output_type": "stream",
     "text": [
      "0.14358597205908008\n",
      "0.10364810889644971\n"
     ]
    }
   ],
   "source": [
    "#Scoring the model on the training set and test set.\n",
    "#These are the R-squared values for the training set and test set. \n",
    "\n",
    "print(lr.score(X_train, y_train))\n",
    "print(lr.score(X_test, y_test))"
   ]
  },
  {
   "cell_type": "markdown",
   "metadata": {},
   "source": [
    "#### First Impressions"
   ]
  },
  {
   "cell_type": "markdown",
   "metadata": {},
   "source": [
    "The model does indeed perform better than the null model, however the training model only captured 15% of the variance and the test model captured even less variance at 11%. So, even though my model performed better than the null model, its performance was so poor that it's not worth touting. I believe my model is suffering from both high bias and high variance. It has high bias because it performed so poorly on both the training set and test set. It has high variance because it performed better on the training set than the test set."
   ]
  },
  {
   "cell_type": "markdown",
   "metadata": {},
   "source": [
    "# Further Data Cleaning"
   ]
  },
  {
   "cell_type": "markdown",
   "metadata": {},
   "source": [
    "The most important value is the actual sales price of these homes. There were some funky values on the first dataset so I am going to check them again."
   ]
  },
  {
   "cell_type": "code",
   "execution_count": 117,
   "metadata": {},
   "outputs": [
    {
     "data": {
      "text/plain": [
       "0.0          140143\n",
       "10.0           3465\n",
       "450000.0       2420\n",
       "400000.0       2230\n",
       "600000.0       2216\n",
       "550000.0       2100\n",
       "650000.0       2058\n",
       "350000.0       1976\n",
       "300000.0       1962\n",
       "500000.0       1809\n",
       "700000.0       1744\n",
       "750000.0       1732\n",
       "250000.0       1683\n",
       "200000.0       1582\n",
       "800000.0       1489\n",
       "425000.0       1353\n",
       "475000.0       1255\n",
       "900000.0       1254\n",
       "850000.0       1230\n",
       "375000.0       1214\n",
       "575000.0       1159\n",
       "150000.0       1135\n",
       "525000.0       1127\n",
       "325000.0       1115\n",
       "1200000.0      1103\n",
       "625000.0       1059\n",
       "360000.0       1013\n",
       "950000.0        992\n",
       "420000.0        978\n",
       "560000.0        977\n",
       "              ...  \n",
       "598750.0          1\n",
       "404165.0          1\n",
       "808333.0          1\n",
       "3233576.0         1\n",
       "404200.0          1\n",
       "1616981.0         1\n",
       "202127.0          1\n",
       "404283.0          1\n",
       "225615.0          1\n",
       "404065.0          1\n",
       "404056.0          1\n",
       "404038.0          1\n",
       "1944000.0         1\n",
       "807440.0          1\n",
       "201861.0          1\n",
       "201877.0          1\n",
       "403755.0          1\n",
       "100940.0          1\n",
       "311250.0          1\n",
       "403774.0          1\n",
       "807600.0          1\n",
       "101006.0          1\n",
       "403813.0          1\n",
       "403830.0          1\n",
       "1615339.0         1\n",
       "1615426.0         1\n",
       "1615500.0         1\n",
       "1157500.0         1\n",
       "807981.0          1\n",
       "16.0              1\n",
       "Name: sale_price, Length: 25441, dtype: int64"
      ]
     },
     "execution_count": 117,
     "metadata": {},
     "output_type": "execute_result"
    }
   ],
   "source": [
    "#It looks like \"0\" shows up over 140,000 times. There are also values like 10 and 16.\n",
    "#These values seem nonsensical to me in terms of the value of a home\n",
    "#I am going to drop these values\n",
    "\n",
    "brooklyn['sale_price'].value_counts()  "
   ]
  },
  {
   "cell_type": "code",
   "execution_count": 118,
   "metadata": {},
   "outputs": [],
   "source": [
    "brooklyn = brooklyn[brooklyn.sale_price > 16]"
   ]
  },
  {
   "cell_type": "code",
   "execution_count": 119,
   "metadata": {},
   "outputs": [
    {
     "data": {
      "text/plain": [
       "450000.0      2420\n",
       "400000.0      2230\n",
       "600000.0      2216\n",
       "550000.0      2100\n",
       "650000.0      2058\n",
       "350000.0      1976\n",
       "300000.0      1962\n",
       "500000.0      1809\n",
       "700000.0      1744\n",
       "750000.0      1732\n",
       "250000.0      1683\n",
       "200000.0      1582\n",
       "800000.0      1489\n",
       "425000.0      1353\n",
       "475000.0      1255\n",
       "900000.0      1254\n",
       "850000.0      1230\n",
       "375000.0      1214\n",
       "575000.0      1159\n",
       "150000.0      1135\n",
       "525000.0      1127\n",
       "325000.0      1115\n",
       "1200000.0     1103\n",
       "625000.0      1059\n",
       "360000.0      1013\n",
       "950000.0       992\n",
       "420000.0       978\n",
       "675000.0       977\n",
       "560000.0       977\n",
       "460000.0       964\n",
       "              ... \n",
       "2708705.0        1\n",
       "1878671.0        1\n",
       "939336.0         1\n",
       "469670.0         1\n",
       "58711.0          1\n",
       "5418000.0        1\n",
       "234851.0         1\n",
       "677261.0         1\n",
       "56719.0          1\n",
       "21175.0          1\n",
       "469580.0         1\n",
       "2054000.0        1\n",
       "1877747.0        1\n",
       "338298.0         1\n",
       "938743.0         1\n",
       "7510000.0        1\n",
       "2706466.0        1\n",
       "15020230.0       1\n",
       "938800.0         1\n",
       "169176.0         1\n",
       "10574.0          1\n",
       "370201.0         1\n",
       "42300.0          1\n",
       "338402.0         1\n",
       "469488.0         1\n",
       "2644.0           1\n",
       "234753.0         1\n",
       "21660000.0       1\n",
       "676900.0         1\n",
       "96.0             1\n",
       "Name: sale_price, Length: 25425, dtype: int64"
      ]
     },
     "execution_count": 119,
     "metadata": {},
     "output_type": "execute_result"
    }
   ],
   "source": [
    "brooklyn['sale_price'].value_counts() "
   ]
  },
  {
   "cell_type": "code",
   "execution_count": 120,
   "metadata": {},
   "outputs": [
    {
     "data": {
      "text/plain": [
       "2005    23067\n",
       "2004    23015\n",
       "2003    20592\n",
       "2006    20411\n",
       "2007    18074\n",
       "2015    15805\n",
       "2014    15750\n",
       "2013    15622\n",
       "2017    15552\n",
       "2016    15287\n",
       "2008    14154\n",
       "2012    13658\n",
       "2011    13003\n",
       "2010    11563\n",
       "2009    10863\n",
       "Name: year_of_sale, dtype: int64"
      ]
     },
     "execution_count": 120,
     "metadata": {},
     "output_type": "execute_result"
    }
   ],
   "source": [
    "#There still seems to be some funky values\n",
    "#What I'm going to do is check the median prices of the year of sales in the dataset\n",
    "#That will help determine which values to drop from the dataset\n",
    "\n",
    "brooklyn['year_of_sale'].value_counts()                     "
   ]
  },
  {
   "cell_type": "markdown",
   "metadata": {},
   "source": [
    "According to this article (https://ny.curbed.com/2019/12/13/21009872/nyc-home-value-2010s-manhattan-apartments), the median home sale price in Brookyln from 2010-2017 was as follows:\n",
    "    \n",
    "    2010: $463,000\n",
    "    \n",
    "    2011: $454,000\n",
    "    \n",
    "    2012: $450,000\n",
    "    \n",
    "    2013: $515,000\n",
    "    \n",
    "    2014: $520,000\n",
    "    \n",
    "    2015: $605,000\n",
    "    \n",
    "    2016: $659,000\n",
    "    \n",
    "    2017: $770,000"
   ]
  },
  {
   "cell_type": "code",
   "execution_count": 121,
   "metadata": {},
   "outputs": [],
   "source": [
    "#I could not find data before 2010. We can make the assumption that property was cheaper, but not so cheap\n",
    "#I am going to start my analysis at $200,000\n",
    "\n",
    "brooklyn = brooklyn[brooklyn.sale_price >= 200000]"
   ]
  },
  {
   "cell_type": "code",
   "execution_count": 122,
   "metadata": {},
   "outputs": [
    {
     "data": {
      "text/plain": [
       "450000.0       2420\n",
       "400000.0       2230\n",
       "600000.0       2216\n",
       "550000.0       2100\n",
       "650000.0       2058\n",
       "350000.0       1976\n",
       "300000.0       1962\n",
       "500000.0       1809\n",
       "700000.0       1744\n",
       "750000.0       1732\n",
       "250000.0       1683\n",
       "200000.0       1582\n",
       "800000.0       1489\n",
       "425000.0       1353\n",
       "475000.0       1255\n",
       "900000.0       1254\n",
       "850000.0       1230\n",
       "375000.0       1214\n",
       "575000.0       1159\n",
       "525000.0       1127\n",
       "325000.0       1115\n",
       "1200000.0      1103\n",
       "625000.0       1059\n",
       "360000.0       1013\n",
       "950000.0        992\n",
       "420000.0        978\n",
       "675000.0        977\n",
       "560000.0        977\n",
       "460000.0        964\n",
       "430000.0        957\n",
       "               ... \n",
       "345000000.0       1\n",
       "233988.0          1\n",
       "703356.0          1\n",
       "336900.0          1\n",
       "29950000.0        1\n",
       "467950.0          1\n",
       "10780000.0        1\n",
       "467940.0          1\n",
       "233969.0          1\n",
       "467926.0          1\n",
       "467925.0          1\n",
       "935842.0          1\n",
       "467905.0          1\n",
       "850550.0          1\n",
       "336818.0          1\n",
       "935771.0          1\n",
       "673572.0          1\n",
       "673533.0          1\n",
       "1018248.0         1\n",
       "336761.0          1\n",
       "641250.0          1\n",
       "10775000.0        1\n",
       "673420.0          1\n",
       "467777.0          1\n",
       "467759.0          1\n",
       "3742068.0         1\n",
       "935500.0          1\n",
       "935468.0          1\n",
       "2693271.0         1\n",
       "1048580.0         1\n",
       "Name: sale_price, Length: 20921, dtype: int64"
      ]
     },
     "execution_count": 122,
     "metadata": {},
     "output_type": "execute_result"
    }
   ],
   "source": [
    "brooklyn['sale_price'].value_counts() "
   ]
  },
  {
   "cell_type": "code",
   "execution_count": 123,
   "metadata": {},
   "outputs": [
    {
     "data": {
      "text/plain": [
       "200000.0"
      ]
     },
     "execution_count": 123,
     "metadata": {},
     "output_type": "execute_result"
    }
   ],
   "source": [
    "#The lowest sale price is $200,000 which is the floor we set\n",
    "\n",
    "brooklyn['sale_price'].min()"
   ]
  },
  {
   "cell_type": "code",
   "execution_count": 124,
   "metadata": {},
   "outputs": [
    {
     "data": {
      "text/plain": [
       "499401179.0"
      ]
     },
     "execution_count": 124,
     "metadata": {},
     "output_type": "execute_result"
    }
   ],
   "source": [
    "#The highest sale price is 499,401,179. There certainly could be homes like that for sale, but they are extremely rare\n",
    "\n",
    "brooklyn['sale_price'].max()"
   ]
  },
  {
   "cell_type": "code",
   "execution_count": 125,
   "metadata": {},
   "outputs": [],
   "source": [
    "#Not only are their outliers on the lower end of the price range, but on the upper end as well\n",
    "#I am going to drop all prices above $5 million\n",
    "\n",
    "brooklyn = brooklyn[brooklyn.sale_price <= 5000000]"
   ]
  },
  {
   "cell_type": "code",
   "execution_count": 126,
   "metadata": {},
   "outputs": [
    {
     "data": {
      "text/plain": [
       "450000.0     2420\n",
       "400000.0     2230\n",
       "600000.0     2216\n",
       "550000.0     2100\n",
       "650000.0     2058\n",
       "350000.0     1976\n",
       "300000.0     1962\n",
       "500000.0     1809\n",
       "700000.0     1744\n",
       "750000.0     1732\n",
       "250000.0     1683\n",
       "200000.0     1582\n",
       "800000.0     1489\n",
       "425000.0     1353\n",
       "475000.0     1255\n",
       "900000.0     1254\n",
       "850000.0     1230\n",
       "375000.0     1214\n",
       "575000.0     1159\n",
       "525000.0     1127\n",
       "325000.0     1115\n",
       "1200000.0    1103\n",
       "625000.0     1059\n",
       "360000.0     1013\n",
       "950000.0      992\n",
       "420000.0      978\n",
       "675000.0      977\n",
       "560000.0      977\n",
       "460000.0      964\n",
       "430000.0      957\n",
       "             ... \n",
       "3699200.0       1\n",
       "672800.0        1\n",
       "935468.0        1\n",
       "2693271.0       1\n",
       "2693164.0       1\n",
       "673250.0        1\n",
       "3741127.0       1\n",
       "3741000.0       1\n",
       "526250.0        1\n",
       "233810.0        1\n",
       "233806.0        1\n",
       "467604.0        1\n",
       "1346126.0       1\n",
       "673059.0        1\n",
       "467600.0        1\n",
       "673053.0        1\n",
       "467586.0        1\n",
       "467584.0        1\n",
       "336509.0        1\n",
       "1346000.0       1\n",
       "333250.0        1\n",
       "935111.0        1\n",
       "672961.0        1\n",
       "3740388.0       1\n",
       "1687500.0       1\n",
       "336467.0        1\n",
       "233763.0        1\n",
       "467519.0        1\n",
       "935001.0        1\n",
       "1048580.0       1\n",
       "Name: sale_price, Length: 19653, dtype: int64"
      ]
     },
     "execution_count": 126,
     "metadata": {},
     "output_type": "execute_result"
    }
   ],
   "source": [
    "brooklyn['sale_price'].value_counts() "
   ]
  },
  {
   "cell_type": "code",
   "execution_count": 127,
   "metadata": {},
   "outputs": [
    {
     "data": {
      "image/png": "[encoded data removed]",
      "text/plain": [
       "<Figure size 432x288 with 1 Axes>"
      ]
     },
     "metadata": {
      "needs_background": "light"
     },
     "output_type": "display_data"
    }
   ],
   "source": [
    "#Here is a histogram for sale_price\n",
    "#This helps with checking the distribution of data and this is definitely skewed right\n",
    "\n",
    "brooklyn.loc[:,\"sale_price\"].plot(kind='hist', bins=100)\n",
    "plt.xlabel(\"Range of Brooklyn Home Sales Prices\")\n",
    "plt.title(\"Breakdown of Brooklyn Home Sales Prices\");"
   ]
  },
  {
   "cell_type": "code",
   "execution_count": 128,
   "metadata": {},
   "outputs": [],
   "source": [
    "#It looks like the data still has some outlier on the upper end\n",
    "#I will reduce the maximum price to $2 million now\n",
    "\n",
    "brooklyn = brooklyn[brooklyn.sale_price <= 2000000]"
   ]
  },
  {
   "cell_type": "code",
   "execution_count": 129,
   "metadata": {},
   "outputs": [
    {
     "data": {
      "image/png": "[encoded data removed]",
      "text/plain": [
       "<Figure size 432x288 with 1 Axes>"
      ]
     },
     "metadata": {
      "needs_background": "light"
     },
     "output_type": "display_data"
    }
   ],
   "source": [
    "#Here is a historgram for sale_price\n",
    "#This looks better, but is still skewed to the right\n",
    "\n",
    "brooklyn.loc[:,\"sale_price\"].plot(kind='hist', bins=100)\n",
    "plt.xlabel(\"Range of Brooklyn Home Sales Prices\")\n",
    "plt.title(\"Breakdown of Brooklyn Home Sales Prices\");"
   ]
  },
  {
   "cell_type": "code",
   "execution_count": 130,
   "metadata": {},
   "outputs": [],
   "source": [
    "brooklyn = brooklyn[brooklyn.sale_price <= 1000000]"
   ]
  },
  {
   "cell_type": "code",
   "execution_count": 131,
   "metadata": {},
   "outputs": [
    {
     "data": {
      "image/png": "[encoded data removed]",
      "text/plain": [
       "<Figure size 432x288 with 1 Axes>"
      ]
     },
     "metadata": {
      "needs_background": "light"
     },
     "output_type": "display_data"
    }
   ],
   "source": [
    "#This looks more closely to a normal distribution\n",
    "#I am going to stick with this for now\n",
    "\n",
    "brooklyn.loc[:,\"sale_price\"].plot(kind='hist', bins=100)\n",
    "plt.xlabel(\"Range of Brooklyn Home Sales Prices\")\n",
    "plt.title(\"Breakdown of Brooklyn Home Sales Prices\");"
   ]
  },
  {
   "cell_type": "markdown",
   "metadata": {},
   "source": [
    "#### Filling in Missing/Abnormal Values of Other Variables"
   ]
  },
  {
   "cell_type": "code",
   "execution_count": 132,
   "metadata": {},
   "outputs": [
    {
     "data": {
      "text/plain": [
       "lot                           0\n",
       "zip_code                      0\n",
       "residential_units             0\n",
       "commercial_units              0\n",
       "total_units                   0\n",
       "land_sqft                     0\n",
       "gross_sqft                    0\n",
       "year_built                    0\n",
       "tax_class_at_sale             0\n",
       "building_class_at_sale        0\n",
       "sale_price                    0\n",
       "year_of_sale                  0\n",
       "SchoolDist                43614\n",
       "Council                   43604\n",
       "LandUse                   43767\n",
       "ComArea                   43604\n",
       "ResArea                   43604\n",
       "OfficeArea                43604\n",
       "RetailArea                43604\n",
       "GarageArea                43604\n",
       "StrgeArea                 43604\n",
       "FactryArea                43604\n",
       "OtherArea                 43604\n",
       "NumBldgs                  43604\n",
       "NumFloors                 43604\n",
       "LotFront                  43604\n",
       "LotDepth                  43604\n",
       "BldgFront                 43604\n",
       "BldgDepth                 43604\n",
       "ProxCode                  43613\n",
       "AssessLand                43604\n",
       "AssessTot                 43604\n",
       "ExemptLand                43604\n",
       "ExemptTot                 43604\n",
       "YearAlter1                43604\n",
       "YearAlter2                43604\n",
       "ResidFAR                  43604\n",
       "CommFAR                   43604\n",
       "FacilFAR                  43604\n",
       "dtype: int64"
      ]
     },
     "execution_count": 132,
     "metadata": {},
     "output_type": "execute_result"
    }
   ],
   "source": [
    "#let's double check how many missing values there are and I will fill them in accordingly\n",
    "\n",
    "brooklyn.isna().sum()"
   ]
  },
  {
   "cell_type": "code",
   "execution_count": 133,
   "metadata": {},
   "outputs": [
    {
     "data": {
      "text/plain": [
       "(180867, 39)"
      ]
     },
     "execution_count": 133,
     "metadata": {},
     "output_type": "execute_result"
    }
   ],
   "source": [
    "brooklyn.shape"
   ]
  },
  {
   "cell_type": "code",
   "execution_count": 134,
   "metadata": {},
   "outputs": [],
   "source": [
    "brooklyn = brooklyn.dropna()"
   ]
  },
  {
   "cell_type": "code",
   "execution_count": 135,
   "metadata": {},
   "outputs": [
    {
     "data": {
      "text/plain": [
       "(137099, 39)"
      ]
     },
     "execution_count": 135,
     "metadata": {},
     "output_type": "execute_result"
    }
   ],
   "source": [
    "brooklyn.shape"
   ]
  },
  {
   "cell_type": "code",
   "execution_count": 136,
   "metadata": {},
   "outputs": [
    {
     "data": {
      "text/plain": [
       "lot                       0\n",
       "zip_code                  0\n",
       "residential_units         0\n",
       "commercial_units          0\n",
       "total_units               0\n",
       "land_sqft                 0\n",
       "gross_sqft                0\n",
       "year_built                0\n",
       "tax_class_at_sale         0\n",
       "building_class_at_sale    0\n",
       "sale_price                0\n",
       "year_of_sale              0\n",
       "SchoolDist                0\n",
       "Council                   0\n",
       "LandUse                   0\n",
       "ComArea                   0\n",
       "ResArea                   0\n",
       "OfficeArea                0\n",
       "RetailArea                0\n",
       "GarageArea                0\n",
       "StrgeArea                 0\n",
       "FactryArea                0\n",
       "OtherArea                 0\n",
       "NumBldgs                  0\n",
       "NumFloors                 0\n",
       "LotFront                  0\n",
       "LotDepth                  0\n",
       "BldgFront                 0\n",
       "BldgDepth                 0\n",
       "ProxCode                  0\n",
       "AssessLand                0\n",
       "AssessTot                 0\n",
       "ExemptLand                0\n",
       "ExemptTot                 0\n",
       "YearAlter1                0\n",
       "YearAlter2                0\n",
       "ResidFAR                  0\n",
       "CommFAR                   0\n",
       "FacilFAR                  0\n",
       "dtype: int64"
      ]
     },
     "execution_count": 136,
     "metadata": {},
     "output_type": "execute_result"
    }
   ],
   "source": [
    "brooklyn.isna().sum()"
   ]
  },
  {
   "cell_type": "code",
   "execution_count": 137,
   "metadata": {},
   "outputs": [
    {
     "data": {
      "text/plain": [
       "2      49757\n",
       "1      28265\n",
       "0      25327\n",
       "3      21151\n",
       "4       4895\n",
       "6       4034\n",
       "5       1182\n",
       "8       1133\n",
       "7        436\n",
       "9        180\n",
       "12       118\n",
       "10       110\n",
       "16        87\n",
       "11        37\n",
       "13        23\n",
       "15        22\n",
       "20        19\n",
       "18        19\n",
       "24        15\n",
       "14        14\n",
       "30        14\n",
       "23        13\n",
       "36        11\n",
       "19        11\n",
       "61        10\n",
       "32        10\n",
       "33         8\n",
       "42         8\n",
       "25         8\n",
       "72         8\n",
       "       ...  \n",
       "128        1\n",
       "528        1\n",
       "123        1\n",
       "287        1\n",
       "74         1\n",
       "370        1\n",
       "111        1\n",
       "108        1\n",
       "101        1\n",
       "99         1\n",
       "91         1\n",
       "85         1\n",
       "84         1\n",
       "82         1\n",
       "79         1\n",
       "462        1\n",
       "73         1\n",
       "161        1\n",
       "71         1\n",
       "68         1\n",
       "63         1\n",
       "57         1\n",
       "53         1\n",
       "46         1\n",
       "424        1\n",
       "120        1\n",
       "38         1\n",
       "37         1\n",
       "420        1\n",
       "168        1\n",
       "Name: total_units, Length: 110, dtype: int64"
      ]
     },
     "execution_count": 137,
     "metadata": {},
     "output_type": "execute_result"
    }
   ],
   "source": [
    "#There are 25,237 instances of 0 units in these properties\n",
    "\n",
    "brooklyn['total_units'].value_counts() "
   ]
  },
  {
   "cell_type": "code",
   "execution_count": 138,
   "metadata": {},
   "outputs": [],
   "source": [
    "brooklyn = brooklyn[brooklyn.total_units > 0]"
   ]
  },
  {
   "cell_type": "code",
   "execution_count": 139,
   "metadata": {},
   "outputs": [
    {
     "data": {
      "text/plain": [
       "(111772, 39)"
      ]
     },
     "execution_count": 139,
     "metadata": {},
     "output_type": "execute_result"
    }
   ],
   "source": [
    "brooklyn.shape"
   ]
  },
  {
   "cell_type": "code",
   "execution_count": 140,
   "metadata": {},
   "outputs": [
    {
     "data": {
      "text/plain": [
       "2000.0     19190\n",
       "2500.0      8236\n",
       "1800.0      5579\n",
       "3000.0      2844\n",
       "4000.0      2555\n",
       "1600.0      2440\n",
       "2003.0      2365\n",
       "1900.0      1745\n",
       "2200.0      1659\n",
       "1667.0      1415\n",
       "1875.0      1357\n",
       "2400.0      1071\n",
       "1500.0      1006\n",
       "2600.0       877\n",
       "2100.0       848\n",
       "1950.0       815\n",
       "1700.0       798\n",
       "2300.0       743\n",
       "1750.0       666\n",
       "5000.0       622\n",
       "2250.0       592\n",
       "2800.0       571\n",
       "2504.0       564\n",
       "1933.0       544\n",
       "2700.0       531\n",
       "2050.0       492\n",
       "2667.0       449\n",
       "2150.0       447\n",
       "1850.0       400\n",
       "2900.0       391\n",
       "           ...  \n",
       "3431.0         1\n",
       "3084.0         1\n",
       "12892.0        1\n",
       "4204.0         1\n",
       "6973.0         1\n",
       "11880.0        1\n",
       "13187.0        1\n",
       "3507.0         1\n",
       "5571.0         1\n",
       "18195.0        1\n",
       "3309.0         1\n",
       "458.0          1\n",
       "600.0          1\n",
       "4553.0         1\n",
       "3814.0         1\n",
       "2985.0         1\n",
       "5581.0         1\n",
       "4569.0         1\n",
       "827.0          1\n",
       "3872.0         1\n",
       "5585.0         1\n",
       "3876.0         1\n",
       "16820.0        1\n",
       "3429.0         1\n",
       "5466.0         1\n",
       "13500.0        1\n",
       "4567.0         1\n",
       "6392.0         1\n",
       "510.0          1\n",
       "5120.0         1\n",
       "Name: land_sqft, Length: 4171, dtype: int64"
      ]
     },
     "execution_count": 140,
     "metadata": {},
     "output_type": "execute_result"
    }
   ],
   "source": [
    "brooklyn['land_sqft'].value_counts() "
   ]
  },
  {
   "cell_type": "code",
   "execution_count": 141,
   "metadata": {},
   "outputs": [
    {
     "data": {
      "text/plain": [
       "0.0"
      ]
     },
     "execution_count": 141,
     "metadata": {},
     "output_type": "execute_result"
    }
   ],
   "source": [
    "brooklyn['land_sqft'].min()"
   ]
  },
  {
   "cell_type": "code",
   "execution_count": 142,
   "metadata": {},
   "outputs": [],
   "source": [
    "brooklyn = brooklyn[brooklyn.land_sqft > 0]"
   ]
  },
  {
   "cell_type": "code",
   "execution_count": 143,
   "metadata": {},
   "outputs": [
    {
     "data": {
      "text/plain": [
       "(111768, 39)"
      ]
     },
     "execution_count": 143,
     "metadata": {},
     "output_type": "execute_result"
    }
   ],
   "source": [
    "brooklyn.shape"
   ]
  },
  {
   "cell_type": "code",
   "execution_count": 144,
   "metadata": {},
   "outputs": [
    {
     "data": {
      "text/plain": [
       "1920    12905\n",
       "1930    12255\n",
       "1925    11983\n",
       "1910    11851\n",
       "1899    10020\n",
       "1901     7568\n",
       "1931     6818\n",
       "1960     4249\n",
       "1940     3326\n",
       "1915     2621\n",
       "1905     2584\n",
       "1935     2415\n",
       "1955     2337\n",
       "1950     2094\n",
       "2005     1698\n",
       "1945     1603\n",
       "1965     1561\n",
       "2004     1534\n",
       "2006      954\n",
       "2007      867\n",
       "1970      824\n",
       "2003      799\n",
       "2008      623\n",
       "2002      487\n",
       "1900      413\n",
       "1927      385\n",
       "2009      353\n",
       "1928      297\n",
       "1924      260\n",
       "1990      254\n",
       "        ...  \n",
       "1895        8\n",
       "1977        8\n",
       "1982        7\n",
       "1974        7\n",
       "1973        7\n",
       "1971        7\n",
       "1944        6\n",
       "1966        6\n",
       "1890        5\n",
       "1981        4\n",
       "1898        4\n",
       "1885        4\n",
       "1947        4\n",
       "1902        4\n",
       "1892        4\n",
       "1943        3\n",
       "1848        2\n",
       "1850        1\n",
       "1942        1\n",
       "1888        1\n",
       "1866        1\n",
       "1880        1\n",
       "1869        1\n",
       "1891        1\n",
       "1380        1\n",
       "1864        1\n",
       "1875        1\n",
       "1874        1\n",
       "1842        1\n",
       "1849        1\n",
       "Name: year_built, Length: 138, dtype: int64"
      ]
     },
     "execution_count": 144,
     "metadata": {},
     "output_type": "execute_result"
    }
   ],
   "source": [
    "brooklyn['year_built'].value_counts() "
   ]
  },
  {
   "cell_type": "code",
   "execution_count": 145,
   "metadata": {},
   "outputs": [
    {
     "data": {
      "text/plain": [
       "0"
      ]
     },
     "execution_count": 145,
     "metadata": {},
     "output_type": "execute_result"
    }
   ],
   "source": [
    "brooklyn['year_built'].min()"
   ]
  },
  {
   "cell_type": "code",
   "execution_count": 146,
   "metadata": {},
   "outputs": [],
   "source": [
    "brooklyn = brooklyn[brooklyn.year_built > 0]"
   ]
  },
  {
   "cell_type": "code",
   "execution_count": 147,
   "metadata": {},
   "outputs": [
    {
     "data": {
      "text/plain": [
       "(111699, 39)"
      ]
     },
     "execution_count": 147,
     "metadata": {},
     "output_type": "execute_result"
    }
   ],
   "source": [
    "brooklyn.shape"
   ]
  },
  {
   "cell_type": "code",
   "execution_count": 148,
   "metadata": {},
   "outputs": [
    {
     "data": {
      "text/plain": [
       "2004    13288\n",
       "2005    12846\n",
       "2006    11387\n",
       "2003    11375\n",
       "2007     8267\n",
       "2013     6479\n",
       "2014     6170\n",
       "2008     5860\n",
       "2015     5665\n",
       "2012     5650\n",
       "2010     5211\n",
       "2016     5050\n",
       "2011     4957\n",
       "2009     4779\n",
       "2017     4715\n",
       "Name: year_of_sale, dtype: int64"
      ]
     },
     "execution_count": 148,
     "metadata": {},
     "output_type": "execute_result"
    }
   ],
   "source": [
    "brooklyn['year_of_sale'].value_counts() "
   ]
  },
  {
   "cell_type": "markdown",
   "metadata": {},
   "source": [
    "# Second Pass Model"
   ]
  },
  {
   "cell_type": "markdown",
   "metadata": {},
   "source": [
    "Let's see how much cleaning up of the sales price data has affected my model"
   ]
  },
  {
   "cell_type": "code",
   "execution_count": 149,
   "metadata": {},
   "outputs": [],
   "source": [
    "#I am only using numeric data for the first-pass model as a matter of simplicity\n",
    "\n",
    "#I do believe there are categorical variables that will be useful as explanatory variables in an improved model\n",
    "\n",
    "brooklyn_numeric2 = brooklyn[['sale_price', 'residential_units', 'commercial_units', 'total_units', 'land_sqft', \n",
    "                             'gross_sqft', 'ComArea', 'ResArea', 'OfficeArea', 'RetailArea', 'GarageArea', \n",
    "                             'StrgeArea', 'FactryArea', 'OtherArea', 'NumBldgs', 'NumFloors', 'LotFront', 'LotDepth', \n",
    "                             'BldgFront', 'BldgDepth', 'AssessLand', 'AssessTot', 'ExemptLand', 'ExemptTot', 'ResidFAR', \n",
    "                             'CommFAR', 'FacilFAR']].dropna()"
   ]
  },
  {
   "cell_type": "code",
   "execution_count": 150,
   "metadata": {},
   "outputs": [],
   "source": [
    "#Separating the variables between X and y\n",
    "\n",
    "X = brooklyn_numeric2.drop('sale_price', axis='columns')\n",
    "y = brooklyn_numeric2.loc[:, 'sale_price']"
   ]
  },
  {
   "cell_type": "code",
   "execution_count": 151,
   "metadata": {},
   "outputs": [],
   "source": [
    "#Setting up a training set and a test set\n",
    "#test_size = .2 means 20% of the data is set aside for the test set. 80% of the data is used for the training set\n",
    "#You could also use train_size if you wish\n",
    "\n",
    "from sklearn.model_selection import train_test_split\n",
    "\n",
    "X_train, X_test, y_train, y_test = train_test_split(X, y, test_size = .2, random_state=30)"
   ]
  },
  {
   "cell_type": "code",
   "execution_count": 152,
   "metadata": {},
   "outputs": [
    {
     "data": {
      "text/plain": [
       "LinearRegression(copy_X=True, fit_intercept=True, n_jobs=None,\n",
       "         normalize=False)"
      ]
     },
     "execution_count": 152,
     "metadata": {},
     "output_type": "execute_result"
    }
   ],
   "source": [
    "#Setting up a linear regression model using the training set\n",
    "\n",
    "from sklearn.linear_model import LinearRegression\n",
    "\n",
    "lr = LinearRegression()\n",
    "\n",
    "lr.fit(X_train, y_train)"
   ]
  },
  {
   "cell_type": "code",
   "execution_count": 153,
   "metadata": {},
   "outputs": [
    {
     "name": "stdout",
     "output_type": "stream",
     "text": [
      "0.06290897765229309\n",
      "0.06016808532310836\n"
     ]
    }
   ],
   "source": [
    "#Scoring the model on the training set and test set.\n",
    "#These are the R-squared values for the training set and test set. \n",
    "\n",
    "print(lr.score(X_train, y_train))\n",
    "print(lr.score(X_test, y_test))"
   ]
  },
  {
   "cell_type": "markdown",
   "metadata": {},
   "source": [
    "#### First Impressions"
   ]
  },
  {
   "cell_type": "markdown",
   "metadata": {},
   "source": [
    "The model is basically worse than the first go around in terms of predictability. However, the training and test sets both had an R-Squared of .06. So, we have high bias, low variance, and a case of underfitting.  "
   ]
  },
  {
   "cell_type": "markdown",
   "metadata": {},
   "source": [
    "# Data Cleaning Round Three"
   ]
  },
  {
   "cell_type": "markdown",
   "metadata": {},
   "source": [
    "#### Converting Numeric Data Types into Strings"
   ]
  },
  {
   "cell_type": "markdown",
   "metadata": {},
   "source": [
    "Many variables in the dataset are incorrectly formatted as integers or floats when they are actually strings. They are categorical variables. I believe some of these values could be useful to my model and help correct the underfitting problem."
   ]
  },
  {
   "cell_type": "code",
   "execution_count": 154,
   "metadata": {},
   "outputs": [
    {
     "data": {
      "text/plain": [
       "lot                         int64\n",
       "zip_code                    int64\n",
       "residential_units           int64\n",
       "commercial_units            int64\n",
       "total_units                 int64\n",
       "land_sqft                 float64\n",
       "gross_sqft                float64\n",
       "year_built                  int64\n",
       "tax_class_at_sale           int64\n",
       "building_class_at_sale     object\n",
       "sale_price                float64\n",
       "year_of_sale                int64\n",
       "SchoolDist                float64\n",
       "Council                   float64\n",
       "LandUse                   float64\n",
       "ComArea                   float64\n",
       "ResArea                   float64\n",
       "OfficeArea                float64\n",
       "RetailArea                float64\n",
       "GarageArea                float64\n",
       "StrgeArea                 float64\n",
       "FactryArea                float64\n",
       "OtherArea                 float64\n",
       "NumBldgs                  float64\n",
       "NumFloors                 float64\n",
       "LotFront                  float64\n",
       "LotDepth                  float64\n",
       "BldgFront                 float64\n",
       "BldgDepth                 float64\n",
       "ProxCode                  float64\n",
       "AssessLand                float64\n",
       "AssessTot                 float64\n",
       "ExemptLand                float64\n",
       "ExemptTot                 float64\n",
       "YearAlter1                float64\n",
       "YearAlter2                float64\n",
       "ResidFAR                  float64\n",
       "CommFAR                   float64\n",
       "FacilFAR                  float64\n",
       "dtype: object"
      ]
     },
     "execution_count": 154,
     "metadata": {},
     "output_type": "execute_result"
    }
   ],
   "source": [
    "brooklyn.dtypes"
   ]
  },
  {
   "cell_type": "code",
   "execution_count": 155,
   "metadata": {},
   "outputs": [],
   "source": [
    "brooklyn = brooklyn.astype({'lot':str, 'zip_code':str, 'year_of_sale':str, 'tax_class_at_sale':str, 'YearAlter1':str,\n",
    "                            'YearAlter2':str,  'year_built':str, 'ProxCode':str, 'LandUse':str, \n",
    "                            'Council':str, 'SchoolDist':str})"
   ]
  },
  {
   "cell_type": "code",
   "execution_count": 156,
   "metadata": {},
   "outputs": [
    {
     "data": {
      "text/plain": [
       "lot                        object\n",
       "zip_code                   object\n",
       "residential_units           int64\n",
       "commercial_units            int64\n",
       "total_units                 int64\n",
       "land_sqft                 float64\n",
       "gross_sqft                float64\n",
       "year_built                 object\n",
       "tax_class_at_sale          object\n",
       "building_class_at_sale     object\n",
       "sale_price                float64\n",
       "year_of_sale               object\n",
       "SchoolDist                 object\n",
       "Council                    object\n",
       "LandUse                    object\n",
       "ComArea                   float64\n",
       "ResArea                   float64\n",
       "OfficeArea                float64\n",
       "RetailArea                float64\n",
       "GarageArea                float64\n",
       "StrgeArea                 float64\n",
       "FactryArea                float64\n",
       "OtherArea                 float64\n",
       "NumBldgs                  float64\n",
       "NumFloors                 float64\n",
       "LotFront                  float64\n",
       "LotDepth                  float64\n",
       "BldgFront                 float64\n",
       "BldgDepth                 float64\n",
       "ProxCode                   object\n",
       "AssessLand                float64\n",
       "AssessTot                 float64\n",
       "ExemptLand                float64\n",
       "ExemptTot                 float64\n",
       "YearAlter1                 object\n",
       "YearAlter2                 object\n",
       "ResidFAR                  float64\n",
       "CommFAR                   float64\n",
       "FacilFAR                  float64\n",
       "dtype: object"
      ]
     },
     "execution_count": 156,
     "metadata": {},
     "output_type": "execute_result"
    }
   ],
   "source": [
    "#Here I am double checking that all variables are formatted correctly\n",
    "\n",
    "brooklyn.dtypes"
   ]
  },
  {
   "cell_type": "markdown",
   "metadata": {},
   "source": [
    "#### Value Counts of Categorical Variables"
   ]
  },
  {
   "cell_type": "markdown",
   "metadata": {},
   "source": [
    "Before I try to convert any of the categorical variables into a dummy variable I want to check how they are dispersed. I don't want to overload my model with hundreds or thousands of dummy variables. I will either have to eliminate some variables or create levels in them to reduce their specificity."
   ]
  },
  {
   "cell_type": "code",
   "execution_count": 157,
   "metadata": {},
   "outputs": [
    {
     "data": {
      "text/plain": [
       "39"
      ]
     },
     "execution_count": 157,
     "metadata": {},
     "output_type": "execute_result"
    }
   ],
   "source": [
    "#There are 39 unique values for zip code. That is quite a lot.\n",
    "\n",
    "brooklyn['zip_code'].nunique() "
   ]
  },
  {
   "cell_type": "code",
   "execution_count": 158,
   "metadata": {},
   "outputs": [
    {
     "data": {
      "text/plain": [
       "1029"
      ]
     },
     "execution_count": 158,
     "metadata": {},
     "output_type": "execute_result"
    }
   ],
   "source": [
    "#There are 1029 unique values for lot. That is quite a lot.\n",
    "#I am going to drop lot from the dataset\n",
    "\n",
    "brooklyn['lot'].nunique() "
   ]
  },
  {
   "cell_type": "code",
   "execution_count": 159,
   "metadata": {},
   "outputs": [
    {
     "data": {
      "text/plain": [
       "137"
      ]
     },
     "execution_count": 159,
     "metadata": {},
     "output_type": "execute_result"
    }
   ],
   "source": [
    "#There are 137 unique values for year built. That is quite a lot. But it's important so I will make some levels\n",
    "\n",
    "brooklyn['year_built'].nunique() "
   ]
  },
  {
   "cell_type": "code",
   "execution_count": 160,
   "metadata": {},
   "outputs": [
    {
     "data": {
      "text/plain": [
       "3"
      ]
     },
     "execution_count": 160,
     "metadata": {},
     "output_type": "execute_result"
    }
   ],
   "source": [
    "#There are 3 unique values for tax class at sale. That's a great amount to work with\n",
    "\n",
    "brooklyn['tax_class_at_sale'].nunique() "
   ]
  },
  {
   "cell_type": "code",
   "execution_count": 161,
   "metadata": {},
   "outputs": [
    {
     "data": {
      "text/plain": [
       "116"
      ]
     },
     "execution_count": 161,
     "metadata": {},
     "output_type": "execute_result"
    }
   ],
   "source": [
    "#There are 116 unique values for building class at sale. That is quite a lot.\n",
    "#I am going to drop it since it's better shown through units and area\n",
    "\n",
    "brooklyn['building_class_at_sale'].nunique() "
   ]
  },
  {
   "cell_type": "code",
   "execution_count": 162,
   "metadata": {},
   "outputs": [
    {
     "data": {
      "text/plain": [
       "15"
      ]
     },
     "execution_count": 162,
     "metadata": {},
     "output_type": "execute_result"
    }
   ],
   "source": [
    "#There are 15 unique values for year of sale. That's ok, but will make levels\n",
    "\n",
    "brooklyn['year_of_sale'].nunique() "
   ]
  },
  {
   "cell_type": "code",
   "execution_count": 163,
   "metadata": {},
   "outputs": [
    {
     "data": {
      "text/plain": [
       "12"
      ]
     },
     "execution_count": 163,
     "metadata": {},
     "output_type": "execute_result"
    }
   ],
   "source": [
    "#There are 12 unique values for school district. \n",
    "#I'm going to drop it once I fix zip code\n",
    "\n",
    "brooklyn['SchoolDist'].nunique() "
   ]
  },
  {
   "cell_type": "code",
   "execution_count": 164,
   "metadata": {},
   "outputs": [
    {
     "data": {
      "text/plain": [
       "16"
      ]
     },
     "execution_count": 164,
     "metadata": {},
     "output_type": "execute_result"
    }
   ],
   "source": [
    "#There are 16 unqiue values for council. \n",
    "#I'm going to drop it once I fix zip code\n",
    "\n",
    "brooklyn['Council'].nunique() "
   ]
  },
  {
   "cell_type": "code",
   "execution_count": 165,
   "metadata": {},
   "outputs": [
    {
     "data": {
      "text/plain": [
       "11"
      ]
     },
     "execution_count": 165,
     "metadata": {},
     "output_type": "execute_result"
    }
   ],
   "source": [
    "#There are 11 unqiue values for land use.\n",
    "#I am going to drop it for now, but maybe add it back later if the model still has issues\n",
    "\n",
    "brooklyn['LandUse'].nunique() "
   ]
  },
  {
   "cell_type": "code",
   "execution_count": 166,
   "metadata": {},
   "outputs": [
    {
     "data": {
      "text/plain": [
       "4"
      ]
     },
     "execution_count": 166,
     "metadata": {},
     "output_type": "execute_result"
    }
   ],
   "source": [
    "#There are 4 unqiue values for Prox Code. That's a great amount to work with\n",
    "\n",
    "brooklyn['ProxCode'].nunique() "
   ]
  },
  {
   "cell_type": "code",
   "execution_count": 167,
   "metadata": {},
   "outputs": [
    {
     "data": {
      "text/plain": [
       "70"
      ]
     },
     "execution_count": 167,
     "metadata": {},
     "output_type": "execute_result"
    }
   ],
   "source": [
    "#There are 70 unqiue values for Year Altered 1. That's a lot. Will make levels\n",
    "\n",
    "brooklyn['YearAlter1'].nunique() "
   ]
  },
  {
   "cell_type": "code",
   "execution_count": 168,
   "metadata": {},
   "outputs": [
    {
     "data": {
      "text/plain": [
       "35"
      ]
     },
     "execution_count": 168,
     "metadata": {},
     "output_type": "execute_result"
    }
   ],
   "source": [
    "#There are 35 unqiue values for Year Altered 2. That's a lot. Will make levels\n",
    "\n",
    "brooklyn['YearAlter2'].nunique() "
   ]
  },
  {
   "cell_type": "code",
   "execution_count": 169,
   "metadata": {},
   "outputs": [
    {
     "data": {
      "text/plain": [
       "1920    12905\n",
       "1930    12255\n",
       "1925    11983\n",
       "1910    11851\n",
       "1899    10020\n",
       "1901     7568\n",
       "1931     6818\n",
       "1960     4249\n",
       "1940     3326\n",
       "1915     2621\n",
       "1905     2584\n",
       "1935     2415\n",
       "1955     2337\n",
       "1950     2094\n",
       "2005     1698\n",
       "1945     1603\n",
       "1965     1561\n",
       "2004     1534\n",
       "2006      954\n",
       "2007      867\n",
       "1970      824\n",
       "2003      799\n",
       "2008      623\n",
       "2002      487\n",
       "1900      413\n",
       "1927      385\n",
       "2009      353\n",
       "1928      297\n",
       "1924      260\n",
       "1990      254\n",
       "        ...  \n",
       "1977        8\n",
       "1895        8\n",
       "1974        7\n",
       "1982        7\n",
       "1971        7\n",
       "1973        7\n",
       "1944        6\n",
       "1966        6\n",
       "1890        5\n",
       "1898        4\n",
       "1892        4\n",
       "1947        4\n",
       "1981        4\n",
       "1902        4\n",
       "1885        4\n",
       "1943        3\n",
       "1848        2\n",
       "1864        1\n",
       "1942        1\n",
       "1842        1\n",
       "1891        1\n",
       "1380        1\n",
       "1875        1\n",
       "1850        1\n",
       "1888        1\n",
       "1869        1\n",
       "1849        1\n",
       "1880        1\n",
       "1866        1\n",
       "1874        1\n",
       "Name: year_built, Length: 137, dtype: int64"
      ]
     },
     "execution_count": 169,
     "metadata": {},
     "output_type": "execute_result"
    }
   ],
   "source": [
    "brooklyn['year_built'].value_counts()"
   ]
  },
  {
   "cell_type": "code",
   "execution_count": 170,
   "metadata": {},
   "outputs": [
    {
     "data": {
      "text/plain": [
       "'1380'"
      ]
     },
     "execution_count": 170,
     "metadata": {},
     "output_type": "execute_result"
    }
   ],
   "source": [
    "brooklyn['year_built'].min()"
   ]
  },
  {
   "cell_type": "code",
   "execution_count": 171,
   "metadata": {},
   "outputs": [
    {
     "data": {
      "text/plain": [
       "'2016'"
      ]
     },
     "execution_count": 171,
     "metadata": {},
     "output_type": "execute_result"
    }
   ],
   "source": [
    "brooklyn['year_built'].max()"
   ]
  },
  {
   "cell_type": "code",
   "execution_count": 172,
   "metadata": {},
   "outputs": [],
   "source": [
    "brooklyn = brooklyn[brooklyn.year_built > '1800']"
   ]
  },
  {
   "cell_type": "code",
   "execution_count": 173,
   "metadata": {},
   "outputs": [
    {
     "data": {
      "text/plain": [
       "'1842'"
      ]
     },
     "execution_count": 173,
     "metadata": {},
     "output_type": "execute_result"
    }
   ],
   "source": [
    "brooklyn['year_built'].min()"
   ]
  },
  {
   "cell_type": "code",
   "execution_count": 174,
   "metadata": {},
   "outputs": [
    {
     "name": "stdout",
     "output_type": "stream",
     "text": [
      "29687     1900\n",
      "29688     1900\n",
      "29689     1900\n",
      "29691     1900\n",
      "29692     1900\n",
      "29693     1900\n",
      "29694     2000\n",
      "29695     1900\n",
      "29696     1900\n",
      "29699     1900\n",
      "29700     1900\n",
      "29701     1900\n",
      "29702     1900\n",
      "29703     1850\n",
      "29704     1900\n",
      "29705     1950\n",
      "29706     1900\n",
      "29707     1900\n",
      "29709     1900\n",
      "29710     1900\n",
      "29711     1900\n",
      "29712     1900\n",
      "29714     1900\n",
      "29715     1900\n",
      "29717     1900\n",
      "29719     1900\n",
      "29720     1900\n",
      "29722     1900\n",
      "29723     1900\n",
      "29724     1900\n",
      "          ... \n",
      "390782    1900\n",
      "390785    1900\n",
      "390786    1900\n",
      "390787    1900\n",
      "390788    1900\n",
      "390791    1900\n",
      "390794    1900\n",
      "390795    1900\n",
      "390796    1900\n",
      "390798    1900\n",
      "390799    1900\n",
      "390800    1900\n",
      "390801    1900\n",
      "390803    1900\n",
      "390806    1900\n",
      "390808    1900\n",
      "390809    1900\n",
      "390840    1900\n",
      "390842    1900\n",
      "390843    1900\n",
      "390845    1900\n",
      "390846    1900\n",
      "390847    1900\n",
      "390848    1900\n",
      "390854    1900\n",
      "390858    1900\n",
      "390868    1900\n",
      "390869    1900\n",
      "390878    2000\n",
      "390879    2000\n",
      "Name: year_built, Length: 111683, dtype: object\n"
     ]
    }
   ],
   "source": [
    "#Here I am creating a function to convert the years built into four distinct eras of being built\n",
    "\n",
    "def era_Built(x):\n",
    "    if x < \"1900\":\n",
    "        return \"1850\"\n",
    "    elif \"1899\" < x < \"1951\":\n",
    "        return \"1900\"\n",
    "    elif \"1950\" < x < \"2000\":\n",
    "        return \"1950\"\n",
    "    else: return \"2000\"\n",
    "\n",
    "\n",
    "brooklyn[\"year_built\"] = brooklyn[\"year_built\"].apply(era_Built)\n",
    "print(brooklyn[\"year_built\"])"
   ]
  },
  {
   "cell_type": "code",
   "execution_count": 175,
   "metadata": {},
   "outputs": [
    {
     "data": {
      "text/plain": [
       "1900    81629\n",
       "1950    11846\n",
       "1850    10058\n",
       "2000     8150\n",
       "Name: year_built, dtype: int64"
      ]
     },
     "execution_count": 175,
     "metadata": {},
     "output_type": "execute_result"
    }
   ],
   "source": [
    "brooklyn[\"year_built\"].value_counts()"
   ]
  },
  {
   "cell_type": "markdown",
   "metadata": {},
   "source": [
    "Here is a map of Brooklyn based on zip codes. I am going to create regions of zip codes instead of coding for all 39 zip codes http://brooklynproperty.com/content/ZipCodes.htm"
   ]
  },
  {
   "cell_type": "code",
   "execution_count": 176,
   "metadata": {},
   "outputs": [
    {
     "data": {
      "text/plain": [
       "11234    9386\n",
       "11208    7503\n",
       "11221    7336\n",
       "11207    7163\n",
       "11236    6726\n",
       "11233    5931\n",
       "11203    4710\n",
       "11229    4675\n",
       "11223    3581\n",
       "11214    3435\n",
       "11220    3357\n",
       "11204    3316\n",
       "11216    3310\n",
       "11210    3207\n",
       "11228    3180\n",
       "11212    2928\n",
       "11235    2899\n",
       "11209    2587\n",
       "11213    2373\n",
       "11230    2294\n",
       "11226    2266\n",
       "11218    2260\n",
       "11219    2255\n",
       "11237    2109\n",
       "11206    2061\n",
       "11215    1467\n",
       "11225    1300\n",
       "11238    1236\n",
       "11211    1051\n",
       "11232    1049\n",
       "11224    1044\n",
       "11222    1033\n",
       "11205    1001\n",
       "11231     681\n",
       "11217     456\n",
       "11239     286\n",
       "11201     190\n",
       "11249      28\n",
       "11416      13\n",
       "Name: zip_code, dtype: int64"
      ]
     },
     "execution_count": 176,
     "metadata": {},
     "output_type": "execute_result"
    }
   ],
   "source": [
    "brooklyn[\"zip_code\"].value_counts()"
   ]
  },
  {
   "cell_type": "code",
   "execution_count": 177,
   "metadata": {},
   "outputs": [],
   "source": [
    "#Zip code 11416 is actually Queens, not Brooklyn. So I am going to drop that first.\n",
    "\n",
    "brooklyn = brooklyn[brooklyn.zip_code != '11416']"
   ]
  },
  {
   "cell_type": "code",
   "execution_count": 178,
   "metadata": {},
   "outputs": [
    {
     "name": "stdout",
     "output_type": "stream",
     "text": [
      "29687     SW\n",
      "29688     SW\n",
      "29689     SW\n",
      "29691     NE\n",
      "29692     NE\n",
      "29693     NE\n",
      "29694     NE\n",
      "29695     SW\n",
      "29696     SW\n",
      "29699     NW\n",
      "29700     NW\n",
      "29701     SW\n",
      "29702     SE\n",
      "29703     NW\n",
      "29704     SW\n",
      "29705     SE\n",
      "29706     SW\n",
      "29707     SW\n",
      "29709     NW\n",
      "29710     NW\n",
      "29711     SW\n",
      "29712     SW\n",
      "29714     NE\n",
      "29715     SW\n",
      "29717     NE\n",
      "29719     SW\n",
      "29720     NW\n",
      "29722     SE\n",
      "29723     NE\n",
      "29724     SW\n",
      "          ..\n",
      "390782    NW\n",
      "390785    NW\n",
      "390786    NW\n",
      "390787    NW\n",
      "390788    NW\n",
      "390791    NW\n",
      "390794    NW\n",
      "390795    NW\n",
      "390796    NW\n",
      "390798    NW\n",
      "390799    NW\n",
      "390800    NW\n",
      "390801    NW\n",
      "390803    NW\n",
      "390806    NW\n",
      "390808    NW\n",
      "390809    NW\n",
      "390840    NW\n",
      "390842    NW\n",
      "390843    NW\n",
      "390845    NW\n",
      "390846    NW\n",
      "390847    NW\n",
      "390848    NW\n",
      "390854    NW\n",
      "390858    NW\n",
      "390868    NW\n",
      "390869    NW\n",
      "390878    NW\n",
      "390879    NW\n",
      "Name: zip_code, Length: 111670, dtype: object\n"
     ]
    }
   ],
   "source": [
    "#Here I am creating a function to convert the zip codes into four distinct regions\n",
    "\n",
    "def zip_Region(x):\n",
    "    if x in [\"11214\", \"11204\", '11230', '11210', '11234', '11223', '11229', '11224', '11235']:\n",
    "        return \"SE\"\n",
    "    elif x in [\"11231\", '11215', '11226', '11218', '11232', '11219', '11220', '11209', '11228']:\n",
    "        return \"SW\"\n",
    "    elif x in [\"11201\", '11217', '11238', '11216', '11221', '11237', '11206', '11205', '11251', '11211', '11222']:\n",
    "        return \"NW\"\n",
    "    else: return \"NE\"\n",
    "\n",
    "\n",
    "brooklyn[\"zip_code\"] = brooklyn[\"zip_code\"].apply(zip_Region)\n",
    "print(brooklyn[\"zip_code\"])"
   ]
  },
  {
   "cell_type": "code",
   "execution_count": 179,
   "metadata": {},
   "outputs": [
    {
     "data": {
      "text/plain": [
       "NE    38948\n",
       "SE    33837\n",
       "NW    19783\n",
       "SW    19102\n",
       "Name: zip_code, dtype: int64"
      ]
     },
     "execution_count": 179,
     "metadata": {},
     "output_type": "execute_result"
    }
   ],
   "source": [
    "brooklyn[\"zip_code\"].value_counts()"
   ]
  },
  {
   "cell_type": "code",
   "execution_count": 180,
   "metadata": {},
   "outputs": [
    {
     "data": {
      "text/plain": [
       "2004    13285\n",
       "2005    12845\n",
       "2006    11385\n",
       "2003    11370\n",
       "2007     8267\n",
       "2013     6479\n",
       "2014     6169\n",
       "2008     5860\n",
       "2015     5665\n",
       "2012     5644\n",
       "2010     5204\n",
       "2016     5050\n",
       "2011     4955\n",
       "2009     4777\n",
       "2017     4715\n",
       "Name: year_of_sale, dtype: int64"
      ]
     },
     "execution_count": 180,
     "metadata": {},
     "output_type": "execute_result"
    }
   ],
   "source": [
    "brooklyn['year_of_sale'].value_counts()"
   ]
  },
  {
   "cell_type": "code",
   "execution_count": 181,
   "metadata": {},
   "outputs": [
    {
     "name": "stdout",
     "output_type": "stream",
     "text": [
      "29687     2011\n",
      "29688     2011\n",
      "29689     2011\n",
      "29691     2011\n",
      "29692     2011\n",
      "29693     2011\n",
      "29694     2011\n",
      "29695     2011\n",
      "29696     2011\n",
      "29699     2011\n",
      "29700     2011\n",
      "29701     2011\n",
      "29702     2011\n",
      "29703     2011\n",
      "29704     2011\n",
      "29705     2011\n",
      "29706     2011\n",
      "29707     2011\n",
      "29709     2011\n",
      "29710     2011\n",
      "29711     2011\n",
      "29712     2011\n",
      "29714     2011\n",
      "29715     2011\n",
      "29717     2011\n",
      "29719     2011\n",
      "29720     2011\n",
      "29722     2014\n",
      "29723     2014\n",
      "29724     2014\n",
      "          ... \n",
      "390782    2008\n",
      "390785    2008\n",
      "390786    2008\n",
      "390787    2008\n",
      "390788    2008\n",
      "390791    2008\n",
      "390794    2008\n",
      "390795    2008\n",
      "390796    2008\n",
      "390798    2008\n",
      "390799    2008\n",
      "390800    2008\n",
      "390801    2008\n",
      "390803    2008\n",
      "390806    2008\n",
      "390808    2008\n",
      "390809    2008\n",
      "390840    2008\n",
      "390842    2008\n",
      "390843    2008\n",
      "390845    2008\n",
      "390846    2008\n",
      "390847    2008\n",
      "390848    2008\n",
      "390854    2008\n",
      "390858    2008\n",
      "390868    2008\n",
      "390869    2008\n",
      "390878    2008\n",
      "390879    2008\n",
      "Name: year_of_sale, Length: 111670, dtype: object\n"
     ]
    }
   ],
   "source": [
    "#Here I am creating a function to convert year of sale into five distinct eras\n",
    "\n",
    "def threeyear_Sold(x):\n",
    "    if x in [\"2003\", \"2004\", '2005']:\n",
    "        return \"2005\"\n",
    "    elif x in [\"2006\", '2007', '2008']:\n",
    "        return \"2008\"\n",
    "    elif x in [\"2009\", '2010', '2011']:\n",
    "        return \"2011\"\n",
    "    elif x in [\"2012\", '2013', '2014']:\n",
    "        return \"2014\"\n",
    "    else: return \"2017\"\n",
    "\n",
    "\n",
    "brooklyn['year_of_sale'] = brooklyn['year_of_sale'].apply(threeyear_Sold)\n",
    "print(brooklyn['year_of_sale'])"
   ]
  },
  {
   "cell_type": "code",
   "execution_count": 182,
   "metadata": {},
   "outputs": [
    {
     "data": {
      "text/plain": [
       "2005    37500\n",
       "2008    25512\n",
       "2014    18292\n",
       "2017    15430\n",
       "2011    14936\n",
       "Name: year_of_sale, dtype: int64"
      ]
     },
     "execution_count": 182,
     "metadata": {},
     "output_type": "execute_result"
    }
   ],
   "source": [
    "brooklyn['year_of_sale'].value_counts()"
   ]
  },
  {
   "cell_type": "code",
   "execution_count": 183,
   "metadata": {},
   "outputs": [
    {
     "data": {
      "text/plain": [
       "0.0       98764\n",
       "2008.0     1261\n",
       "2006.0     1030\n",
       "2009.0      992\n",
       "2015.0      951\n",
       "2007.0      904\n",
       "2013.0      852\n",
       "2014.0      815\n",
       "2005.0      810\n",
       "2004.0      725\n",
       "2012.0      625\n",
       "2011.0      611\n",
       "2010.0      611\n",
       "2016.0      490\n",
       "2003.0      320\n",
       "1998.0      174\n",
       "2001.0      172\n",
       "2000.0      165\n",
       "1991.0      162\n",
       "2002.0      158\n",
       "1997.0      132\n",
       "1999.0      122\n",
       "1995.0       78\n",
       "1994.0       78\n",
       "1996.0       77\n",
       "1993.0       72\n",
       "1989.0       58\n",
       "1988.0       57\n",
       "1992.0       38\n",
       "1990.0       36\n",
       "          ...  \n",
       "1959.0       10\n",
       "1975.0        8\n",
       "1973.0        7\n",
       "1960.0        7\n",
       "1984.0        6\n",
       "1968.0        6\n",
       "1983.0        6\n",
       "1971.0        5\n",
       "1957.0        5\n",
       "1972.0        5\n",
       "1966.0        5\n",
       "1956.0        5\n",
       "1982.0        4\n",
       "1979.0        4\n",
       "1976.0        4\n",
       "1970.0        4\n",
       "1981.0        3\n",
       "1967.0        3\n",
       "1954.0        3\n",
       "1977.0        3\n",
       "1941.0        2\n",
       "1955.0        2\n",
       "1940.0        2\n",
       "1969.0        2\n",
       "1935.0        1\n",
       "1938.0        1\n",
       "1950.0        1\n",
       "1952.0        1\n",
       "1974.0        1\n",
       "1949.0        1\n",
       "Name: YearAlter1, Length: 70, dtype: int64"
      ]
     },
     "execution_count": 183,
     "metadata": {},
     "output_type": "execute_result"
    }
   ],
   "source": [
    "brooklyn['YearAlter1'].value_counts()"
   ]
  },
  {
   "cell_type": "code",
   "execution_count": 184,
   "metadata": {},
   "outputs": [
    {
     "name": "stdout",
     "output_type": "stream",
     "text": [
      "29687     Never\n",
      "29688     Never\n",
      "29689      Once\n",
      "29691      Once\n",
      "29692     Never\n",
      "29693     Never\n",
      "29694     Never\n",
      "29695     Never\n",
      "29696     Never\n",
      "29699      Once\n",
      "29700      Once\n",
      "29701     Never\n",
      "29702      Once\n",
      "29703     Never\n",
      "29704     Never\n",
      "29705     Never\n",
      "29706     Never\n",
      "29707      Once\n",
      "29709     Never\n",
      "29710     Never\n",
      "29711     Never\n",
      "29712      Once\n",
      "29714     Never\n",
      "29715      Once\n",
      "29717      Once\n",
      "29719     Never\n",
      "29720     Never\n",
      "29722     Never\n",
      "29723      Once\n",
      "29724     Never\n",
      "          ...  \n",
      "390782    Never\n",
      "390785    Never\n",
      "390786    Never\n",
      "390787    Never\n",
      "390788    Never\n",
      "390791    Never\n",
      "390794    Never\n",
      "390795    Never\n",
      "390796    Never\n",
      "390798    Never\n",
      "390799    Never\n",
      "390800    Never\n",
      "390801    Never\n",
      "390803    Never\n",
      "390806     Once\n",
      "390808     Once\n",
      "390809    Never\n",
      "390840    Never\n",
      "390842    Never\n",
      "390843    Never\n",
      "390845    Never\n",
      "390846    Never\n",
      "390847    Never\n",
      "390848    Never\n",
      "390854    Never\n",
      "390858    Never\n",
      "390868     Once\n",
      "390869    Never\n",
      "390878    Never\n",
      "390879    Never\n",
      "Name: YearAlter1, Length: 111670, dtype: object\n"
     ]
    }
   ],
   "source": [
    "def once_Alter(x):\n",
    "    if x > \"0.0\":\n",
    "        return \"Once\"\n",
    "    else: return \"Never\"\n",
    "    \n",
    "    \n",
    "brooklyn['YearAlter1'] = brooklyn['YearAlter1'].apply(once_Alter)\n",
    "print(brooklyn['YearAlter1'])"
   ]
  },
  {
   "cell_type": "code",
   "execution_count": 185,
   "metadata": {},
   "outputs": [
    {
     "data": {
      "text/plain": [
       "Never    98764\n",
       "Once     12906\n",
       "Name: YearAlter1, dtype: int64"
      ]
     },
     "execution_count": 185,
     "metadata": {},
     "output_type": "execute_result"
    }
   ],
   "source": [
    "brooklyn['YearAlter1'].value_counts()"
   ]
  },
  {
   "cell_type": "code",
   "execution_count": 186,
   "metadata": {},
   "outputs": [
    {
     "data": {
      "text/plain": [
       "0.0       110152\n",
       "2008.0       142\n",
       "2006.0       125\n",
       "2009.0       125\n",
       "2010.0       121\n",
       "2004.0       115\n",
       "2013.0       109\n",
       "2012.0       107\n",
       "2015.0        92\n",
       "2011.0        89\n",
       "2014.0        88\n",
       "2007.0        82\n",
       "2016.0        78\n",
       "2005.0        66\n",
       "2003.0        50\n",
       "1998.0        20\n",
       "2000.0        19\n",
       "2002.0        15\n",
       "1997.0        13\n",
       "1999.0        13\n",
       "2001.0        12\n",
       "1996.0         9\n",
       "1995.0         5\n",
       "1989.0         4\n",
       "1992.0         4\n",
       "1963.0         2\n",
       "1993.0         2\n",
       "1991.0         2\n",
       "1990.0         2\n",
       "1973.0         2\n",
       "1994.0         1\n",
       "1976.0         1\n",
       "1975.0         1\n",
       "1966.0         1\n",
       "1960.0         1\n",
       "Name: YearAlter2, dtype: int64"
      ]
     },
     "execution_count": 186,
     "metadata": {},
     "output_type": "execute_result"
    }
   ],
   "source": [
    "brooklyn['YearAlter2'].value_counts()"
   ]
  },
  {
   "cell_type": "code",
   "execution_count": 187,
   "metadata": {},
   "outputs": [
    {
     "name": "stdout",
     "output_type": "stream",
     "text": [
      "29687     Unclear\n",
      "29688     Unclear\n",
      "29689     Unclear\n",
      "29691       Twice\n",
      "29692     Unclear\n",
      "29693     Unclear\n",
      "29694     Unclear\n",
      "29695     Unclear\n",
      "29696     Unclear\n",
      "29699     Unclear\n",
      "29700       Twice\n",
      "29701     Unclear\n",
      "29702     Unclear\n",
      "29703     Unclear\n",
      "29704     Unclear\n",
      "29705     Unclear\n",
      "29706     Unclear\n",
      "29707     Unclear\n",
      "29709     Unclear\n",
      "29710     Unclear\n",
      "29711     Unclear\n",
      "29712     Unclear\n",
      "29714     Unclear\n",
      "29715       Twice\n",
      "29717       Twice\n",
      "29719     Unclear\n",
      "29720     Unclear\n",
      "29722     Unclear\n",
      "29723     Unclear\n",
      "29724     Unclear\n",
      "           ...   \n",
      "390782    Unclear\n",
      "390785    Unclear\n",
      "390786    Unclear\n",
      "390787    Unclear\n",
      "390788    Unclear\n",
      "390791    Unclear\n",
      "390794    Unclear\n",
      "390795    Unclear\n",
      "390796    Unclear\n",
      "390798    Unclear\n",
      "390799    Unclear\n",
      "390800    Unclear\n",
      "390801    Unclear\n",
      "390803    Unclear\n",
      "390806    Unclear\n",
      "390808    Unclear\n",
      "390809    Unclear\n",
      "390840    Unclear\n",
      "390842    Unclear\n",
      "390843    Unclear\n",
      "390845    Unclear\n",
      "390846    Unclear\n",
      "390847    Unclear\n",
      "390848    Unclear\n",
      "390854    Unclear\n",
      "390858    Unclear\n",
      "390868    Unclear\n",
      "390869    Unclear\n",
      "390878    Unclear\n",
      "390879    Unclear\n",
      "Name: YearAlter2, Length: 111670, dtype: object\n"
     ]
    }
   ],
   "source": [
    "def twice_Alter(x):\n",
    "    if x > \"0.0\":\n",
    "        return \"Twice\"\n",
    "    else: return \"Unclear\"\n",
    "    \n",
    "    \n",
    "brooklyn['YearAlter2'] = brooklyn['YearAlter2'].apply(twice_Alter)\n",
    "print(brooklyn['YearAlter2'])"
   ]
  },
  {
   "cell_type": "code",
   "execution_count": 191,
   "metadata": {},
   "outputs": [
    {
     "data": {
      "text/plain": [
       "Unclear    110152\n",
       "Twice        1518\n",
       "Name: YearAlter2, dtype: int64"
      ]
     },
     "execution_count": 191,
     "metadata": {},
     "output_type": "execute_result"
    }
   ],
   "source": [
    "brooklyn['YearAlter2'].value_counts()"
   ]
  },
  {
   "cell_type": "code",
   "execution_count": 188,
   "metadata": {},
   "outputs": [],
   "source": [
    "brooklyn = brooklyn.drop(['lot','building_class_at_sale', 'SchoolDist',\n",
    "                          'Council', 'LandUse'], axis = 'columns')"
   ]
  },
  {
   "cell_type": "code",
   "execution_count": 189,
   "metadata": {},
   "outputs": [
    {
     "data": {
      "text/plain": [
       "(111670, 34)"
      ]
     },
     "execution_count": 189,
     "metadata": {},
     "output_type": "execute_result"
    }
   ],
   "source": [
    "brooklyn.shape"
   ]
  },
  {
   "cell_type": "code",
   "execution_count": 190,
   "metadata": {},
   "outputs": [
    {
     "data": {
      "text/plain": [
       "zip_code              object\n",
       "residential_units      int64\n",
       "commercial_units       int64\n",
       "total_units            int64\n",
       "land_sqft            float64\n",
       "gross_sqft           float64\n",
       "year_built            object\n",
       "tax_class_at_sale     object\n",
       "sale_price           float64\n",
       "year_of_sale          object\n",
       "ComArea              float64\n",
       "ResArea              float64\n",
       "OfficeArea           float64\n",
       "RetailArea           float64\n",
       "GarageArea           float64\n",
       "StrgeArea            float64\n",
       "FactryArea           float64\n",
       "OtherArea            float64\n",
       "NumBldgs             float64\n",
       "NumFloors            float64\n",
       "LotFront             float64\n",
       "LotDepth             float64\n",
       "BldgFront            float64\n",
       "BldgDepth            float64\n",
       "ProxCode              object\n",
       "AssessLand           float64\n",
       "AssessTot            float64\n",
       "ExemptLand           float64\n",
       "ExemptTot            float64\n",
       "YearAlter1            object\n",
       "YearAlter2            object\n",
       "ResidFAR             float64\n",
       "CommFAR              float64\n",
       "FacilFAR             float64\n",
       "dtype: object"
      ]
     },
     "execution_count": 190,
     "metadata": {},
     "output_type": "execute_result"
    }
   ],
   "source": [
    "brooklyn.dtypes"
   ]
  },
  {
   "cell_type": "markdown",
   "metadata": {},
   "source": [
    "# Converting Strings Into Dummy Variables"
   ]
  },
  {
   "cell_type": "code",
   "execution_count": 193,
   "metadata": {},
   "outputs": [],
   "source": [
    "brooklyn_new = brooklyn[['zip_code', 'residential_units', 'commercial_units', 'total_units', 'land_sqft',\n",
    "                         'gross_sqft', 'year_built', 'tax_class_at_sale', 'sale_price', 'year_of_sale',\n",
    "                         'ComArea', 'ResArea', 'OfficeArea', 'RetailArea', 'GarageArea', 'StrgeArea', 'FactryArea',\n",
    "                         'OtherArea', 'NumBldgs', 'NumFloors', 'LotFront', 'LotDepth', 'BldgFront', 'BldgDepth',\n",
    "                         'ProxCode', 'AssessLand', 'AssessTot', 'ExemptLand', 'ExemptTot', 'YearAlter1', \n",
    "                         'YearAlter2', 'ResidFAR', 'CommFAR', 'FacilFAR']]"
   ]
  },
  {
   "cell_type": "code",
   "execution_count": 194,
   "metadata": {},
   "outputs": [],
   "source": [
    "#Here I am officially converting the categorical variables into dummy variables\n",
    "\n",
    "\n",
    "brooklyn_new = pd.get_dummies(brooklyn_new, columns=['zip_code', 'year_built', 'tax_class_at_sale', \n",
    "                                                     'year_of_sale', 'ProxCode', 'YearAlter1', 'YearAlter2'], drop_first=True)"
   ]
  },
  {
   "cell_type": "code",
   "execution_count": 195,
   "metadata": {},
   "outputs": [
    {
     "data": {
      "text/plain": [
       "sale_price             1.000000\n",
       "zip_code_SW            0.239233\n",
       "year_of_sale_2017      0.174313\n",
       "BldgDepth              0.140244\n",
       "year_of_sale_2008      0.115979\n",
       "zip_code_SE            0.107099\n",
       "NumFloors              0.104329\n",
       "YearAlter1_Once        0.074698\n",
       "NumBldgs               0.071674\n",
       "tax_class_at_sale_2    0.071196\n",
       "LotFront               0.063425\n",
       "year_of_sale_2014      0.056854\n",
       "ProxCode_1.0           0.050168\n",
       "BldgFront              0.048526\n",
       "LotDepth               0.039772\n",
       "ComArea                0.026926\n",
       "OfficeArea             0.024089\n",
       "commercial_units       0.023308\n",
       "CommFAR                0.021277\n",
       "year_built_1900        0.021128\n",
       "RetailArea             0.018906\n",
       "tax_class_at_sale_4    0.016933\n",
       "gross_sqft             0.016746\n",
       "land_sqft              0.015858\n",
       "AssessLand             0.014790\n",
       "AssessTot              0.012642\n",
       "zip_code_NW            0.011943\n",
       "StrgeArea              0.011358\n",
       "ResArea                0.011205\n",
       "FactryArea             0.007049\n",
       "total_units            0.006611\n",
       "OtherArea              0.005737\n",
       "GarageArea             0.004605\n",
       "residential_units      0.003563\n",
       "ExemptTot              0.002688\n",
       "year_built_2000       -0.004437\n",
       "ExemptLand            -0.011616\n",
       "year_of_sale_2011     -0.013619\n",
       "ResidFAR              -0.018273\n",
       "ProxCode_2.0          -0.020470\n",
       "year_built_1950       -0.026149\n",
       "YearAlter2_Unclear    -0.043325\n",
       "ProxCode_3.0          -0.068398\n",
       "FacilFAR              -0.100200\n",
       "Name: sale_price, dtype: float64"
      ]
     },
     "execution_count": 195,
     "metadata": {},
     "output_type": "execute_result"
    }
   ],
   "source": [
    "brooklyn_new.corr().loc[:, 'sale_price'].sort_values(ascending=False)"
   ]
  },
  {
   "cell_type": "markdown",
   "metadata": {},
   "source": [
    "# Model With Dummy Variables"
   ]
  },
  {
   "cell_type": "code",
   "execution_count": 196,
   "metadata": {},
   "outputs": [],
   "source": [
    "#Separating the variables between X and y\n",
    "\n",
    "X = brooklyn_new.drop('sale_price', axis='columns')\n",
    "y = brooklyn_new.loc[:, 'sale_price']"
   ]
  },
  {
   "cell_type": "code",
   "execution_count": 197,
   "metadata": {},
   "outputs": [],
   "source": [
    "#Setting up a training set and a test set\n",
    "#test_size = .2 means 20% of the data is set aside for the test set. 80% of the data is used for the training set\n",
    "#You could also use train_size if you wish\n",
    "\n",
    "from sklearn.model_selection import train_test_split\n",
    "\n",
    "X_train, X_test, y_train, y_test = train_test_split(X, y, test_size = .2, random_state=30)"
   ]
  },
  {
   "cell_type": "code",
   "execution_count": 198,
   "metadata": {},
   "outputs": [
    {
     "data": {
      "text/plain": [
       "LinearRegression(copy_X=True, fit_intercept=True, n_jobs=None,\n",
       "         normalize=False)"
      ]
     },
     "execution_count": 198,
     "metadata": {},
     "output_type": "execute_result"
    }
   ],
   "source": [
    "#Setting up a linear regression model using the training set\n",
    "\n",
    "from sklearn.linear_model import LinearRegression\n",
    "\n",
    "lr = LinearRegression()\n",
    "\n",
    "lr.fit(X_train, y_train)"
   ]
  },
  {
   "cell_type": "code",
   "execution_count": 199,
   "metadata": {},
   "outputs": [
    {
     "name": "stdout",
     "output_type": "stream",
     "text": [
      "0.26021572831393713\n",
      "0.27679405462042894\n"
     ]
    }
   ],
   "source": [
    "#Scoring the model on the training set and test set.\n",
    "#These are the R-squared values for the training set and test set. \n",
    "\n",
    "print(lr.score(X_train, y_train))\n",
    "print(lr.score(X_test, y_test))"
   ]
  },
  {
   "cell_type": "markdown",
   "metadata": {},
   "source": [
    "#### First Impressions"
   ]
  },
  {
   "cell_type": "markdown",
   "metadata": {},
   "source": [
    "This is an incredible improvement over the first two run throughs of the model. The training set and test set captured 26% and 28% of the variance respectively. Both of the R-Squared values are close so there's high bias, but because they also explained a good chunk of the variance there's low(er) variance as well. The training error is only slightly lower than the test error and that's what we want."
   ]
  },
  {
   "cell_type": "markdown",
   "metadata": {},
   "source": [
    "# Checking for Collinearity"
   ]
  },
  {
   "cell_type": "code",
   "execution_count": 90,
   "metadata": {},
   "outputs": [],
   "source": [
    "brooklyn_numeric = brooklyn_new.select_dtypes(['int64', 'float64'])"
   ]
  },
  {
   "cell_type": "code",
   "execution_count": 92,
   "metadata": {},
   "outputs": [],
   "source": [
    "#Here I am creating a subset of the brooklyn dataset in order to test collinearity\n",
    "#The sns heatmap will only accept a certain amount of inputs\n",
    "\n",
    "bkn_1 = brooklyn_numeric.iloc[:, 0:8]"
   ]
  },
  {
   "cell_type": "code",
   "execution_count": 93,
   "metadata": {},
   "outputs": [],
   "source": [
    "#Here I am creating a subset of the brooklyn dataset in order to test collinearity\n",
    "#The sns heatmap will only accept a certain amount of inputs\n",
    "\n",
    "bkn_2 = brooklyn_numeric.iloc[:, 8:15]"
   ]
  },
  {
   "cell_type": "code",
   "execution_count": 94,
   "metadata": {},
   "outputs": [
    {
     "data": {
      "image/png": "[encoded data removed]",
      "text/plain": [
       "<Figure size 432x288 with 2 Axes>"
      ]
     },
     "metadata": {
      "needs_background": "light"
     },
     "output_type": "display_data"
    }
   ],
   "source": [
    "ax = sns.heatmap(bkn_1.corr(), vmin = -1, vmax = 1, annot=True)"
   ]
  },
  {
   "cell_type": "code",
   "execution_count": 95,
   "metadata": {},
   "outputs": [
    {
     "data": {
      "image/png": "[encoded data removed]",
      "text/plain": [
       "<Figure size 432x288 with 2 Axes>"
      ]
     },
     "metadata": {
      "needs_background": "light"
     },
     "output_type": "display_data"
    }
   ],
   "source": [
    "ax = sns.heatmap(bkn_2.corr(), vmin = -1, vmax = 1, annot=True)"
   ]
  },
  {
   "cell_type": "code",
   "execution_count": null,
   "metadata": {},
   "outputs": [],
   "source": []
  },
  {
   "cell_type": "code",
   "execution_count": null,
   "metadata": {},
   "outputs": [],
   "source": []
  },
  {
   "cell_type": "code",
   "execution_count": null,
   "metadata": {},
   "outputs": [],
   "source": []
  },
  {
   "cell_type": "code",
   "execution_count": null,
   "metadata": {},
   "outputs": [],
   "source": []
  },
  {
   "cell_type": "code",
   "execution_count": null,
   "metadata": {},
   "outputs": [],
   "source": []
  }
 ],
 "metadata": {
  "kernelspec": {
   "display_name": "Python 3",
   "language": "python",
   "name": "python3"
  },
  "language_info": {
   "codemirror_mode": {
    "name": "ipython",
    "version": 3
   },
   "file_extension": ".py",
   "mimetype": "text/x-python",
   "name": "python",
   "nbconvert_exporter": "python",
   "pygments_lexer": "ipython3",
   "version": "3.7.3"
  }
 },
 "nbformat": 4,
 "nbformat_minor": 2
}
